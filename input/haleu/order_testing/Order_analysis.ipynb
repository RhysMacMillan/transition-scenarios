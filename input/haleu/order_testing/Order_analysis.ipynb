{
 "cells": [
  {
   "cell_type": "markdown",
   "id": "fec69780",
   "metadata": {},
   "source": [
    "# Investigation into the effects of Prototype ordering\n",
    "\n",
    "A cycamore::ManagerInst is used to deploy reactors in order to meet a flat demand for \n",
    "energy -- 91.18 GWe-yr. It was observed that the order the prototypes were listed \n",
    "in the institution affects the number of each prototype built, with preferential \n",
    "building of prototypes listed first. This notebook looks at the results of each \n",
    "possible combination of prototype ordering. The prototypes in question are: Xe-100, MMR, \n",
    "and VOYGR. The scenarios modeled are defined as:\n",
    "* 1: Xe-100, VOYGR, MMR\n",
    "* 2: Xe-100, MMR, VOYGR\n",
    "* 3: VOYGR, Xe-100, MMR\n",
    "* 4: VOYGR, MMR, Xe-100\n",
    "* 5: MMR, VOYGR, Xe-100\n",
    "* 6: MMR, Xe-100, VOYGR"
   ]
  },
  {
   "cell_type": "code",
   "execution_count": 86,
   "id": "be0f5d50",
   "metadata": {},
   "outputs": [],
   "source": [
    "import sys\n",
    "import numpy as np\n",
    "import pandas as pd\n",
    "import matplotlib.pyplot as plt\n",
    "\n",
    "import cymetric as cym\n",
    "sys.path.insert(0, '../../../scripts/')\n",
    "import transition_metrics as tm"
   ]
  },
  {
   "cell_type": "code",
   "execution_count": 87,
   "id": "17e96e41",
   "metadata": {},
   "outputs": [],
   "source": [
    "def get_prototype_numbers(out_file, prototypes):\n",
    "    '''\n",
    "    This function get the Agents metrics for \n",
    "    a give output file and get the length of that\n",
    "    dataframe for each specified prototype\n",
    "    \n",
    "    Parameters:\n",
    "    -----------\n",
    "    out_file: str\n",
    "        name of output file to read\n",
    "    prototypes: list, str\n",
    "        list of strings of the name(s) of prototypes\n",
    "        \n",
    "    Returns:\n",
    "    --------\n",
    "    prototype_numbers: dict\n",
    "        dictionary of the number of prototypes deployed, the \n",
    "        prototype name are the keys of the dictionary\n",
    "    '''\n",
    "    evaler = tm.get_metrics(out_file)\n",
    "    agents = evaler.eval('Agents')\n",
    "    prototype_numbers = {}\n",
    "    prototype_numbers['total'] = 0\n",
    "    for prototype in prototypes:\n",
    "        prototype_agents = agents.loc[agents['Prototype'] == prototype]\n",
    "        prototype_numbers[prototype] = len(prototype_agents)\n",
    "        prototype_numbers['total'] += prototype_numbers[prototype]\n",
    "    return prototype_numbers"
   ]
  },
  {
   "cell_type": "code",
   "execution_count": 88,
   "id": "23f6a1e8",
   "metadata": {},
   "outputs": [
    {
     "data": {
      "text/plain": [
       "{'s1_reactors': {'total': 2033, 'MMR': 722, 'Xe-100': 795, 'VOYGR': 516},\n",
       " 's2_reactors': {'total': 1913, 'MMR': 782, 'Xe-100': 1131, 'VOYGR': 0},\n",
       " 's3_reactors': {'total': 3198, 'MMR': 1782, 'Xe-100': 137, 'VOYGR': 1279},\n",
       " 's4_reactors': {'total': 3198, 'MMR': 1782, 'Xe-100': 137, 'VOYGR': 1279},\n",
       " 's5_reactors': {'total': 7503, 'MMR': 7237, 'Xe-100': 255, 'VOYGR': 11},\n",
       " 's6_reactors': {'total': 7404, 'MMR': 7127, 'Xe-100': 277, 'VOYGR': 0},\n",
       " 'd3_reactors': {'total': 0, 'MMR': 0, 'Xe-100': 0, 'VOYGR': 0}}"
      ]
     },
     "execution_count": 88,
     "metadata": {},
     "output_type": "execute_result"
    }
   ],
   "source": [
    "out_files = {'s1_out':'s1_output.sqlite', 's2_out':'s2_output.sqlite', \n",
    "            's3_out':'s3_output.sqlite', 's4_out':'s4_output.sqlite',\n",
    "            's5_out':'s5_output.sqlite', 's6_out':'s6_output.sqlite', \n",
    "            'd3_out':'d3ploy_output.sqlite'}\n",
    "reactors = {'s1_reactors':'', 's2_reactors':'', 's3_reactors':'',\n",
    "            's4_reactors':'', 's5_reactors':'', 's6_reactors':'',\n",
    "            'd3_reactors':''}\n",
    "\n",
    "prototypes = ['MMR', 'Xe-100', 'VOYGR']\n",
    "for key in out_files:\n",
    "    scenario_reactors = key[:2] + '_reactors'\n",
    "    reactors[scenario_reactors] = get_prototype_numbers(out_files[key], prototypes)\n",
    "    \n",
    "reactors"
   ]
  },
  {
   "cell_type": "code",
   "execution_count": 13,
   "id": "eb9d57c7",
   "metadata": {},
   "outputs": [],
   "source": [
    "energy = {'s1_energy':'', 's2_energy':'', 's3_energy':'',\n",
    "          's4_energy':'', 's5_energy':'', 's6_energy':''}\n",
    "for key in out_files:\n",
    "    energy_key = key[:2] + '_energy'\n",
    "    energy[energy_key]= {}\n",
    "    energy[energy_key]['Annual'] = tm.get_annual_electricity(out_files[key])\n",
    "    energy[energy_key]['Monthly'] = tm.get_monthly_electricity(out_files[key])"
   ]
  },
  {
   "cell_type": "code",
   "execution_count": 14,
   "id": "5e3885c7",
   "metadata": {},
   "outputs": [
    {
     "data": {
      "text/plain": [
       "<matplotlib.legend.Legend at 0x7f20041a8f60>"
      ]
     },
     "execution_count": 14,
     "metadata": {},
     "output_type": "execute_result"
    },
    {
     "data": {
      "image/png": "[encoded data removed]",
      "text/plain": [
       "<Figure size 432x288 with 1 Axes>"
      ]
     },
     "metadata": {
      "needs_background": "light"
     },
     "output_type": "display_data"
    }
   ],
   "source": [
    "for key in energy:\n",
    "    plt.plot(energy[key]['Annual']['Year'], energy[key]['Annual']['Energy'], label=key[:2])\n",
    "plt.xlabel('Year')\n",
    "plt.ylabel('Energy (GWe-y)')\n",
    "plt.legend()"
   ]
  },
  {
   "cell_type": "code",
   "execution_count": 15,
   "id": "5e6a5657",
   "metadata": {},
   "outputs": [
    {
     "data": {
      "text/plain": [
       "<matplotlib.legend.Legend at 0x7f1f99fe3f98>"
      ]
     },
     "execution_count": 15,
     "metadata": {},
     "output_type": "execute_result"
    },
    {
     "data": {
      "image/png": "[encoded data removed]",
      "text/plain": [
       "<Figure size 432x288 with 1 Axes>"
      ]
     },
     "metadata": {
      "needs_background": "light"
     },
     "output_type": "display_data"
    }
   ],
   "source": [
    "for key in energy:\n",
    "    plt.plot(energy[key]['Monthly']['Year'], energy[key]['Monthly']['Energy'], label=key[:2])\n",
    "plt.xlabel('Year')\n",
    "plt.ylabel('Energy (GWe-m)')\n",
    "plt.legend()"
   ]
  },
  {
   "cell_type": "code",
   "execution_count": 16,
   "id": "bbcd2ea1",
   "metadata": {},
   "outputs": [],
   "source": [
    "evaler = tm.get_metrics(out_files['s1_out'])"
   ]
  },
  {
   "cell_type": "code",
   "execution_count": 19,
   "id": "54b9eb65",
   "metadata": {},
   "outputs": [
    {
     "data": {
      "text/html": [
       "<div>\n",
       "<style scoped>\n",
       "    .dataframe tbody tr th:only-of-type {\n",
       "        vertical-align: middle;\n",
       "    }\n",
       "\n",
       "    .dataframe tbody tr th {\n",
       "        vertical-align: top;\n",
       "    }\n",
       "\n",
       "    .dataframe thead th {\n",
       "        text-align: right;\n",
       "    }\n",
       "</style>\n",
       "<table border=\"1\" class=\"dataframe\">\n",
       "  <thead>\n",
       "    <tr style=\"text-align: right;\">\n",
       "      <th></th>\n",
       "      <th>SimId</th>\n",
       "      <th>TimeStep</th>\n",
       "    </tr>\n",
       "  </thead>\n",
       "  <tbody>\n",
       "    <tr>\n",
       "      <th>0</th>\n",
       "      <td>9ff039bd-15ea-4f0e-9c13-dd1c40ecfb3e</td>\n",
       "      <td>0</td>\n",
       "    </tr>\n",
       "    <tr>\n",
       "      <th>1</th>\n",
       "      <td>9ff039bd-15ea-4f0e-9c13-dd1c40ecfb3e</td>\n",
       "      <td>1</td>\n",
       "    </tr>\n",
       "    <tr>\n",
       "      <th>2</th>\n",
       "      <td>9ff039bd-15ea-4f0e-9c13-dd1c40ecfb3e</td>\n",
       "      <td>2</td>\n",
       "    </tr>\n",
       "    <tr>\n",
       "      <th>3</th>\n",
       "      <td>9ff039bd-15ea-4f0e-9c13-dd1c40ecfb3e</td>\n",
       "      <td>3</td>\n",
       "    </tr>\n",
       "    <tr>\n",
       "      <th>4</th>\n",
       "      <td>9ff039bd-15ea-4f0e-9c13-dd1c40ecfb3e</td>\n",
       "      <td>4</td>\n",
       "    </tr>\n",
       "    <tr>\n",
       "      <th>...</th>\n",
       "      <td>...</td>\n",
       "      <td>...</td>\n",
       "    </tr>\n",
       "    <tr>\n",
       "      <th>1495</th>\n",
       "      <td>9ff039bd-15ea-4f0e-9c13-dd1c40ecfb3e</td>\n",
       "      <td>1495</td>\n",
       "    </tr>\n",
       "    <tr>\n",
       "      <th>1496</th>\n",
       "      <td>9ff039bd-15ea-4f0e-9c13-dd1c40ecfb3e</td>\n",
       "      <td>1496</td>\n",
       "    </tr>\n",
       "    <tr>\n",
       "      <th>1497</th>\n",
       "      <td>9ff039bd-15ea-4f0e-9c13-dd1c40ecfb3e</td>\n",
       "      <td>1497</td>\n",
       "    </tr>\n",
       "    <tr>\n",
       "      <th>1498</th>\n",
       "      <td>9ff039bd-15ea-4f0e-9c13-dd1c40ecfb3e</td>\n",
       "      <td>1498</td>\n",
       "    </tr>\n",
       "    <tr>\n",
       "      <th>1499</th>\n",
       "      <td>9ff039bd-15ea-4f0e-9c13-dd1c40ecfb3e</td>\n",
       "      <td>1499</td>\n",
       "    </tr>\n",
       "  </tbody>\n",
       "</table>\n",
       "<p>1500 rows × 2 columns</p>\n",
       "</div>"
      ],
      "text/plain": [
       "                                     SimId  TimeStep\n",
       "0     9ff039bd-15ea-4f0e-9c13-dd1c40ecfb3e         0\n",
       "1     9ff039bd-15ea-4f0e-9c13-dd1c40ecfb3e         1\n",
       "2     9ff039bd-15ea-4f0e-9c13-dd1c40ecfb3e         2\n",
       "3     9ff039bd-15ea-4f0e-9c13-dd1c40ecfb3e         3\n",
       "4     9ff039bd-15ea-4f0e-9c13-dd1c40ecfb3e         4\n",
       "...                                    ...       ...\n",
       "1495  9ff039bd-15ea-4f0e-9c13-dd1c40ecfb3e      1495\n",
       "1496  9ff039bd-15ea-4f0e-9c13-dd1c40ecfb3e      1496\n",
       "1497  9ff039bd-15ea-4f0e-9c13-dd1c40ecfb3e      1497\n",
       "1498  9ff039bd-15ea-4f0e-9c13-dd1c40ecfb3e      1498\n",
       "1499  9ff039bd-15ea-4f0e-9c13-dd1c40ecfb3e      1499\n",
       "\n",
       "[1500 rows x 2 columns]"
      ]
     },
     "execution_count": 19,
     "metadata": {},
     "output_type": "execute_result"
    }
   ],
   "source": [
    "evaler.eval('TimeList')"
   ]
  },
  {
   "cell_type": "code",
   "execution_count": null,
   "id": "902d30ae",
   "metadata": {},
   "outputs": [],
   "source": []
  }
 ],
 "metadata": {
  "kernelspec": {
   "display_name": "Python [conda env:cyclus-env] *",
   "language": "python",
   "name": "conda-env-cyclus-env-py"
  },
  "language_info": {
   "codemirror_mode": {
    "name": "ipython",
    "version": 3
   },
   "file_extension": ".py",
   "mimetype": "text/x-python",
   "name": "python",
   "nbconvert_exporter": "python",
   "pygments_lexer": "ipython3",
   "version": "3.6.11"
  }
 },
 "nbformat": 4,
 "nbformat_minor": 5
}
