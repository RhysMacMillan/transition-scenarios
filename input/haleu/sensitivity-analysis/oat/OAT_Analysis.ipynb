{
 "cells": [
  {
   "cell_type": "code",
   "execution_count": 5,
   "metadata": {},
   "outputs": [],
   "source": [
    "import numpy as np\n",
    "import pandas as pd\n",
    "import matplotlib.pyplot as plt\n",
    "import sys \n",
    "\n",
    "sys.path.insert(0, '../../../../scripts/')\n",
    "import dataframe_analysis as dfa\n",
    "import create_AR_DeployInst as cdi\n",
    "import dakota_output as oup"
   ]
  },
  {
   "cell_type": "code",
   "execution_count": 2,
   "metadata": {},
   "outputs": [],
   "source": [
    "#General plotting variables\n",
    "metrics = {'enr_u':'Fuel Mass', 'haleu':'HALEU Mass', 'swu':'Total SWU', \n",
    "          'haleu_swu':'HALEU SWU', 'waste':'SNF', 'feed':'HALEU Feed'}\n",
    "colors = ['tab:blue', 'tab:orange','tab:purple']\n",
    "markers = ['d','o','*', 's','v','P']"
   ]
  },
  {
   "cell_type": "markdown",
   "metadata": {},
   "source": [
    "## Transition Start Time\n",
    "The transition start time ranges from times tep 721-901, in increments of 3 months.\n",
    "\n",
    "The first part of the analysis compares the results of using the DeployInst and the ManagerInst in Cyclus, comparing \n",
    "the results from different methods to deploy the advanced reactors. The second part of the analysis is for just the\n",
    "results from deploying advanced reactors with the DeployInst, with these results in publsihed literature."
   ]
  },
  {
   "cell_type": "code",
   "execution_count": 6,
   "metadata": {},
   "outputs": [],
   "source": [
    "ts_file = \"transition_start/transition_start.dat\"\n",
    "ts_data = pd.read_csv(ts_file, sep=\"\\s+\",header=0)\n",
    "ts_data['Year'] = ts_data['ts']/12 + 1965"
   ]
  },
  {
   "cell_type": "code",
   "execution_count": 8,
   "metadata": {},
   "outputs": [
    {
     "data": {
      "image/png": "[encoded data removed]",
      "text/plain": [
       "<Figure size 432x288 with 1 Axes>"
      ]
     },
     "metadata": {
      "needs_background": "light"
     },
     "output_type": "display_data"
    }
   ],
   "source": [
    "plt.figure\n",
    "for index, key in enumerate(metrics): \n",
    "    plt.plot(ts_data['Year'][20:], ts_data[key][20:]/ts_data[key][20],label=metrics[key], \n",
    "            linestyle='None', marker =markers[index])\n",
    "plt.xlabel('Transition Start Time')\n",
    "plt.legend()\n",
    "plt.ylabel('Relative to January 2030 Start')\n",
    "plt.savefig('figures/ts.pdf')"
   ]
  },
  {
   "cell_type": "code",
   "execution_count": 9,
   "metadata": {},
   "outputs": [],
   "source": [
    "ts_results = pd.DataFrame(columns=['Metric','Minimum','Maximum','Average','Standard Deviation'])\n",
    "for key in metrics:\n",
    "    minimum = ts_data[key].min()\n",
    "    maximum = ts_data[key].max()\n",
    "    average = ts_data[key].mean()\n",
    "    std = ts_data[key].std()\n",
    "    ts_results.loc[len(ts_results)] = [metrics[key], minimum, maximum, average, std]"
   ]
  },
  {
   "cell_type": "code",
   "execution_count": 10,
   "metadata": {},
   "outputs": [
    {
     "data": {
      "text/html": [
       "<div>\n",
       "<style scoped>\n",
       "    .dataframe tbody tr th:only-of-type {\n",
       "        vertical-align: middle;\n",
       "    }\n",
       "\n",
       "    .dataframe tbody tr th {\n",
       "        vertical-align: top;\n",
       "    }\n",
       "\n",
       "    .dataframe thead th {\n",
       "        text-align: right;\n",
       "    }\n",
       "</style>\n",
       "<table border=\"1\" class=\"dataframe\">\n",
       "  <thead>\n",
       "    <tr style=\"text-align: right;\">\n",
       "      <th></th>\n",
       "      <th>Metric</th>\n",
       "      <th>Minimum</th>\n",
       "      <th>Maximum</th>\n",
       "      <th>Average</th>\n",
       "      <th>Standard Deviation</th>\n",
       "    </tr>\n",
       "  </thead>\n",
       "  <tbody>\n",
       "    <tr>\n",
       "      <th>0</th>\n",
       "      <td>Fuel Mass</td>\n",
       "      <td>2.744896e+07</td>\n",
       "      <td>2.950057e+07</td>\n",
       "      <td>2.889945e+07</td>\n",
       "      <td>6.674731e+05</td>\n",
       "    </tr>\n",
       "    <tr>\n",
       "      <th>1</th>\n",
       "      <td>HALEU Mass</td>\n",
       "      <td>2.716371e+07</td>\n",
       "      <td>2.874055e+07</td>\n",
       "      <td>2.835784e+07</td>\n",
       "      <td>4.810911e+05</td>\n",
       "    </tr>\n",
       "    <tr>\n",
       "      <th>2</th>\n",
       "      <td>Total SWU</td>\n",
       "      <td>9.517695e+08</td>\n",
       "      <td>1.017821e+09</td>\n",
       "      <td>1.000756e+09</td>\n",
       "      <td>2.109959e+07</td>\n",
       "    </tr>\n",
       "    <tr>\n",
       "      <th>3</th>\n",
       "      <td>HALEU SWU</td>\n",
       "      <td>9.498443e+08</td>\n",
       "      <td>1.013015e+09</td>\n",
       "      <td>9.971003e+08</td>\n",
       "      <td>1.987717e+07</td>\n",
       "    </tr>\n",
       "    <tr>\n",
       "      <th>4</th>\n",
       "      <td>SNF</td>\n",
       "      <td>1.065712e+06</td>\n",
       "      <td>2.093576e+06</td>\n",
       "      <td>1.681518e+06</td>\n",
       "      <td>3.964172e+05</td>\n",
       "    </tr>\n",
       "    <tr>\n",
       "      <th>5</th>\n",
       "      <td>HALEU Feed</td>\n",
       "      <td>8.238462e+08</td>\n",
       "      <td>8.779445e+08</td>\n",
       "      <td>8.643595e+08</td>\n",
       "      <td>1.697621e+07</td>\n",
       "    </tr>\n",
       "  </tbody>\n",
       "</table>\n",
       "</div>"
      ],
      "text/plain": [
       "       Metric       Minimum       Maximum       Average  Standard Deviation\n",
       "0   Fuel Mass  2.744896e+07  2.950057e+07  2.889945e+07        6.674731e+05\n",
       "1  HALEU Mass  2.716371e+07  2.874055e+07  2.835784e+07        4.810911e+05\n",
       "2   Total SWU  9.517695e+08  1.017821e+09  1.000756e+09        2.109959e+07\n",
       "3   HALEU SWU  9.498443e+08  1.013015e+09  9.971003e+08        1.987717e+07\n",
       "4         SNF  1.065712e+06  2.093576e+06  1.681518e+06        3.964172e+05\n",
       "5  HALEU Feed  8.238462e+08  8.779445e+08  8.643595e+08        1.697621e+07"
      ]
     },
     "execution_count": 10,
     "metadata": {},
     "output_type": "execute_result"
    }
   ],
   "source": [
    "ts_results"
   ]
  },
  {
   "cell_type": "markdown",
   "metadata": {},
   "source": [
    "## LWR Lifetime\n",
    "Vary the percent of LWRs that operate for 80 years, with the other reactors operating for 60 years.\n",
    "Percent varies between 0-50% in 5% increments"
   ]
  },
  {
   "cell_type": "code",
   "execution_count": 31,
   "metadata": {},
   "outputs": [],
   "source": [
    "lwr_file = \"lwr_lifetime/lwr_lifetime.dat\"\n",
    "lwr_data = pd.read_csv(lwr_file, sep=\"\\s+\",header=0)"
   ]
  },
  {
   "cell_type": "code",
   "execution_count": 32,
   "metadata": {},
   "outputs": [
    {
     "data": {
      "image/png": "[encoded data removed]",
      "text/plain": [
       "<Figure size 432x288 with 1 Axes>"
      ]
     },
     "metadata": {
      "needs_background": "light"
     },
     "output_type": "display_data"
    }
   ],
   "source": [
    "plt.figure\n",
    "for index, key in enumerate(metrics): \n",
    "    plt.plot(lwr_data['lwr'], lwr_data[key]/lwr_data[key][0],label=metrics[key], \n",
    "            linestyle='None', marker = markers[index])\n",
    "plt.xlabel('Percent of LWRs operating for 80 years')\n",
    "plt.legend()\n",
    "plt.ylabel('Relative to 0%')\n",
    "plt.savefig('figures/lwr.pdf')"
   ]
  },
  {
   "cell_type": "code",
   "execution_count": 33,
   "metadata": {},
   "outputs": [],
   "source": [
    "lwr_results = pd.DataFrame(columns=['Metric','Minimum','Maximum','Average','Standard Deviation'])\n",
    "for key in metrics:\n",
    "    minimum = lwr_data[key].min()\n",
    "    maximum = lwr_data[key].max()\n",
    "    average = lwr_data[key].mean()\n",
    "    std = lwr_data[key].std()\n",
    "    lwr_results.loc[len(lwr_results)] = [metrics[key], minimum, maximum, average, std]"
   ]
  },
  {
   "cell_type": "code",
   "execution_count": 34,
   "metadata": {
    "scrolled": true
   },
   "outputs": [
    {
     "data": {
      "text/html": [
       "<div>\n",
       "<style scoped>\n",
       "    .dataframe tbody tr th:only-of-type {\n",
       "        vertical-align: middle;\n",
       "    }\n",
       "\n",
       "    .dataframe tbody tr th {\n",
       "        vertical-align: top;\n",
       "    }\n",
       "\n",
       "    .dataframe thead th {\n",
       "        text-align: right;\n",
       "    }\n",
       "</style>\n",
       "<table border=\"1\" class=\"dataframe\">\n",
       "  <thead>\n",
       "    <tr style=\"text-align: right;\">\n",
       "      <th></th>\n",
       "      <th>Metric</th>\n",
       "      <th>Minimum</th>\n",
       "      <th>Maximum</th>\n",
       "      <th>Average</th>\n",
       "      <th>Standard Deviation</th>\n",
       "    </tr>\n",
       "  </thead>\n",
       "  <tbody>\n",
       "    <tr>\n",
       "      <th>0</th>\n",
       "      <td>Fuel Mass</td>\n",
       "      <td>2.110860e+07</td>\n",
       "      <td>2.837033e+07</td>\n",
       "      <td>2.468786e+07</td>\n",
       "      <td>2.403330e+06</td>\n",
       "    </tr>\n",
       "    <tr>\n",
       "      <th>1</th>\n",
       "      <td>HALEU Mass</td>\n",
       "      <td>2.069912e+07</td>\n",
       "      <td>2.823230e+07</td>\n",
       "      <td>2.433652e+07</td>\n",
       "      <td>2.489596e+06</td>\n",
       "    </tr>\n",
       "    <tr>\n",
       "      <th>2</th>\n",
       "      <td>Total SWU</td>\n",
       "      <td>7.337391e+08</td>\n",
       "      <td>9.980028e+08</td>\n",
       "      <td>8.617081e+08</td>\n",
       "      <td>8.745089e+07</td>\n",
       "    </tr>\n",
       "    <tr>\n",
       "      <th>3</th>\n",
       "      <td>HALEU SWU</td>\n",
       "      <td>7.309756e+08</td>\n",
       "      <td>9.970713e+08</td>\n",
       "      <td>8.593369e+08</td>\n",
       "      <td>8.804480e+07</td>\n",
       "    </tr>\n",
       "    <tr>\n",
       "      <th>4</th>\n",
       "      <td>SNF</td>\n",
       "      <td>1.281681e+06</td>\n",
       "      <td>1.765749e+06</td>\n",
       "      <td>1.491726e+06</td>\n",
       "      <td>1.270866e+05</td>\n",
       "    </tr>\n",
       "    <tr>\n",
       "      <th>5</th>\n",
       "      <td>HALEU Feed</td>\n",
       "      <td>6.333917e+08</td>\n",
       "      <td>8.639585e+08</td>\n",
       "      <td>7.446248e+08</td>\n",
       "      <td>7.628013e+07</td>\n",
       "    </tr>\n",
       "  </tbody>\n",
       "</table>\n",
       "</div>"
      ],
      "text/plain": [
       "       Metric       Minimum       Maximum       Average  Standard Deviation\n",
       "0   Fuel Mass  2.110860e+07  2.837033e+07  2.468786e+07        2.403330e+06\n",
       "1  HALEU Mass  2.069912e+07  2.823230e+07  2.433652e+07        2.489596e+06\n",
       "2   Total SWU  7.337391e+08  9.980028e+08  8.617081e+08        8.745089e+07\n",
       "3   HALEU SWU  7.309756e+08  9.970713e+08  8.593369e+08        8.804480e+07\n",
       "4         SNF  1.281681e+06  1.765749e+06  1.491726e+06        1.270866e+05\n",
       "5  HALEU Feed  6.333917e+08  8.639585e+08  7.446248e+08        7.628013e+07"
      ]
     },
     "execution_count": 34,
     "metadata": {},
     "output_type": "execute_result"
    }
   ],
   "source": [
    "lwr_results"
   ]
  },
  {
   "cell_type": "markdown",
   "metadata": {},
   "source": [
    "## Build Share\n",
    "The new build share is specified for a single reactor type ranges from 0-50% \n",
    "in increments of 5%. This is analysis is performed 3 times, specifying the \n",
    "build share for each type of reactor. "
   ]
  },
  {
   "cell_type": "markdown",
   "metadata": {},
   "source": [
    "### Xe-100"
   ]
  },
  {
   "cell_type": "code",
   "execution_count": 11,
   "metadata": {},
   "outputs": [],
   "source": [
    "xe100_file = \"build-share/xe-100/xe100_build.dat\"\n",
    "xe100_data = pd.read_csv(xe100_file, sep=\"\\s+\",header=0)"
   ]
  },
  {
   "cell_type": "code",
   "execution_count": 30,
   "metadata": {},
   "outputs": [
    {
     "data": {
      "image/png": "[encoded data removed]",
      "text/plain": [
       "<Figure size 432x288 with 1 Axes>"
      ]
     },
     "metadata": {
      "needs_background": "light"
     },
     "output_type": "display_data"
    }
   ],
   "source": [
    "plt.figure\n",
    "for index, key in enumerate(metrics): \n",
    "    plt.plot(xe100_data['xe100'], xe100_data[key]/xe100_data[key][0],label=metrics[key], \n",
    "            linestyle='None', marker = markers[index])\n",
    "plt.xlabel('Percent Build Share')\n",
    "plt.legend()\n",
    "plt.ylabel('Relative to 10% build share')\n",
    "plt.savefig('figures/xe100.pdf')"
   ]
  },
  {
   "cell_type": "code",
   "execution_count": 13,
   "metadata": {},
   "outputs": [],
   "source": [
    "xe100_results = pd.DataFrame(columns=['Metric','Minimum','Maximum','Average','Standard Deviation'])\n",
    "for key in metrics:\n",
    "    minimum = xe100_data[key].min()\n",
    "    maximum = xe100_data[key].max()\n",
    "    average = xe100_data[key].mean()\n",
    "    std = xe100_data[key].std()\n",
    "    xe100_results.loc[len(xe100_results)] = [metrics[key], minimum, maximum, average, std]"
   ]
  },
  {
   "cell_type": "code",
   "execution_count": 14,
   "metadata": {},
   "outputs": [
    {
     "data": {
      "text/html": [
       "<div>\n",
       "<style scoped>\n",
       "    .dataframe tbody tr th:only-of-type {\n",
       "        vertical-align: middle;\n",
       "    }\n",
       "\n",
       "    .dataframe tbody tr th {\n",
       "        vertical-align: top;\n",
       "    }\n",
       "\n",
       "    .dataframe thead th {\n",
       "        text-align: right;\n",
       "    }\n",
       "</style>\n",
       "<table border=\"1\" class=\"dataframe\">\n",
       "  <thead>\n",
       "    <tr style=\"text-align: right;\">\n",
       "      <th></th>\n",
       "      <th>Metric</th>\n",
       "      <th>Minimum</th>\n",
       "      <th>Maximum</th>\n",
       "      <th>Average</th>\n",
       "      <th>Standard Deviation</th>\n",
       "    </tr>\n",
       "  </thead>\n",
       "  <tbody>\n",
       "    <tr>\n",
       "      <th>0</th>\n",
       "      <td>Fuel Mass</td>\n",
       "      <td>7.745462e+07</td>\n",
       "      <td>1.348354e+08</td>\n",
       "      <td>1.053635e+08</td>\n",
       "      <td>1.849812e+07</td>\n",
       "    </tr>\n",
       "    <tr>\n",
       "      <th>1</th>\n",
       "      <td>HALEU Mass</td>\n",
       "      <td>2.713372e+06</td>\n",
       "      <td>1.901488e+07</td>\n",
       "      <td>1.194617e+07</td>\n",
       "      <td>4.921877e+06</td>\n",
       "    </tr>\n",
       "    <tr>\n",
       "      <th>2</th>\n",
       "      <td>Total SWU</td>\n",
       "      <td>1.014113e+09</td>\n",
       "      <td>1.079700e+09</td>\n",
       "      <td>1.072108e+09</td>\n",
       "      <td>1.927233e+07</td>\n",
       "    </tr>\n",
       "    <tr>\n",
       "      <th>3</th>\n",
       "      <td>HALEU SWU</td>\n",
       "      <td>1.224227e+08</td>\n",
       "      <td>6.835503e+08</td>\n",
       "      <td>4.416356e+08</td>\n",
       "      <td>1.690061e+08</td>\n",
       "    </tr>\n",
       "    <tr>\n",
       "      <th>4</th>\n",
       "      <td>SNF</td>\n",
       "      <td>5.332809e+07</td>\n",
       "      <td>1.184229e+08</td>\n",
       "      <td>8.431978e+07</td>\n",
       "      <td>2.069405e+07</td>\n",
       "    </tr>\n",
       "    <tr>\n",
       "      <th>5</th>\n",
       "      <td>HALEU Feed</td>\n",
       "      <td>1.038090e+08</td>\n",
       "      <td>5.912689e+08</td>\n",
       "      <td>3.809912e+08</td>\n",
       "      <td>1.468541e+08</td>\n",
       "    </tr>\n",
       "  </tbody>\n",
       "</table>\n",
       "</div>"
      ],
      "text/plain": [
       "       Metric       Minimum       Maximum       Average  Standard Deviation\n",
       "0   Fuel Mass  7.745462e+07  1.348354e+08  1.053635e+08        1.849812e+07\n",
       "1  HALEU Mass  2.713372e+06  1.901488e+07  1.194617e+07        4.921877e+06\n",
       "2   Total SWU  1.014113e+09  1.079700e+09  1.072108e+09        1.927233e+07\n",
       "3   HALEU SWU  1.224227e+08  6.835503e+08  4.416356e+08        1.690061e+08\n",
       "4         SNF  5.332809e+07  1.184229e+08  8.431978e+07        2.069405e+07\n",
       "5  HALEU Feed  1.038090e+08  5.912689e+08  3.809912e+08        1.468541e+08"
      ]
     },
     "execution_count": 14,
     "metadata": {},
     "output_type": "execute_result"
    }
   ],
   "source": [
    "xe100_results"
   ]
  },
  {
   "cell_type": "markdown",
   "metadata": {},
   "source": [
    "### MMR "
   ]
  },
  {
   "cell_type": "code",
   "execution_count": 15,
   "metadata": {},
   "outputs": [],
   "source": [
    "mmr_file = \"build-share/mmr/mmr_build.dat\"\n",
    "mmr_data = pd.read_csv(mmr_file, sep=\"\\s+\",header=0)"
   ]
  },
  {
   "cell_type": "code",
   "execution_count": 16,
   "metadata": {},
   "outputs": [
    {
     "data": {
      "image/png": "[encoded data removed]",
      "text/plain": [
       "<Figure size 432x288 with 1 Axes>"
      ]
     },
     "metadata": {
      "needs_background": "light"
     },
     "output_type": "display_data"
    }
   ],
   "source": [
    "plt.figure\n",
    "for index, key in enumerate(metrics): \n",
    "    plt.plot(mmr_data['mmr'], mmr_data[key]/mmr_data[key][0],label=metrics[key], \n",
    "            linestyle='None', marker = markers[index])\n",
    "plt.xlabel('Percent Build Share')\n",
    "plt.legend()\n",
    "plt.ylabel('Relative to 0% build share')\n",
    "plt.savefig('figures/mmr.pdf')"
   ]
  },
  {
   "cell_type": "code",
   "execution_count": 17,
   "metadata": {},
   "outputs": [],
   "source": [
    "mmr_results = pd.DataFrame(columns=['Metric','Minimum','Maximum','Average','Standard Deviation'])\n",
    "for key in metrics:\n",
    "    minimum = mmr_data[key].min()\n",
    "    maximum = mmr_data[key].max()\n",
    "    average = mmr_data[key].mean()\n",
    "    std = mmr_data[key].std()\n",
    "    mmr_results.loc[len(mmr_results)] = [metrics[key], minimum, maximum, average, std]"
   ]
  },
  {
   "cell_type": "code",
   "execution_count": 18,
   "metadata": {},
   "outputs": [
    {
     "data": {
      "text/html": [
       "<div>\n",
       "<style scoped>\n",
       "    .dataframe tbody tr th:only-of-type {\n",
       "        vertical-align: middle;\n",
       "    }\n",
       "\n",
       "    .dataframe tbody tr th {\n",
       "        vertical-align: top;\n",
       "    }\n",
       "\n",
       "    .dataframe thead th {\n",
       "        text-align: right;\n",
       "    }\n",
       "</style>\n",
       "<table border=\"1\" class=\"dataframe\">\n",
       "  <thead>\n",
       "    <tr style=\"text-align: right;\">\n",
       "      <th></th>\n",
       "      <th>Metric</th>\n",
       "      <th>Minimum</th>\n",
       "      <th>Maximum</th>\n",
       "      <th>Average</th>\n",
       "      <th>Standard Deviation</th>\n",
       "    </tr>\n",
       "  </thead>\n",
       "  <tbody>\n",
       "    <tr>\n",
       "      <th>0</th>\n",
       "      <td>Fuel Mass</td>\n",
       "      <td>3.489072e+07</td>\n",
       "      <td>5.535866e+07</td>\n",
       "      <td>4.589138e+07</td>\n",
       "      <td>6.154235e+06</td>\n",
       "    </tr>\n",
       "    <tr>\n",
       "      <th>1</th>\n",
       "      <td>HALEU Mass</td>\n",
       "      <td>2.567986e+07</td>\n",
       "      <td>3.747984e+07</td>\n",
       "      <td>3.014525e+07</td>\n",
       "      <td>4.060205e+06</td>\n",
       "    </tr>\n",
       "    <tr>\n",
       "      <th>2</th>\n",
       "      <td>Total SWU</td>\n",
       "      <td>9.473787e+08</td>\n",
       "      <td>1.643690e+09</td>\n",
       "      <td>1.244512e+09</td>\n",
       "      <td>2.288657e+08</td>\n",
       "    </tr>\n",
       "    <tr>\n",
       "      <th>3</th>\n",
       "      <td>HALEU SWU</td>\n",
       "      <td>8.852147e+08</td>\n",
       "      <td>1.523026e+09</td>\n",
       "      <td>1.138242e+09</td>\n",
       "      <td>2.159062e+08</td>\n",
       "    </tr>\n",
       "    <tr>\n",
       "      <th>4</th>\n",
       "      <td>SNF</td>\n",
       "      <td>8.148070e+06</td>\n",
       "      <td>3.345936e+07</td>\n",
       "      <td>2.167164e+07</td>\n",
       "      <td>7.775457e+06</td>\n",
       "    </tr>\n",
       "    <tr>\n",
       "      <th>5</th>\n",
       "      <td>HALEU Feed</td>\n",
       "      <td>7.688882e+08</td>\n",
       "      <td>1.302682e+09</td>\n",
       "      <td>9.799999e+08</td>\n",
       "      <td>1.808883e+08</td>\n",
       "    </tr>\n",
       "  </tbody>\n",
       "</table>\n",
       "</div>"
      ],
      "text/plain": [
       "       Metric       Minimum       Maximum       Average  Standard Deviation\n",
       "0   Fuel Mass  3.489072e+07  5.535866e+07  4.589138e+07        6.154235e+06\n",
       "1  HALEU Mass  2.567986e+07  3.747984e+07  3.014525e+07        4.060205e+06\n",
       "2   Total SWU  9.473787e+08  1.643690e+09  1.244512e+09        2.288657e+08\n",
       "3   HALEU SWU  8.852147e+08  1.523026e+09  1.138242e+09        2.159062e+08\n",
       "4         SNF  8.148070e+06  3.345936e+07  2.167164e+07        7.775457e+06\n",
       "5  HALEU Feed  7.688882e+08  1.302682e+09  9.799999e+08        1.808883e+08"
      ]
     },
     "execution_count": 18,
     "metadata": {},
     "output_type": "execute_result"
    }
   ],
   "source": [
    "mmr_results"
   ]
  },
  {
   "cell_type": "markdown",
   "metadata": {},
   "source": [
    "### VOYGR"
   ]
  },
  {
   "cell_type": "code",
   "execution_count": 19,
   "metadata": {},
   "outputs": [],
   "source": [
    "voygr_file = \"build-share/voygr/voygr_build.dat\"\n",
    "voygr_data = pd.read_csv(voygr_file, sep=\"\\s+\",header=0)"
   ]
  },
  {
   "cell_type": "code",
   "execution_count": 35,
   "metadata": {},
   "outputs": [
    {
     "data": {
      "image/png": "[encoded data removed]",
      "text/plain": [
       "<Figure size 432x288 with 1 Axes>"
      ]
     },
     "metadata": {
      "needs_background": "light"
     },
     "output_type": "display_data"
    }
   ],
   "source": [
    "plt.figure\n",
    "for index, key in enumerate(metrics): \n",
    "    plt.plot(voygr_data['voygr'], voygr_data[key]/voygr_data[key][0],label=metrics[key], \n",
    "            linestyle='None', marker = markers[index])\n",
    "plt.xlabel('Percent Build Share')\n",
    "plt.legend()\n",
    "plt.ylabel('Relative to 0% build share')\n",
    "plt.savefig('figures/voygr.pdf')"
   ]
  },
  {
   "cell_type": "code",
   "execution_count": 21,
   "metadata": {},
   "outputs": [],
   "source": [
    "voygr_results = pd.DataFrame(columns=['Metric','Minimum','Maximum','Average','Standard Deviation'])\n",
    "for key in metrics:\n",
    "    minimum = voygr_data[key].min()\n",
    "    maximum = voygr_data[key].max()\n",
    "    average = voygr_data[key].mean()\n",
    "    std = voygr_data[key].std()\n",
    "    voygr_results.loc[len(voygr_results)] = [metrics[key], minimum, maximum, average, std]"
   ]
  },
  {
   "cell_type": "code",
   "execution_count": 22,
   "metadata": {},
   "outputs": [
    {
     "data": {
      "text/html": [
       "<div>\n",
       "<style scoped>\n",
       "    .dataframe tbody tr th:only-of-type {\n",
       "        vertical-align: middle;\n",
       "    }\n",
       "\n",
       "    .dataframe tbody tr th {\n",
       "        vertical-align: top;\n",
       "    }\n",
       "\n",
       "    .dataframe thead th {\n",
       "        text-align: right;\n",
       "    }\n",
       "</style>\n",
       "<table border=\"1\" class=\"dataframe\">\n",
       "  <thead>\n",
       "    <tr style=\"text-align: right;\">\n",
       "      <th></th>\n",
       "      <th>Metric</th>\n",
       "      <th>Minimum</th>\n",
       "      <th>Maximum</th>\n",
       "      <th>Average</th>\n",
       "      <th>Standard Deviation</th>\n",
       "    </tr>\n",
       "  </thead>\n",
       "  <tbody>\n",
       "    <tr>\n",
       "      <th>0</th>\n",
       "      <td>Fuel Mass</td>\n",
       "      <td>2.929966e+07</td>\n",
       "      <td>9.522916e+07</td>\n",
       "      <td>6.692176e+07</td>\n",
       "      <td>2.013454e+07</td>\n",
       "    </tr>\n",
       "    <tr>\n",
       "      <th>1</th>\n",
       "      <td>HALEU Mass</td>\n",
       "      <td>1.485266e+07</td>\n",
       "      <td>2.929966e+07</td>\n",
       "      <td>2.159773e+07</td>\n",
       "      <td>4.620543e+06</td>\n",
       "    </tr>\n",
       "    <tr>\n",
       "      <th>2</th>\n",
       "      <td>Total SWU</td>\n",
       "      <td>1.039607e+09</td>\n",
       "      <td>1.086431e+09</td>\n",
       "      <td>1.079353e+09</td>\n",
       "      <td>1.329785e+07</td>\n",
       "    </tr>\n",
       "    <tr>\n",
       "      <th>3</th>\n",
       "      <td>HALEU SWU</td>\n",
       "      <td>5.430819e+08</td>\n",
       "      <td>1.039607e+09</td>\n",
       "      <td>7.734616e+08</td>\n",
       "      <td>1.580611e+08</td>\n",
       "    </tr>\n",
       "    <tr>\n",
       "      <th>4</th>\n",
       "      <td>SNF</td>\n",
       "      <td>1.832583e+06</td>\n",
       "      <td>7.180915e+07</td>\n",
       "      <td>4.086322e+07</td>\n",
       "      <td>2.172349e+07</td>\n",
       "    </tr>\n",
       "    <tr>\n",
       "      <th>5</th>\n",
       "      <td>HALEU Feed</td>\n",
       "      <td>4.689966e+08</td>\n",
       "      <td>9.004023e+08</td>\n",
       "      <td>6.692882e+08</td>\n",
       "      <td>1.373961e+08</td>\n",
       "    </tr>\n",
       "  </tbody>\n",
       "</table>\n",
       "</div>"
      ],
      "text/plain": [
       "       Metric       Minimum       Maximum       Average  Standard Deviation\n",
       "0   Fuel Mass  2.929966e+07  9.522916e+07  6.692176e+07        2.013454e+07\n",
       "1  HALEU Mass  1.485266e+07  2.929966e+07  2.159773e+07        4.620543e+06\n",
       "2   Total SWU  1.039607e+09  1.086431e+09  1.079353e+09        1.329785e+07\n",
       "3   HALEU SWU  5.430819e+08  1.039607e+09  7.734616e+08        1.580611e+08\n",
       "4         SNF  1.832583e+06  7.180915e+07  4.086322e+07        2.172349e+07\n",
       "5  HALEU Feed  4.689966e+08  9.004023e+08  6.692882e+08        1.373961e+08"
      ]
     },
     "execution_count": 22,
     "metadata": {},
     "output_type": "execute_result"
    }
   ],
   "source": [
    "voygr_results"
   ]
  },
  {
   "cell_type": "code",
   "execution_count": null,
   "metadata": {},
   "outputs": [],
   "source": []
  }
 ],
 "metadata": {
  "kernelspec": {
   "display_name": "Python 3",
   "language": "python",
   "name": "python3"
  },
  "language_info": {
   "codemirror_mode": {
    "name": "ipython",
    "version": 3
   },
   "file_extension": ".py",
   "mimetype": "text/x-python",
   "name": "python",
   "nbconvert_exporter": "python",
   "pygments_lexer": "ipython3",
   "version": "3.8.5"
  }
 },
 "nbformat": 4,
 "nbformat_minor": 5
}
