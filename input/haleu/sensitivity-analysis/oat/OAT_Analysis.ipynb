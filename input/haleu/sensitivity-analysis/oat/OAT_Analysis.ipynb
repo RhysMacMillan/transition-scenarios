{
 "cells": [
  {
   "cell_type": "code",
   "execution_count": 1,
   "metadata": {},
   "outputs": [],
   "source": [
    "import numpy as np\n",
    "import pandas as pd\n",
    "import matplotlib.pyplot as plt\n",
    "import sys \n",
    "\n",
    "sys.path.insert(0, '../../../../scripts/')\n",
    "import dataframe_analysis as dfa\n",
    "import create_AR_DeployInst as cdi\n",
    "import dakota_output as oup"
   ]
  },
  {
   "cell_type": "code",
   "execution_count": 2,
   "metadata": {},
   "outputs": [],
   "source": [
    "#General plotting variables\n",
    "metrics = {'enr_u':'Fuel Mass', 'haleu':'HALEU Mass', 'swu':'Total SWU', \n",
    "          'haleu_swu':'HALEU SWU', 'waste':'SNF', 'feed':'HALEU Feed'}\n",
    "colors = ['tab:blue', 'tab:orange','tab:purple']\n",
    "markers = ['d','o','*', 's','v','P']"
   ]
  },
  {
   "cell_type": "markdown",
   "metadata": {},
   "source": [
    "## Transition Start Time\n",
    "The transition start time ranges from times tep 721-901, in increments of 3 months.\n",
    "\n",
    "The first part of the analysis compares the results of using the DeployInst and the ManagerInst in Cyclus, comparing \n",
    "the results from different methods to deploy the advanced reactors. The second part of the analysis is for just the\n",
    "results from deploying advanced reactors with the DeployInst, with these results in publsihed literature."
   ]
  },
  {
   "cell_type": "code",
   "execution_count": 3,
   "metadata": {},
   "outputs": [],
   "source": [
    "ts_file = \"transition_start/transition_start.dat\"\n",
    "ts_data = pd.read_csv(ts_file, sep=\"\\s+\",header=0)\n",
    "ts_data['Year'] = ts_data['ts']/12 + 1965"
   ]
  },
  {
   "cell_type": "code",
   "execution_count": 4,
   "metadata": {},
   "outputs": [
    {
     "data": {
      "image/png": "[encoded data removed]",
      "text/plain": [
       "<Figure size 432x288 with 1 Axes>"
      ]
     },
     "metadata": {
      "needs_background": "light"
     },
     "output_type": "display_data"
    }
   ],
   "source": [
    "plt.figure\n",
    "for index, key in enumerate(metrics): \n",
    "    plt.plot(ts_data['Year'][20:], ts_data[key][20:]/ts_data[key][20],label=metrics[key], \n",
    "            linestyle='None', marker =markers[index])\n",
    "plt.xlabel('Transition Start Time')\n",
    "plt.legend()\n",
    "plt.ylabel('Relative to January 2030 Start')\n",
    "plt.savefig('figures/ts.pdf')"
   ]
  },
  {
   "cell_type": "code",
   "execution_count": 5,
   "metadata": {},
   "outputs": [],
   "source": [
    "ts_results = pd.DataFrame(columns=['Metric','Minimum','Maximum','Average','Standard Deviation'])\n",
    "for key in metrics:\n",
    "    minimum = ts_data[key].min()\n",
    "    maximum = ts_data[key].max()\n",
    "    average = ts_data[key].mean()\n",
    "    std = ts_data[key].std()\n",
    "    ts_results.loc[len(ts_results)] = [metrics[key], minimum, maximum, average, std]"
   ]
  },
  {
   "cell_type": "code",
   "execution_count": 6,
   "metadata": {},
   "outputs": [
    {
     "data": {
      "text/html": [
       "<div>\n",
       "<style scoped>\n",
       "    .dataframe tbody tr th:only-of-type {\n",
       "        vertical-align: middle;\n",
       "    }\n",
       "\n",
       "    .dataframe tbody tr th {\n",
       "        vertical-align: top;\n",
       "    }\n",
       "\n",
       "    .dataframe thead th {\n",
       "        text-align: right;\n",
       "    }\n",
       "</style>\n",
       "<table border=\"1\" class=\"dataframe\">\n",
       "  <thead>\n",
       "    <tr style=\"text-align: right;\">\n",
       "      <th></th>\n",
       "      <th>Metric</th>\n",
       "      <th>Minimum</th>\n",
       "      <th>Maximum</th>\n",
       "      <th>Average</th>\n",
       "      <th>Standard Deviation</th>\n",
       "    </tr>\n",
       "  </thead>\n",
       "  <tbody>\n",
       "    <tr>\n",
       "      <th>0</th>\n",
       "      <td>Fuel Mass</td>\n",
       "      <td>3.038713e+07</td>\n",
       "      <td>3.279658e+07</td>\n",
       "      <td>3.198724e+07</td>\n",
       "      <td>7.961829e+05</td>\n",
       "    </tr>\n",
       "    <tr>\n",
       "      <th>1</th>\n",
       "      <td>HALEU Mass</td>\n",
       "      <td>2.952153e+07</td>\n",
       "      <td>3.080642e+07</td>\n",
       "      <td>3.050072e+07</td>\n",
       "      <td>3.793288e+05</td>\n",
       "    </tr>\n",
       "    <tr>\n",
       "      <th>2</th>\n",
       "      <td>Total SWU</td>\n",
       "      <td>1.019537e+09</td>\n",
       "      <td>1.066378e+09</td>\n",
       "      <td>1.055364e+09</td>\n",
       "      <td>1.449935e+07</td>\n",
       "    </tr>\n",
       "    <tr>\n",
       "      <th>3</th>\n",
       "      <td>HALEU SWU</td>\n",
       "      <td>1.013695e+09</td>\n",
       "      <td>1.055046e+09</td>\n",
       "      <td>1.045332e+09</td>\n",
       "      <td>1.194150e+07</td>\n",
       "    </tr>\n",
       "    <tr>\n",
       "      <th>4</th>\n",
       "      <td>SNF</td>\n",
       "      <td>1.165054e+06</td>\n",
       "      <td>2.594954e+06</td>\n",
       "      <td>1.950656e+06</td>\n",
       "      <td>5.412501e+05</td>\n",
       "    </tr>\n",
       "    <tr>\n",
       "      <th>5</th>\n",
       "      <td>HALEU Feed</td>\n",
       "      <td>8.808064e+08</td>\n",
       "      <td>9.169635e+08</td>\n",
       "      <td>9.084585e+08</td>\n",
       "      <td>1.046392e+07</td>\n",
       "    </tr>\n",
       "  </tbody>\n",
       "</table>\n",
       "</div>"
      ],
      "text/plain": [
       "       Metric       Minimum       Maximum       Average  Standard Deviation\n",
       "0   Fuel Mass  3.038713e+07  3.279658e+07  3.198724e+07        7.961829e+05\n",
       "1  HALEU Mass  2.952153e+07  3.080642e+07  3.050072e+07        3.793288e+05\n",
       "2   Total SWU  1.019537e+09  1.066378e+09  1.055364e+09        1.449935e+07\n",
       "3   HALEU SWU  1.013695e+09  1.055046e+09  1.045332e+09        1.194150e+07\n",
       "4         SNF  1.165054e+06  2.594954e+06  1.950656e+06        5.412501e+05\n",
       "5  HALEU Feed  8.808064e+08  9.169635e+08  9.084585e+08        1.046392e+07"
      ]
     },
     "execution_count": 6,
     "metadata": {},
     "output_type": "execute_result"
    }
   ],
   "source": [
    "ts_results"
   ]
  },
  {
   "cell_type": "markdown",
   "metadata": {},
   "source": [
    "## LWR Lifetime\n",
    "Vary the percent of LWRs that operate for 80 years, with the other reactors operating for 60 years.\n",
    "Percent varies between 0-50% in 5% increments"
   ]
  },
  {
   "cell_type": "code",
   "execution_count": 9,
   "metadata": {},
   "outputs": [],
   "source": [
    "lwr_file = \"lwr_lifetime/lwr_lifetime.dat\"\n",
    "lwr_data = pd.read_csv(lwr_file, sep=\"\\s+\",header=0)"
   ]
  },
  {
   "cell_type": "code",
   "execution_count": 10,
   "metadata": {},
   "outputs": [
    {
     "data": {
      "image/png": "[encoded data removed]",
      "text/plain": [
       "<Figure size 432x288 with 1 Axes>"
      ]
     },
     "metadata": {
      "needs_background": "light"
     },
     "output_type": "display_data"
    }
   ],
   "source": [
    "plt.figure\n",
    "for index, key in enumerate(metrics): \n",
    "    plt.plot(lwr_data['lwr'], lwr_data[key]/lwr_data[key][0],label=metrics[key], \n",
    "            linestyle='None', marker = markers[index])\n",
    "plt.xlabel('Percent of LWRs operating for 80 years')\n",
    "plt.legend()\n",
    "plt.ylabel('Relative to 0%')\n",
    "plt.savefig('figures/lwr.pdf')"
   ]
  },
  {
   "cell_type": "code",
   "execution_count": 11,
   "metadata": {},
   "outputs": [],
   "source": [
    "lwr_results = pd.DataFrame(columns=['Metric','Minimum','Maximum','Average','Standard Deviation'])\n",
    "for key in metrics:\n",
    "    minimum = lwr_data[key].min()\n",
    "    maximum = lwr_data[key].max()\n",
    "    average = lwr_data[key].mean()\n",
    "    std = lwr_data[key].std()\n",
    "    lwr_results.loc[len(lwr_results)] = [metrics[key], minimum, maximum, average, std]"
   ]
  },
  {
   "cell_type": "code",
   "execution_count": 12,
   "metadata": {
    "scrolled": true
   },
   "outputs": [
    {
     "data": {
      "text/html": [
       "<div>\n",
       "<style scoped>\n",
       "    .dataframe tbody tr th:only-of-type {\n",
       "        vertical-align: middle;\n",
       "    }\n",
       "\n",
       "    .dataframe tbody tr th {\n",
       "        vertical-align: top;\n",
       "    }\n",
       "\n",
       "    .dataframe thead th {\n",
       "        text-align: right;\n",
       "    }\n",
       "</style>\n",
       "<table border=\"1\" class=\"dataframe\">\n",
       "  <thead>\n",
       "    <tr style=\"text-align: right;\">\n",
       "      <th></th>\n",
       "      <th>Metric</th>\n",
       "      <th>Minimum</th>\n",
       "      <th>Maximum</th>\n",
       "      <th>Average</th>\n",
       "      <th>Standard Deviation</th>\n",
       "    </tr>\n",
       "  </thead>\n",
       "  <tbody>\n",
       "    <tr>\n",
       "      <th>0</th>\n",
       "      <td>Fuel Mass</td>\n",
       "      <td>2.338014e+07</td>\n",
       "      <td>3.144457e+07</td>\n",
       "      <td>2.731690e+07</td>\n",
       "      <td>2.691743e+06</td>\n",
       "    </tr>\n",
       "    <tr>\n",
       "      <th>1</th>\n",
       "      <td>HALEU Mass</td>\n",
       "      <td>2.204940e+07</td>\n",
       "      <td>3.007378e+07</td>\n",
       "      <td>2.592959e+07</td>\n",
       "      <td>2.642460e+06</td>\n",
       "    </tr>\n",
       "    <tr>\n",
       "      <th>2</th>\n",
       "      <td>Total SWU</td>\n",
       "      <td>7.638275e+08</td>\n",
       "      <td>1.039003e+09</td>\n",
       "      <td>8.972937e+08</td>\n",
       "      <td>9.077549e+07</td>\n",
       "    </tr>\n",
       "    <tr>\n",
       "      <th>3</th>\n",
       "      <td>HALEU SWU</td>\n",
       "      <td>7.548464e+08</td>\n",
       "      <td>1.029751e+09</td>\n",
       "      <td>8.879308e+08</td>\n",
       "      <td>9.045370e+07</td>\n",
       "    </tr>\n",
       "    <tr>\n",
       "      <th>4</th>\n",
       "      <td>SNF</td>\n",
       "      <td>1.559769e+06</td>\n",
       "      <td>2.095857e+06</td>\n",
       "      <td>1.778281e+06</td>\n",
       "      <td>1.726611e+05</td>\n",
       "    </tr>\n",
       "    <tr>\n",
       "      <th>5</th>\n",
       "      <td>HALEU Feed</td>\n",
       "      <td>6.560773e+08</td>\n",
       "      <td>8.949957e+08</td>\n",
       "      <td>7.717277e+08</td>\n",
       "      <td>7.861888e+07</td>\n",
       "    </tr>\n",
       "  </tbody>\n",
       "</table>\n",
       "</div>"
      ],
      "text/plain": [
       "       Metric       Minimum       Maximum       Average  Standard Deviation\n",
       "0   Fuel Mass  2.338014e+07  3.144457e+07  2.731690e+07        2.691743e+06\n",
       "1  HALEU Mass  2.204940e+07  3.007378e+07  2.592959e+07        2.642460e+06\n",
       "2   Total SWU  7.638275e+08  1.039003e+09  8.972937e+08        9.077549e+07\n",
       "3   HALEU SWU  7.548464e+08  1.029751e+09  8.879308e+08        9.045370e+07\n",
       "4         SNF  1.559769e+06  2.095857e+06  1.778281e+06        1.726611e+05\n",
       "5  HALEU Feed  6.560773e+08  8.949957e+08  7.717277e+08        7.861888e+07"
      ]
     },
     "execution_count": 12,
     "metadata": {},
     "output_type": "execute_result"
    }
   ],
   "source": [
    "lwr_results"
   ]
  },
  {
   "cell_type": "markdown",
   "metadata": {},
   "source": [
    "## Build Share\n",
    "The new build share is specified for a single reactor type ranges from 0-50% \n",
    "in increments of 5%. This is analysis is performed 3 times, specifying the \n",
    "build share for each type of reactor. "
   ]
  },
  {
   "cell_type": "markdown",
   "metadata": {},
   "source": [
    "### Xe-100"
   ]
  },
  {
   "cell_type": "code",
   "execution_count": 13,
   "metadata": {},
   "outputs": [],
   "source": [
    "xe100_file = \"build-share/xe-100/xe100_build.dat\"\n",
    "xe100_data = pd.read_csv(xe100_file, sep=\"\\s+\",header=0)"
   ]
  },
  {
   "cell_type": "code",
   "execution_count": 25,
   "metadata": {},
   "outputs": [
    {
     "data": {
      "image/png": "[encoded data removed]",
      "text/plain": [
       "<Figure size 432x288 with 1 Axes>"
      ]
     },
     "metadata": {
      "needs_background": "light"
     },
     "output_type": "display_data"
    }
   ],
   "source": [
    "plt.figure\n",
    "for index, key in enumerate(metrics): \n",
    "    plt.plot(xe100_data['xe100'], xe100_data[key]/xe100_data[key][0],label=metrics[key], \n",
    "            linestyle='None', marker = markers[index])\n",
    "plt.xlabel('Percent Build Share')\n",
    "plt.legend()\n",
    "plt.ylabel('Relative to 10% build share')\n",
    "plt.savefig('figures/xe100.pdf')"
   ]
  },
  {
   "cell_type": "code",
   "execution_count": 15,
   "metadata": {},
   "outputs": [],
   "source": [
    "xe100_results = pd.DataFrame(columns=['Metric','Minimum','Maximum','Average','Standard Deviation'])\n",
    "for key in metrics:\n",
    "    minimum = xe100_data[key].min()\n",
    "    maximum = xe100_data[key].max()\n",
    "    average = xe100_data[key].mean()\n",
    "    std = xe100_data[key].std()\n",
    "    xe100_results.loc[len(xe100_results)] = [metrics[key], minimum, maximum, average, std]"
   ]
  },
  {
   "cell_type": "code",
   "execution_count": 16,
   "metadata": {},
   "outputs": [
    {
     "data": {
      "text/html": [
       "<div>\n",
       "<style scoped>\n",
       "    .dataframe tbody tr th:only-of-type {\n",
       "        vertical-align: middle;\n",
       "    }\n",
       "\n",
       "    .dataframe tbody tr th {\n",
       "        vertical-align: top;\n",
       "    }\n",
       "\n",
       "    .dataframe thead th {\n",
       "        text-align: right;\n",
       "    }\n",
       "</style>\n",
       "<table border=\"1\" class=\"dataframe\">\n",
       "  <thead>\n",
       "    <tr style=\"text-align: right;\">\n",
       "      <th></th>\n",
       "      <th>Metric</th>\n",
       "      <th>Minimum</th>\n",
       "      <th>Maximum</th>\n",
       "      <th>Average</th>\n",
       "      <th>Standard Deviation</th>\n",
       "    </tr>\n",
       "  </thead>\n",
       "  <tbody>\n",
       "    <tr>\n",
       "      <th>0</th>\n",
       "      <td>Fuel Mass</td>\n",
       "      <td>8.251012e+07</td>\n",
       "      <td>1.392499e+08</td>\n",
       "      <td>1.098766e+08</td>\n",
       "      <td>1.863429e+07</td>\n",
       "    </tr>\n",
       "    <tr>\n",
       "      <th>1</th>\n",
       "      <td>HALEU Mass</td>\n",
       "      <td>1.265608e+06</td>\n",
       "      <td>1.915820e+07</td>\n",
       "      <td>1.137090e+07</td>\n",
       "      <td>5.523786e+06</td>\n",
       "    </tr>\n",
       "    <tr>\n",
       "      <th>2</th>\n",
       "      <td>Total SWU</td>\n",
       "      <td>9.670149e+08</td>\n",
       "      <td>1.079362e+09</td>\n",
       "      <td>1.048208e+09</td>\n",
       "      <td>3.063436e+07</td>\n",
       "    </tr>\n",
       "    <tr>\n",
       "      <th>3</th>\n",
       "      <td>HALEU SWU</td>\n",
       "      <td>3.576010e+07</td>\n",
       "      <td>6.518004e+08</td>\n",
       "      <td>3.833947e+08</td>\n",
       "      <td>1.902994e+08</td>\n",
       "    </tr>\n",
       "    <tr>\n",
       "      <th>4</th>\n",
       "      <td>SNF</td>\n",
       "      <td>5.685063e+07</td>\n",
       "      <td>1.226529e+08</td>\n",
       "      <td>8.785627e+07</td>\n",
       "      <td>2.129340e+07</td>\n",
       "    </tr>\n",
       "    <tr>\n",
       "      <th>5</th>\n",
       "      <td>HALEU Feed</td>\n",
       "      <td>3.170211e+07</td>\n",
       "      <td>5.668484e+08</td>\n",
       "      <td>3.337115e+08</td>\n",
       "      <td>1.653012e+08</td>\n",
       "    </tr>\n",
       "  </tbody>\n",
       "</table>\n",
       "</div>"
      ],
      "text/plain": [
       "       Metric       Minimum       Maximum       Average  Standard Deviation\n",
       "0   Fuel Mass  8.251012e+07  1.392499e+08  1.098766e+08        1.863429e+07\n",
       "1  HALEU Mass  1.265608e+06  1.915820e+07  1.137090e+07        5.523786e+06\n",
       "2   Total SWU  9.670149e+08  1.079362e+09  1.048208e+09        3.063436e+07\n",
       "3   HALEU SWU  3.576010e+07  6.518004e+08  3.833947e+08        1.902994e+08\n",
       "4         SNF  5.685063e+07  1.226529e+08  8.785627e+07        2.129340e+07\n",
       "5  HALEU Feed  3.170211e+07  5.668484e+08  3.337115e+08        1.653012e+08"
      ]
     },
     "execution_count": 16,
     "metadata": {},
     "output_type": "execute_result"
    }
   ],
   "source": [
    "xe100_results"
   ]
  },
  {
   "cell_type": "markdown",
   "metadata": {},
   "source": [
    "### MMR "
   ]
  },
  {
   "cell_type": "code",
   "execution_count": 17,
   "metadata": {},
   "outputs": [],
   "source": [
    "mmr_file = \"build-share/mmr/mmr_build.dat\"\n",
    "mmr_data = pd.read_csv(mmr_file, sep=\"\\s+\",header=0)"
   ]
  },
  {
   "cell_type": "code",
   "execution_count": 18,
   "metadata": {},
   "outputs": [
    {
     "data": {
      "image/png": "[encoded data removed]",
      "text/plain": [
       "<Figure size 432x288 with 1 Axes>"
      ]
     },
     "metadata": {
      "needs_background": "light"
     },
     "output_type": "display_data"
    }
   ],
   "source": [
    "plt.figure\n",
    "for index, key in enumerate(metrics): \n",
    "    plt.plot(mmr_data['mmr'], mmr_data[key]/mmr_data[key][0],label=metrics[key], \n",
    "            linestyle='None', marker = markers[index])\n",
    "plt.xlabel('Percent Build Share')\n",
    "plt.legend()\n",
    "plt.ylabel('Relative to 0% build share')\n",
    "plt.savefig('figures/mmr.pdf')"
   ]
  },
  {
   "cell_type": "code",
   "execution_count": 19,
   "metadata": {},
   "outputs": [],
   "source": [
    "mmr_results = pd.DataFrame(columns=['Metric','Minimum','Maximum','Average','Standard Deviation'])\n",
    "for key in metrics:\n",
    "    minimum = mmr_data[key].min()\n",
    "    maximum = mmr_data[key].max()\n",
    "    average = mmr_data[key].mean()\n",
    "    std = mmr_data[key].std()\n",
    "    mmr_results.loc[len(mmr_results)] = [metrics[key], minimum, maximum, average, std]"
   ]
  },
  {
   "cell_type": "code",
   "execution_count": 20,
   "metadata": {},
   "outputs": [
    {
     "data": {
      "text/html": [
       "<div>\n",
       "<style scoped>\n",
       "    .dataframe tbody tr th:only-of-type {\n",
       "        vertical-align: middle;\n",
       "    }\n",
       "\n",
       "    .dataframe tbody tr th {\n",
       "        vertical-align: top;\n",
       "    }\n",
       "\n",
       "    .dataframe thead th {\n",
       "        text-align: right;\n",
       "    }\n",
       "</style>\n",
       "<table border=\"1\" class=\"dataframe\">\n",
       "  <thead>\n",
       "    <tr style=\"text-align: right;\">\n",
       "      <th></th>\n",
       "      <th>Metric</th>\n",
       "      <th>Minimum</th>\n",
       "      <th>Maximum</th>\n",
       "      <th>Average</th>\n",
       "      <th>Standard Deviation</th>\n",
       "    </tr>\n",
       "  </thead>\n",
       "  <tbody>\n",
       "    <tr>\n",
       "      <th>0</th>\n",
       "      <td>Fuel Mass</td>\n",
       "      <td>3.716690e+07</td>\n",
       "      <td>4.787664e+07</td>\n",
       "      <td>4.388128e+07</td>\n",
       "      <td>3.300198e+06</td>\n",
       "    </tr>\n",
       "    <tr>\n",
       "      <th>1</th>\n",
       "      <td>HALEU Mass</td>\n",
       "      <td>2.862694e+07</td>\n",
       "      <td>3.311219e+07</td>\n",
       "      <td>3.021161e+07</td>\n",
       "      <td>1.509320e+06</td>\n",
       "    </tr>\n",
       "    <tr>\n",
       "      <th>2</th>\n",
       "      <td>Total SWU</td>\n",
       "      <td>1.051471e+09</td>\n",
       "      <td>1.155774e+09</td>\n",
       "      <td>1.096109e+09</td>\n",
       "      <td>3.365441e+07</td>\n",
       "    </tr>\n",
       "    <tr>\n",
       "      <th>3</th>\n",
       "      <td>HALEU SWU</td>\n",
       "      <td>9.793799e+08</td>\n",
       "      <td>1.056129e+09</td>\n",
       "      <td>1.003852e+09</td>\n",
       "      <td>2.481448e+07</td>\n",
       "    </tr>\n",
       "    <tr>\n",
       "      <th>4</th>\n",
       "      <td>SNF</td>\n",
       "      <td>7.325239e+06</td>\n",
       "      <td>2.409842e+07</td>\n",
       "      <td>1.690969e+07</td>\n",
       "      <td>5.331455e+06</td>\n",
       "    </tr>\n",
       "    <tr>\n",
       "      <th>5</th>\n",
       "      <td>HALEU Feed</td>\n",
       "      <td>8.512843e+08</td>\n",
       "      <td>9.242944e+08</td>\n",
       "      <td>8.749986e+08</td>\n",
       "      <td>2.368330e+07</td>\n",
       "    </tr>\n",
       "  </tbody>\n",
       "</table>\n",
       "</div>"
      ],
      "text/plain": [
       "       Metric       Minimum       Maximum       Average  Standard Deviation\n",
       "0   Fuel Mass  3.716690e+07  4.787664e+07  4.388128e+07        3.300198e+06\n",
       "1  HALEU Mass  2.862694e+07  3.311219e+07  3.021161e+07        1.509320e+06\n",
       "2   Total SWU  1.051471e+09  1.155774e+09  1.096109e+09        3.365441e+07\n",
       "3   HALEU SWU  9.793799e+08  1.056129e+09  1.003852e+09        2.481448e+07\n",
       "4         SNF  7.325239e+06  2.409842e+07  1.690969e+07        5.331455e+06\n",
       "5  HALEU Feed  8.512843e+08  9.242944e+08  8.749986e+08        2.368330e+07"
      ]
     },
     "execution_count": 20,
     "metadata": {},
     "output_type": "execute_result"
    }
   ],
   "source": [
    "mmr_results"
   ]
  },
  {
   "cell_type": "markdown",
   "metadata": {},
   "source": [
    "### NPM"
   ]
  },
  {
   "cell_type": "code",
   "execution_count": 3,
   "metadata": {},
   "outputs": [],
   "source": [
    "npm_file = \"build-share/voygr/voygr_build.dat\"\n",
    "npm_data = pd.read_csv(npm_file, sep=\"\\s+\",header=0)"
   ]
  },
  {
   "cell_type": "code",
   "execution_count": 4,
   "metadata": {},
   "outputs": [
    {
     "data": {
      "image/png": "[encoded data removed]",
      "text/plain": [
       "<Figure size 432x288 with 1 Axes>"
      ]
     },
     "metadata": {
      "needs_background": "light"
     },
     "output_type": "display_data"
    }
   ],
   "source": [
    "plt.figure\n",
    "for index, key in enumerate(['enr_u','haleu','swu','haleu_swu','feed']): \n",
    "    plt.plot(npm_data['voygr'], npm_data[key]/npm_data[key][0],label=metrics[key], \n",
    "            linestyle='None', marker = markers[index])\n",
    "plt.xlabel('Percent Build Share')\n",
    "plt.legend()\n",
    "plt.ylabel('Relative to 0% build share')\n",
    "plt.savefig('figures/voygr.pdf')"
   ]
  },
  {
   "cell_type": "code",
   "execution_count": 23,
   "metadata": {},
   "outputs": [],
   "source": [
    "npm_results = pd.DataFrame(columns=['Metric','Minimum','Maximum','Average','Standard Deviation'])\n",
    "for key in metrics:\n",
    "    minimum = npm_data[key].min()\n",
    "    maximum = npm_data[key].max()\n",
    "    average = npm_data[key].mean()\n",
    "    std = npm_data[key].std()\n",
    "    npm_results.loc[len(npm_results)] = [metrics[key], minimum, maximum, average, std]"
   ]
  },
  {
   "cell_type": "code",
   "execution_count": 24,
   "metadata": {},
   "outputs": [
    {
     "data": {
      "text/html": [
       "<div>\n",
       "<style scoped>\n",
       "    .dataframe tbody tr th:only-of-type {\n",
       "        vertical-align: middle;\n",
       "    }\n",
       "\n",
       "    .dataframe tbody tr th {\n",
       "        vertical-align: top;\n",
       "    }\n",
       "\n",
       "    .dataframe thead th {\n",
       "        text-align: right;\n",
       "    }\n",
       "</style>\n",
       "<table border=\"1\" class=\"dataframe\">\n",
       "  <thead>\n",
       "    <tr style=\"text-align: right;\">\n",
       "      <th></th>\n",
       "      <th>Metric</th>\n",
       "      <th>Minimum</th>\n",
       "      <th>Maximum</th>\n",
       "      <th>Average</th>\n",
       "      <th>Standard Deviation</th>\n",
       "    </tr>\n",
       "  </thead>\n",
       "  <tbody>\n",
       "    <tr>\n",
       "      <th>0</th>\n",
       "      <td>Fuel Mass</td>\n",
       "      <td>3.151239e+07</td>\n",
       "      <td>9.415978e+07</td>\n",
       "      <td>6.587311e+07</td>\n",
       "      <td>1.952721e+07</td>\n",
       "    </tr>\n",
       "    <tr>\n",
       "      <th>1</th>\n",
       "      <td>HALEU Mass</td>\n",
       "      <td>1.560599e+07</td>\n",
       "      <td>3.151239e+07</td>\n",
       "      <td>2.330087e+07</td>\n",
       "      <td>5.201885e+06</td>\n",
       "    </tr>\n",
       "    <tr>\n",
       "      <th>2</th>\n",
       "      <td>Total SWU</td>\n",
       "      <td>1.055805e+09</td>\n",
       "      <td>1.106028e+09</td>\n",
       "      <td>1.078381e+09</td>\n",
       "      <td>1.609978e+07</td>\n",
       "    </tr>\n",
       "    <tr>\n",
       "      <th>3</th>\n",
       "      <td>HALEU SWU</td>\n",
       "      <td>5.256461e+08</td>\n",
       "      <td>1.074401e+09</td>\n",
       "      <td>7.910611e+08</td>\n",
       "      <td>1.794220e+08</td>\n",
       "    </tr>\n",
       "    <tr>\n",
       "      <th>4</th>\n",
       "      <td>SNF</td>\n",
       "      <td>1.263448e+06</td>\n",
       "      <td>6.998801e+07</td>\n",
       "      <td>3.825922e+07</td>\n",
       "      <td>2.172977e+07</td>\n",
       "    </tr>\n",
       "    <tr>\n",
       "      <th>5</th>\n",
       "      <td>HALEU Feed</td>\n",
       "      <td>4.575741e+08</td>\n",
       "      <td>9.341810e+08</td>\n",
       "      <td>6.880976e+08</td>\n",
       "      <td>1.558353e+08</td>\n",
       "    </tr>\n",
       "  </tbody>\n",
       "</table>\n",
       "</div>"
      ],
      "text/plain": [
       "       Metric       Minimum       Maximum       Average  Standard Deviation\n",
       "0   Fuel Mass  3.151239e+07  9.415978e+07  6.587311e+07        1.952721e+07\n",
       "1  HALEU Mass  1.560599e+07  3.151239e+07  2.330087e+07        5.201885e+06\n",
       "2   Total SWU  1.055805e+09  1.106028e+09  1.078381e+09        1.609978e+07\n",
       "3   HALEU SWU  5.256461e+08  1.074401e+09  7.910611e+08        1.794220e+08\n",
       "4         SNF  1.263448e+06  6.998801e+07  3.825922e+07        2.172977e+07\n",
       "5  HALEU Feed  4.575741e+08  9.341810e+08  6.880976e+08        1.558353e+08"
      ]
     },
     "execution_count": 24,
     "metadata": {},
     "output_type": "execute_result"
    }
   ],
   "source": [
    "npm_results"
   ]
  },
  {
   "cell_type": "code",
   "execution_count": null,
   "metadata": {},
   "outputs": [],
   "source": []
  }
 ],
 "metadata": {
  "kernelspec": {
   "display_name": "Python 3",
   "language": "python",
   "name": "python3"
  },
  "language_info": {
   "codemirror_mode": {
    "name": "ipython",
    "version": 3
   },
   "file_extension": ".py",
   "mimetype": "text/x-python",
   "name": "python",
   "nbconvert_exporter": "python",
   "pygments_lexer": "ipython3",
   "version": "3.8.5"
  }
 },
 "nbformat": 4,
 "nbformat_minor": 5
}
