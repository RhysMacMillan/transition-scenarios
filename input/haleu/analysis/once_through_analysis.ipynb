{
 "cells": [
  {
   "cell_type": "markdown",
   "id": "5d5bd0bb",
   "metadata": {},
   "source": [
    "# Analysis for once-through scenarios\n",
    "This notebook provides analysis for all of the once-through fuel cycle scenarios that are included in \n",
    "Amanda Bachmann's dissertation. Analysis of each scenario includes the number of reactors deployed, the uranium resources, the SWU capacity, and the amount of waste produced. \n",
    "\n",
    "Scenarios are numbers as follows:\n",
    "* 1: LWRs\n",
    "* 2: MMR, no growth\n",
    "* 3: Xe-100, no growth\n",
    "* 4: Xe-100 and MMR, no growth\n",
    "* 5: MMR and VOYGR, no growth\n",
    "* 6: Xe-100 and VOYGR, no growth\n",
    "* 7: Xe-100, MMR, and VOYGR, no growth\n",
    "* 8: MMR, 1% growth\n",
    "* 9: Xe-100, 1% growth\n",
    "* 10: Xe-100 and MMR, 1% growth\n",
    "* 11: MMR and VOYGR, 1% growth\n",
    "* 12: Xe-100 and VOYGR, 1% growth\n",
    "* 13: Xe-100, MMR, and VOYGR, 1% growth\n",
    "\n",
    "Analysis of scenario 1 is performed separately, then the no growth scenarios are all analyzed together, followed by the 1% growth scenarios. "
   ]
  },
  {
   "cell_type": "code",
   "execution_count": 1,
   "id": "9d23def0",
   "metadata": {},
   "outputs": [],
   "source": [
    "import numpy as np\n",
    "import matplotlib.pyplot as plt\n",
    "import pandas as pd\n",
    "\n",
    "import cymetric as cym\n",
    "import transition_metrics as tm"
   ]
  },
  {
   "cell_type": "code",
   "execution_count": 2,
   "id": "2cc66e15",
   "metadata": {},
   "outputs": [],
   "source": [
    "# enrichment assays\n",
    "leu_p = 0.043\n",
    "mmr_p = 0.13\n",
    "xe_p = 0.155\n",
    "voygr_p = 0.0409\n",
    "x_f = 0.00711\n",
    "x_t = 0.002"
   ]
  },
  {
   "cell_type": "markdown",
   "id": "0bcb11c2",
   "metadata": {},
   "source": [
    "## Scenario 1"
   ]
  },
  {
   "cell_type": "code",
   "execution_count": null,
   "id": "cfe76581",
   "metadata": {},
   "outputs": [],
   "source": [
    "s1_outfile = \"../outputs/united_states_2020.sqlite\""
   ]
  },
  {
   "cell_type": "code",
   "execution_count": null,
   "id": "d612711d",
   "metadata": {
    "scrolled": false
   },
   "outputs": [],
   "source": [
    "# Reactor Deployment\n",
    "s1_nonlwr = ['Sink_HLW', 'Sink_LLW', 'Mine', 'Mill', 'Conversion',\n",
    "                 'Enrichment', 'FuelFab', 'DryStorage', 'United States',\n",
    "                 'WetStorage', 'FuelCycle', 'UNITED_STATES_OF_AMERICA']\n",
    "s1_reactors = tm.rx_commission_decommission(s1_outfile, s1_nonlwr)\n",
    "s1_reactors = tm.add_year(s1_reactors)\n",
    "\n",
    "plt.figure(figsize=(7,4))\n",
    "plt.plot(s1_reactors['Year'], s1_reactors['lwr_total'])\n",
    "plt.xlabel('Year', size=16)\n",
    "plt.ylabel('Number of reactors', size=16)\n",
    "plt.xticks(fontsize=14)\n",
    "plt.yticks(fontsize=14)\n",
    "plt.savefig('figures/s1_reactors.pdf')"
   ]
  },
  {
   "cell_type": "code",
   "execution_count": null,
   "id": "f267d604",
   "metadata": {},
   "outputs": [],
   "source": [
    "print(s1_reactors['lwr_total'].max())\n",
    "print(s1_reactors['lwr_total'][721])\n",
    "print(s1_reactors[['lwr_total','Year']][1087:1095])"
   ]
  },
  {
   "cell_type": "code",
   "execution_count": null,
   "id": "ef95d7b9",
   "metadata": {},
   "outputs": [],
   "source": [
    "#Uranium resources sent to reactors\n",
    "s1_transactions = pd.read_csv('current_transactions.csv', \n",
    "                                   usecols = ['Time','Commodity', 'Units',\n",
    "                                             'Quantity','Prototype'])\n",
    "s1_uox = tm.commodity_mass_traded(s1_transactions, 'fresh_uox')\n",
    "plt.figure(figsize=(7,4))\n",
    "plt.plot(s1_uox['Year'], s1_uox['Quantity']/1000)\n",
    "#plt.legend(loc=2)\n",
    "plt.ylabel('Mass (t)')\n",
    "plt.xlabel('Year')\n",
    "plt.xticks(fontsize=14)\n",
    "plt.yticks(fontsize=14)\n",
    "\n",
    "#plt.title('Mass of uranium supplied to all reactors')\n",
    "plt.savefig('figures/s1_fuelsupply.pdf')"
   ]
  },
  {
   "cell_type": "code",
   "execution_count": null,
   "id": "912f97e3",
   "metadata": {},
   "outputs": [],
   "source": [
    "print(s1_uox['Quantity'].max())\n",
    "print(s1_uox['Quantity'].mean())\n",
    "print(s1_uox['Quantity'][721:1089].mean())"
   ]
  },
  {
   "cell_type": "code",
   "execution_count": null,
   "id": "788ff8a8",
   "metadata": {},
   "outputs": [],
   "source": [
    "#Natural uranium needed\n",
    "s1_tails = tm.calculate_tails(s1_uox['Quantity'], leu_p, x_t, x_f)\n",
    "s1_feed = tm.calculate_feed(s1_uox['Quantity'], s1_tails)\n",
    "\n",
    "plt.plot(s1_uox['Year'], s1_feed/1000)\n",
    "plt.xlabel('Year', fontsize=16)\n",
    "plt.ylabel('Mass (t)', fontsize=16)\n",
    "plt.xticks(fontsize=14)\n",
    "plt.yticks(fontsize=14)\n",
    "\n",
    "plt.savefig('figures/s1_feed.pdf')"
   ]
  },
  {
   "cell_type": "code",
   "execution_count": null,
   "id": "5cc72a86",
   "metadata": {},
   "outputs": [],
   "source": [
    "print(s1_feed.max())\n",
    "print(s1_feed.mean())\n",
    "print(s1_feed[721:1089].mean())"
   ]
  },
  {
   "cell_type": "code",
   "execution_count": null,
   "id": "26d19aaf",
   "metadata": {},
   "outputs": [],
   "source": [
    "# SWU capacity \n",
    "s1_swu = tm.calculate_SWU(s1_uox['Quantity'], leu_p, s1_tails, x_t, s1_feed, x_f)\n",
    "plt.plot(s1_uox[\"Year\"], s1_swu)\n",
    "plt.xlabel('Year')\n",
    "plt.ylabel('SWU (kg-SWU)')\n",
    "plt.xticks(fontsize=14)\n",
    "plt.yticks(fontsize=14)\n",
    "\n",
    "plt.savefig('figures/s1_swu.pdf')"
   ]
  },
  {
   "cell_type": "code",
   "execution_count": null,
   "id": "9e83ced8",
   "metadata": {},
   "outputs": [],
   "source": [
    "print(s1_swu.max())\n",
    "print(s1_swu.mean())\n",
    "print(s1_swu[721:1089].mean())"
   ]
  },
  {
   "cell_type": "code",
   "execution_count": null,
   "id": "ecf580e9",
   "metadata": {},
   "outputs": [],
   "source": [
    "# waste discharged\n",
    "s1_waste = tm.commodity_mass_traded(s1_transactions, 'spent_uox')\n",
    "\n",
    "plt.plot(s1_waste['Year'], s1_waste['Quantity']/1000)\n",
    "plt.xlabel('Year', fontsize=16)\n",
    "plt.ylabel('Mass (t)', fontsize=16)\n",
    "plt.xticks(fontsize=14)\n",
    "plt.yticks(fontsize=14)\n",
    "plt.savefig('figures/s1_waste.pdf')"
   ]
  },
  {
   "cell_type": "code",
   "execution_count": null,
   "id": "f59e4b88",
   "metadata": {},
   "outputs": [],
   "source": [
    "print(s1_waste['Quantity'].max())\n",
    "print(s1_waste['Quantity'].mean())\n",
    "print(s1_waste['Quantity'][721:1089].mean())"
   ]
  },
  {
   "cell_type": "markdown",
   "id": "fb4e0c7c",
   "metadata": {},
   "source": [
    "## No growth scenarios"
   ]
  },
  {
   "cell_type": "code",
   "execution_count": 3,
   "id": "effae45e",
   "metadata": {},
   "outputs": [],
   "source": [
    "s2_outfile = \"../outputs/mmr_nogrowth.sqlite\"\n",
    "s3_outfile = \"../outputs/xe100_nogrowth.sqlite\"\n",
    "s4_outfile = \"../outputs/xe100_mmr_nogrowth.sqlite\"\n",
    "s5_outfile = \"../outputs/mmr_voygr_nogrowth.sqlite\"\n",
    "s6_outfile = \"../outputs/xe100_voygr_nogrowth.sqlite\"\n",
    "s7_outfile = \"../outputs/xe100_mmr_voygr_nogrowth.sqlite\""
   ]
  },
  {
   "cell_type": "code",
   "execution_count": null,
   "id": "ef3e5466",
   "metadata": {},
   "outputs": [],
   "source": [
    "# Reactor Deployment\n",
    "s2_nonlwr = ['Sink_HLW', 'Sink_LLW', 'Mine', 'Mill', 'Conversion',\n",
    "                 'Enrichment', 'FuelFab', 'DryStorage', 'United States',\n",
    "                 'WetStorage', 'FuelCycle', 'UNITED_STATES_OF_AMERICA',\n",
    "                 'MMR_enter', 'MMR_exit']\n",
    "s3_nonlwr = ['Sink_HLW', 'Sink_LLW', 'Mine', 'Mill', 'Conversion',\n",
    "                 'Enrichment', 'FuelFab', 'DryStorage', 'United States',\n",
    "                 'WetStorage', 'FuelCycle', 'UNITED_STATES_OF_AMERICA',\n",
    "                 'Xe-100_enter', 'Xe-100_exit']\n",
    "s4_nonlwr = ['Sink_HLW', 'Sink_LLW', 'Mine', 'Mill', 'Conversion',\n",
    "                 'Enrichment', 'FuelFab', 'DryStorage', 'United States',\n",
    "                 'WetStorage', 'FuelCycle', 'UNITED_STATES_OF_AMERICA',\n",
    "                 'Xe-100', 'MMR']\n",
    "s5_nonlwr = ['Sink_HLW', 'Sink_LLW', 'Mine', 'Mill', 'Conversion',\n",
    "                 'Enrichment', 'FuelFab', 'DryStorage', 'United States',\n",
    "                 'WetStorage', 'FuelCycle', 'UNITED_STATES_OF_AMERICA',\n",
    "                 'MMR_enter', 'MMR_exit', 'VOYGR_enter', 'VOYGR_exit']\n",
    "s6_nonlwr = ['Sink_HLW', 'Sink_LLW', 'Mine', 'Mill', 'Conversion',\n",
    "                 'Enrichment', 'FuelFab', 'DryStorage', 'United States',\n",
    "                 'WetStorage', 'FuelCycle', 'UNITED_STATES_OF_AMERICA',\n",
    "                 'Xe-100_enter', 'Xe-100_exit', 'VOYGR_enter', 'VOYGR_exit']\n",
    "s7_nonlwr = ['Sink_HLW', 'Sink_LLW', 'Mine', 'Mill', 'Conversion',\n",
    "                 'Enrichment', 'FuelFab', 'DryStorage', 'United States',\n",
    "                 'WetStorage', 'FuelCycle', 'UNITED_STATES_OF_AMERICA',\n",
    "                 'Xe-100_enter', 'Xe-100_exit', 'MMR']\n",
    "s2_reactors = tm.rx_commission_decommission(s2_outfile, s2_nonlwr)\n",
    "s2_reactors = tm.add_year(s2_reactors)\n",
    "s2_reactors['mmr_total'] = (s2_reactors['MMR_enter'] \n",
    "                                      + s2_reactors['MMR_exit']).cumsum()\n",
    "s3_reactors = tm.rx_commission_decommission(s3_outfile, s3_nonlwr)\n",
    "s3_reactors = tm.add_year(s3_reactors)\n",
    "s3_reactors['xe_total'] = (s3_reactors['Xe-100_enter'] \n",
    "                                      + s3_reactors['Xe-100_exit']).cumsum()\n",
    "\n",
    "s4_reactors = tm.rx_commission_decommission(s4_outfile, s4_nonlwr)\n",
    "s4_reactors = tm.add_year(s4_reactors)\n",
    "s4_reactors['xe_total'] = s4_reactors['Xe-100'].cumsum()\n",
    "s4_reactors['mmr_total'] = s4_reactors['MMR'].cumsum() \n",
    "s4_reactors['advrx_enter'] = (s4_reactors['MMR'] + s4_reactors['Xe-100'])\n",
    "s4_reactors['advrx_total'] = s4_reactors['advrx_enter'].cumsum()\n",
    "\n",
    "s5_reactors = tm.rx_commission_decommission(s5_outfile, s5_nonlwr)\n",
    "s5_reactors = tm.add_year(s5_reactors)\n",
    "s5_reactors['voygr_total'] = (s5_reactors['VOYGR_enter'] + s5_reactors['VOYGR_exit']).cumsum()\n",
    "s5_reactors['mmr_total'] = (s5_reactors['MMR_enter'] + s5_reactors['MMR_exit']).cumsum() \n",
    "s5_reactors['advrx_enter'] = s5_reactors['MMR_enter'] + s5_reactors['VOYGR_enter']\n",
    "s5_reactors['advrx_total'] = s5_reactors['mmr_total'] + s5_reactors['voygr_total']\n",
    "\n",
    "s6_reactors = tm.rx_commission_decommission(s6_outfile, s6_nonlwr)\n",
    "s6_reactors = tm.add_year(s6_reactors)\n",
    "s6_reactors['xe_total'] = (s6_reactors['Xe-100_enter'] + s6_reactors['Xe-100_exit']).cumsum()\n",
    "s6_reactors['voygr_total'] = (s6_reactors['VOYGR_enter'] + s6_reactors['VOYGR_exit']).cumsum()\n",
    "s6_reactors['advrx_enter'] = (s6_reactors['VOYGR_enter'] + s6_reactors['Xe-100_enter'])\n",
    "s6_reactors['advrx_total'] = s6_reactors['voygr_total'] + s6_reactors['xe_total']\n",
    "\n",
    "s7_reactors = tm.rx_commission_decommission(s7_outfile, s7_nonlwr)\n",
    "s7_reactors = tm.add_year(s7_reactors)\n",
    "s7_reactors['xe_total'] = (s7_reactors['Xe-100_enter'] + s7_reactors['Xe-100_exit']).cumsum()\n",
    "s7_reactors['mmr_total'] = (s7_reactors['MMR']).cumsum()# + s7_reactors['MMR_exit']).cumsum() \n",
    "s7_reactors['voygr_total'] = s7_reactors['VOYGR'].cumsum()\n",
    "s7_reactors['advrx_enter'] = s7_reactors['MMR'] + s7_reactors['Xe-100_enter'] + s7_reactors['VOYGR']\n",
    "s7_reactors['advrx_total'] = s7_reactors['xe_total'] + s7_reactors['mmr_total'] + s7_reactors['VOYGR']"
   ]
  },
  {
   "cell_type": "code",
   "execution_count": null,
   "id": "a11889db",
   "metadata": {},
   "outputs": [],
   "source": [
    "time = np.linspace(1965,2089, 65)\n",
    "plt.figure(figsize=(7,4))\n",
    "plt.plot(s2_reactors['Year'], s2_reactors['mmr_total'], label='Scenario 2')\n",
    "plt.plot(s3_reactors['Year'], s3_reactors['xe_total'], label='Scenario 3')\n",
    "plt.plot(s4_reactors['Year'], s4_reactors['advrx_total'], label='Scenario 4')\n",
    "plt.plot(s5_reactors['Year'], s5_reactors['advrx_total'], label='Scenario 5')\n",
    "plt.plot(s6_reactors['Year'], s6_reactors['advrx_total'], label='Scenario 6')\n",
    "plt.plot(s7_reactors['Year'], s7_reactors['advrx_total'], label='Scenario 7')\n",
    "plt.xlabel('Year', size=16)\n",
    "plt.ylabel('Number of reactors', size=16)\n",
    "plt.xticks(fontsize=14)\n",
    "plt.yticks(fontsize=14)\n",
    "#plt.yscale('log')\n",
    "plt.legend()\n",
    "plt.savefig('figures/nogrowth_reactors.png', bbox_inches='tight')"
   ]
  },
  {
   "cell_type": "code",
   "execution_count": null,
   "id": "118b2746",
   "metadata": {},
   "outputs": [],
   "source": [
    "print('Max total in S2:', s2_reactors['mmr_total'].max())\n",
    "print('MMRs added in S2:', s2_reactors['MMR_enter'].max())\n",
    "print('Max Xe-100 total in S3:', s3_reactors['xe_total'].max())\n",
    "print('Max Xe-100 added in S3:', s3_reactors['Xe-100_enter'].max())\n",
    "print('Max MMR total in S4:', s4_reactors['mmr_total'].max())\n",
    "print('Max MMR added in S4:', s4_reactors['MMR'].max())\n",
    "print('Max Xe-100 total in S4:', s4_reactors['xe_total'].max())\n",
    "print('Max Xe-100 added in S4:', s4_reactors['Xe-100'].max())\n",
    "print('Max Adv Rx total in S4:', s4_reactors['advrx_total'].max())\n",
    "print('Max Adv Rx added in S4:', s4_reactors['advrx_enter'].max())\n",
    "print('Max MMR total in S5:', s5_reactors['mmr_total'].max())\n",
    "print('Max MMR added in S5:', s5_reactors['MMR_enter'].max())\n",
    "print('Max VOYGR total in S5:', s5_reactors['voygr_total'].max())\n",
    "print('Max VOYGR added in S5:', s5_reactors['VOYGR_enter'].max())\n",
    "print('Max Adv Rx total in S5:', s5_reactors['advrx_total'].max())\n",
    "print('Max Adv Rx added in S5:', s5_reactors['advrx_enter'].max())\n",
    "print('Max Xe-100 total in S6:', s6_reactors['xe_total'].max())\n",
    "print('Max Xe-100 added in S6:', s6_reactors['Xe-100_enter'].max())\n",
    "print('Max VOYGR total in S6:', s6_reactors['voygr_total'].max())\n",
    "print('Max VOYGR added in S6:', s6_reactors['VOYGR_enter'].max())\n",
    "print('Max Adv Rx total in S6:', s6_reactors['advrx_total'].max())\n",
    "print('Max Adv Rx added in S6:', s6_reactors['advrx_enter'].max())\n",
    "print('Max MMR total in S7:', s7_reactors['mmr_total'].max())\n",
    "print('Max MMR added in S7:', s7_reactors['MMR'].max())\n",
    "print('Max Xe-100 total in S7:', s7_reactors['xe_total'].max())\n",
    "print('Max Xe-100 added in S7:', s7_reactors['Xe-100_enter'].max())\n",
    "#print('Max VOYGR total in S7:', s7_reactors['voygr_total'].max())\n",
    "#print('Max VOYGR added in S7:', s7_reactors['VOYGR_enter'].max())\n",
    "print('Max Adv Rx total in S7:', s7_reactors['advrx_total'].max())\n",
    "print('Max Adv Rx added in S7:', s7_reactors['advrx_enter'].max())"
   ]
  },
  {
   "cell_type": "code",
   "execution_count": null,
   "id": "7a1ea775",
   "metadata": {},
   "outputs": [],
   "source": []
  }
 ],
 "metadata": {
  "kernelspec": {
   "display_name": "Python [conda env:cyclus-env] *",
   "language": "python",
   "name": "conda-env-cyclus-env-py"
  },
  "language_info": {
   "codemirror_mode": {
    "name": "ipython",
    "version": 3
   },
   "file_extension": ".py",
   "mimetype": "text/x-python",
   "name": "python",
   "nbconvert_exporter": "python",
   "pygments_lexer": "ipython3",
   "version": "3.6.11"
  }
 },
 "nbformat": 4,
 "nbformat_minor": 5
}
