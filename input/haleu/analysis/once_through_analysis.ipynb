{
 "cells": [
  {
   "cell_type": "markdown",
   "id": "5d5bd0bb",
   "metadata": {},
   "source": [
    "# Analysis for once-through scenarios\n",
    "This notebook provides analysis for all of the once-through fuel cycle scenarios that are included in \n",
    "Amanda Bachmann's dissertation. Analysis of each scenario includes the number of reactors deployed, the uranium resources, the SWU capacity, and the amount of waste produced. \n",
    "\n",
    "Scenarios are numbers as follows:\n",
    "* 1: LWRs\n",
    "* 2: MMR, no growth\n",
    "* 3: Xe-100, no growth\n",
    "* 4: Xe-100 and MMR, no growth\n",
    "* 5: MMR and VOYGR, no growth\n",
    "* 6: Xe-100 and VOYGR, no growth\n",
    "* 7: Xe-100, MMR, and VOYGR, no growth\n",
    "* 8: MMR, 1% growth\n",
    "* 9: Xe-100, 1% growth\n",
    "* 10: Xe-100 and MMR, 1% growth\n",
    "* 11: MMR and VOYGR, 1% growth\n",
    "* 12: Xe-100 and VOYGR, 1% growth\n",
    "* 13: Xe-100, MMR, and VOYGR, 1% growth\n",
    "\n",
    "Analysis of scenario 1 is performed separately, then the no growth scenarios are all analyzed together, followed by the 1% growth scenarios. "
   ]
  },
  {
   "cell_type": "code",
   "execution_count": 1,
   "id": "9d23def0",
   "metadata": {},
   "outputs": [],
   "source": [
    "import numpy as np\n",
    "import matplotlib.pyplot as plt\n",
    "import pandas as pd\n",
    "import sys\n",
    "\n",
    "import cymetric as cym\n",
    "sys.path.insert(0,'../../../scripts')\n",
    "import transition_metrics as tm"
   ]
  },
  {
   "cell_type": "code",
   "execution_count": 2,
   "id": "2cc66e15",
   "metadata": {},
   "outputs": [],
   "source": [
    "# Enrichment Constants\n",
    "assays = {'LWR': 0.043, 'MMR':0.13, 'Xe-100':0.155, \n",
    "          'VOYGR':0.0409, 'feed':0.00711,'tails':0.002}\n",
    "\n",
    "# Reactor Deployment Constants\n",
    "non_lwr = ['Sink_HLW', 'Sink_LLW', 'Mine',\n",
    "                 'Enrichment', 'DryStorage', 'United States',\n",
    "                 'WetStorage', 'FuelCycle', 'UNITED_STATES_OF_AMERICA',\n",
    "                 'MMR', 'Xe-100','VOYGR', 'Xe-100CoolingPool',\n",
    "                 'MMRCoolingPool', 'VOYGRCoolingPool']\n",
    "adv_rxs = ['MMR', 'Xe-100', 'VOYGR']\n",
    "\n",
    "#Plotting orders\n",
    "plotting_order_nogrowth = ['s5', 's2', 's7', 's6','s3', 's4']\n",
    "plotting_order_1percent = ['s11', 's08', 's13', 's12','s09','s10']\n",
    "\n",
    "# Mass fraction of uranium in fuel for each type of reactor\n",
    "uranium_fractions = {'LWR':1, 'MMR':0.8857, 'Xe-100':0.895285, 'VOYGR':0.881427}\n",
    "\n",
    "#Waste commodity names for each type of reactor\n",
    "waste_commodity = {'LWR':'spent_uox', 'MMR':'spent_MMR_haleu',\n",
    "                   'Xe-100':'spent_xe100_haleu', 'VOYGR':'spent_smr_fuel'}\n",
    "\n",
    "#Time period\n",
    "time = np.linspace(2025, 2089, 65)"
   ]
  },
  {
   "cell_type": "markdown",
   "id": "0bcb11c2",
   "metadata": {},
   "source": [
    "## Scenario 1"
   ]
  },
  {
   "cell_type": "code",
   "execution_count": 3,
   "id": "cfe76581",
   "metadata": {},
   "outputs": [],
   "source": [
    "s1_outfile = \"../outputs/united_states_2020.sqlite\""
   ]
  },
  {
   "cell_type": "code",
   "execution_count": 4,
   "id": "d612711d",
   "metadata": {
    "scrolled": false
   },
   "outputs": [
    {
     "data": {
      "image/png": "[encoded data removed]",
      "text/plain": [
       "<Figure size 504x288 with 1 Axes>"
      ]
     },
     "metadata": {
      "needs_background": "light"
     },
     "output_type": "display_data"
    }
   ],
   "source": [
    "# Reactor Deployment\n",
    "s1_nonlwr = ['Sink_HLW', 'Sink_LLW', 'Mine',\n",
    "                 'Enrichment', 'DryStorage', 'United States',\n",
    "                 'WetStorage', 'FuelCycle', 'UNITED_STATES_OF_AMERICA']\n",
    "s1_reactors = tm.get_lwr_totals(s1_outfile, s1_nonlwr)\n",
    "s1_reactors = tm.add_year(s1_reactors)\n",
    "\n",
    "plt.figure(figsize=(7,4))\n",
    "plt.plot(s1_reactors['Year'], s1_reactors['lwr_total'])\n",
    "plt.xlabel('Year', size=16)\n",
    "plt.ylabel('Number of reactors', size=16)\n",
    "plt.xticks(fontsize=14)\n",
    "plt.yticks(fontsize=14)\n",
    "plt.savefig('figures/s1_reactors.pdf')"
   ]
  },
  {
   "cell_type": "code",
   "execution_count": 5,
   "id": "89df4036",
   "metadata": {
    "scrolled": true
   },
   "outputs": [],
   "source": [
    "s1_metrics = tm.get_metrics(s1_outfile)\n",
    "s1_agents = s1_metrics.eval(\"Agents\")\n",
    "s1_lwrs = s1_agents.loc[s1_agents['Spec'] == ':cycamore:Reactor']"
   ]
  },
  {
   "cell_type": "code",
   "execution_count": 16,
   "id": "f267d604",
   "metadata": {},
   "outputs": [
    {
     "name": "stdout",
     "output_type": "stream",
     "text": [
      "Total Number of LWRs deployed: 115\n",
      "Max LWRs deployed: 109.0\n",
      "LWRS deployed in January 2025: 92.0\n",
      "Prototype  lwr_total     Year\n",
      "1087             1.0  2055.58\n",
      "1088             1.0  2055.67\n",
      "1089             1.0  2055.75\n",
      "1090             0.0  2055.83\n",
      "Prototype  lwr_total     Year\n",
      "30               0.0  1967.50\n",
      "31               0.0  1967.58\n",
      "32               2.0  1967.67\n",
      "33               2.0  1967.75\n",
      "34               2.0  1967.83\n"
     ]
    }
   ],
   "source": [
    "print('Total Number of LWRs deployed:', len(s1_lwrs))\n",
    "print('Max LWRs deployed:', s1_reactors['lwr_total'].max())\n",
    "print('LWRS deployed in January 2025:', s1_reactors['lwr_total'][721])\n",
    "print(s1_reactors[['lwr_total','Year']][1087:1091])\n",
    "print(s1_reactors[['lwr_total','Year']][30:35])"
   ]
  },
  {
   "cell_type": "code",
   "execution_count": 7,
   "id": "948c4d54",
   "metadata": {
    "scrolled": true
   },
   "outputs": [
    {
     "data": {
      "text/html": [
       "<div>\n",
       "<style scoped>\n",
       "    .dataframe tbody tr th:only-of-type {\n",
       "        vertical-align: middle;\n",
       "    }\n",
       "\n",
       "    .dataframe tbody tr th {\n",
       "        vertical-align: top;\n",
       "    }\n",
       "\n",
       "    .dataframe thead th {\n",
       "        text-align: right;\n",
       "    }\n",
       "</style>\n",
       "<table border=\"1\" class=\"dataframe\">\n",
       "  <thead>\n",
       "    <tr style=\"text-align: right;\">\n",
       "      <th></th>\n",
       "      <th>Year</th>\n",
       "      <th>Energy</th>\n",
       "    </tr>\n",
       "  </thead>\n",
       "  <tbody>\n",
       "    <tr>\n",
       "      <th>55</th>\n",
       "      <td>2022</td>\n",
       "      <td>90.417083</td>\n",
       "    </tr>\n",
       "    <tr>\n",
       "      <th>56</th>\n",
       "      <td>2023</td>\n",
       "      <td>90.846333</td>\n",
       "    </tr>\n",
       "    <tr>\n",
       "      <th>57</th>\n",
       "      <td>2024</td>\n",
       "      <td>90.042667</td>\n",
       "    </tr>\n",
       "    <tr>\n",
       "      <th>58</th>\n",
       "      <td>2025</td>\n",
       "      <td>89.456500</td>\n",
       "    </tr>\n",
       "    <tr>\n",
       "      <th>59</th>\n",
       "      <td>2026</td>\n",
       "      <td>88.280583</td>\n",
       "    </tr>\n",
       "  </tbody>\n",
       "</table>\n",
       "</div>"
      ],
      "text/plain": [
       "    Year     Energy\n",
       "55  2022  90.417083\n",
       "56  2023  90.846333\n",
       "57  2024  90.042667\n",
       "58  2025  89.456500\n",
       "59  2026  88.280583"
      ]
     },
     "execution_count": 7,
     "metadata": {},
     "output_type": "execute_result"
    }
   ],
   "source": [
    "#energy\n",
    "s1_energy = tm.get_annual_electricity(s1_outfile)\n",
    "s1_energy[55:60]"
   ]
  },
  {
   "cell_type": "markdown",
   "id": "15bdbab3",
   "metadata": {},
   "source": [
    "Annual electricity for 2025:89.45655 GWe-yr\n",
    "\n",
    "\n",
    "Monthly electricity for 2025:\n",
    "* January: 91.448\n",
    "* February: 91.412\n",
    "* March: 91.376\n",
    "* April: 89.396\n",
    "* May: 88.573\n",
    "* June: 89.3\n",
    "* July: 91.130\n",
    "* August: 84.061\n",
    "* Spetember: 86.184\n",
    "* October: 91.514\n",
    "* November:90.791\n",
    "* December: 83.104"
   ]
  },
  {
   "cell_type": "code",
   "execution_count": 8,
   "id": "63de5475",
   "metadata": {},
   "outputs": [
    {
     "data": {
      "image/png": "[encoded data removed]",
      "text/plain": [
       "<Figure size 432x288 with 1 Axes>"
      ]
     },
     "metadata": {
      "needs_background": "light"
     },
     "output_type": "display_data"
    }
   ],
   "source": [
    "plt.plot(s1_energy['Year'], s1_energy['Energy'])\n",
    "plt.xlabel('Year', fontsize=16)\n",
    "plt.ylabel('Energy (GWe-yr)', fontsize=16)\n",
    "plt.xticks(fontsize=14)\n",
    "plt.yticks(fontsize=14)\n",
    "plt.savefig('figures/s1_energy.pdf')"
   ]
  },
  {
   "cell_type": "code",
   "execution_count": 9,
   "id": "507ecd37",
   "metadata": {},
   "outputs": [
    {
     "data": {
      "image/png": "[encoded data removed]",
      "text/plain": [
       "<Figure size 504x288 with 2 Axes>"
      ]
     },
     "metadata": {
      "needs_background": "light"
     },
     "output_type": "display_data"
    }
   ],
   "source": [
    "#combine energy and reactors for scenario 1 into a single plot\n",
    "fig = plt.figure(figsize=(7,4))\n",
    "ax1 = fig.add_subplot(111)\n",
    "ax1.stackplot(s1_energy['Year'], s1_energy['Energy'], labels=['Energy from LWRs'])\n",
    "ax1.legend()\n",
    "ax1.set_ylabel('Energy (GWe-yr)', fontsize=16)\n",
    "\n",
    "ax2 = ax1.twinx()\n",
    "ax2.plot(s1_reactors['Year'], s1_reactors['lwr_total'], 'maroon', \n",
    "         linestyle='--', label='LWRs Deployed')\n",
    "ax2.legend(loc=(0.7, 0.8))\n",
    "ax2.set_ylabel('Number of reactors', color='maroon', fontsize=16)\n",
    "ax2.tick_params(axis='y', labelcolor='maroon')\n",
    "\n",
    "ax1.set_xlabel('Year', fontsize=16)\n",
    "ax1.tick_params(axis='both', which='major', labelsize=14)\n",
    "ax1.tick_params(axis='both', which='minor', labelsize=14)\n",
    "ax2.tick_params(axis='both', which='minor', labelsize=14)\n",
    "plt.savefig('figures/s1_energy_reactors.pdf', bbox_inches='tight')"
   ]
  },
  {
   "cell_type": "code",
   "execution_count": 10,
   "id": "fa8ec596",
   "metadata": {},
   "outputs": [],
   "source": [
    "s1_transactions = tm.add_receiver_prototype(s1_outfile)"
   ]
  },
  {
   "cell_type": "code",
   "execution_count": 17,
   "id": "ef95d7b9",
   "metadata": {
    "scrolled": true
   },
   "outputs": [
    {
     "data": {
      "image/png": "[encoded data removed]",
      "text/plain": [
       "<Figure size 504x288 with 1 Axes>"
      ]
     },
     "metadata": {
      "needs_background": "light"
     },
     "output_type": "display_data"
    }
   ],
   "source": [
    "#Uranium resources sent to reactors\n",
    "s1_uox = tm.commodity_mass_traded(s1_transactions, 'fresh_uox')\n",
    "plt.figure(figsize=(7,4))\n",
    "plt.plot(s1_uox['Year'], s1_uox['Quantity']/1000)\n",
    "plt.ylabel('Mass (t)', fontsize=16)\n",
    "plt.xlabel('Year', fontsize=16)\n",
    "plt.xticks(fontsize=14)\n",
    "plt.yticks(fontsize=14)\n",
    "plt.savefig('figures/s1_uox.pdf', bbox_inches='tight')"
   ]
  },
  {
   "cell_type": "code",
   "execution_count": 24,
   "id": "912f97e3",
   "metadata": {},
   "outputs": [
    {
     "name": "stdout",
     "output_type": "stream",
     "text": [
      "Max uranium: 513717.84232364414\n",
      "Average across entire time: 135742.53053148882\n",
      "Average after 2025: 81110.40952552758\n",
      "Average before 2025: 164921.95074947685\n",
      "Total after 2025: 29848630.705394212\n"
     ]
    }
   ],
   "source": [
    "print('Max uranium:',s1_uox['Quantity'].max())\n",
    "print('Average across entire time:',s1_uox['Quantity'][32:1089].mean())\n",
    "print('Average after 2025:',s1_uox['Quantity'][721:1089].mean())\n",
    "print('Average before 2025:',s1_uox['Quantity'][32:721].mean())\n",
    "print('Total after 2025:', s1_uox['Quantity'][721:].cumsum()[1499])"
   ]
  },
  {
   "cell_type": "code",
   "execution_count": 20,
   "id": "788ff8a8",
   "metadata": {},
   "outputs": [
    {
     "data": {
      "image/png": "[encoded data removed]",
      "text/plain": [
       "<Figure size 432x288 with 1 Axes>"
      ]
     },
     "metadata": {
      "needs_background": "light"
     },
     "output_type": "display_data"
    }
   ],
   "source": [
    "#Natural uranium needed\n",
    "s1_tails = tm.calculate_tails(s1_uox['Quantity'], assays['LWR'], assays['tails'], assays['feed'])\n",
    "s1_feed = tm.calculate_feed(s1_uox['Quantity'], s1_tails)\n",
    "\n",
    "plt.plot(s1_uox['Year'], s1_feed/1000)\n",
    "plt.xlabel('Year', fontsize=16)\n",
    "plt.ylabel('Mass (t)', fontsize=16)\n",
    "plt.xticks(fontsize=14)\n",
    "plt.yticks(fontsize=14)\n",
    "\n",
    "plt.savefig('figures/s1_feed.pdf', bbox_inches='tight')"
   ]
  },
  {
   "cell_type": "code",
   "execution_count": 22,
   "id": "5cc72a86",
   "metadata": {},
   "outputs": [
    {
     "name": "stdout",
     "output_type": "stream",
     "text": [
      "Maximum needed: 4121806.5626750314\n",
      "Average feed: 1089127.9357712409\n",
      "Average feed after 2025: 650788.0216333915\n",
      "Average feed before 2025: 1323248.5285183073\n"
     ]
    }
   ],
   "source": [
    "print('Maximum needed:',s1_feed.max())\n",
    "print('Average feed:',s1_feed[32:1089].mean())\n",
    "print('Average feed after 2025:', s1_feed[721:1089].mean())\n",
    "print('Average feed before 2025:', s1_feed[32:721].mean())"
   ]
  },
  {
   "cell_type": "code",
   "execution_count": 25,
   "id": "26d19aaf",
   "metadata": {},
   "outputs": [
    {
     "data": {
      "image/png": "[encoded data removed]",
      "text/plain": [
       "<Figure size 432x288 with 1 Axes>"
      ]
     },
     "metadata": {
      "needs_background": "light"
     },
     "output_type": "display_data"
    }
   ],
   "source": [
    "# SWU capacity \n",
    "s1_swu = tm.calculate_SWU(s1_uox['Quantity'], assays['LWR'], s1_tails, \n",
    "                          assays['tails'], s1_feed, assays['feed'])\n",
    "plt.plot(s1_uox[\"Year\"], s1_swu/1000)\n",
    "plt.xlabel('Year', fontsize=16)\n",
    "plt.ylabel('SWU (t-SWU)', fontsize=16)\n",
    "plt.xticks(fontsize=14)\n",
    "plt.yticks(fontsize=14)\n",
    "\n",
    "plt.savefig('figures/s1_swu.pdf', bbox_inches='tight')"
   ]
  },
  {
   "cell_type": "code",
   "execution_count": 27,
   "id": "9e83ced8",
   "metadata": {},
   "outputs": [
    {
     "name": "stdout",
     "output_type": "stream",
     "text": [
      "Maximum needed: 3714166.4210974053\n",
      "Average SWU: 981414.9077135144\n",
      "Average SWU after 2025: 586426.1169098741\n",
      "Average SWU before 2025: 1192381.3446013804\n"
     ]
    }
   ],
   "source": [
    "print('Maximum needed:',s1_swu.max())\n",
    "print('Average SWU:',s1_swu[32:1089].mean())\n",
    "print('Average SWU after 2025:', s1_swu[721:1089].mean())\n",
    "print('Average SWU before 2025:', s1_swu[32:721].mean())"
   ]
  },
  {
   "cell_type": "code",
   "execution_count": 28,
   "id": "ecf580e9",
   "metadata": {},
   "outputs": [
    {
     "data": {
      "image/png": "[encoded data removed]",
      "text/plain": [
       "<Figure size 432x288 with 1 Axes>"
      ]
     },
     "metadata": {
      "needs_background": "light"
     },
     "output_type": "display_data"
    }
   ],
   "source": [
    "# waste discharged\n",
    "s1_waste = tm.commodity_mass_traded(s1_transactions, 'spent_uox')\n",
    "\n",
    "plt.plot(s1_waste['Year'], s1_waste['Quantity']/1000)\n",
    "plt.xlabel('Year', fontsize=16)\n",
    "plt.ylabel('Mass (t)', fontsize=16)\n",
    "plt.xticks(fontsize=14)\n",
    "plt.yticks(fontsize=14)\n",
    "plt.savefig('figures/s1_waste.pdf', bbox_inches='tight')"
   ]
  },
  {
   "cell_type": "code",
   "execution_count": 31,
   "id": "f59e4b88",
   "metadata": {},
   "outputs": [
    {
     "name": "stdout",
     "output_type": "stream",
     "text": [
      "Maximum needed: 393622.40663899935\n",
      "Average waste: 130113.73298735515\n",
      "Average waste after 2025: 93898.30642251472\n",
      "Average waste before 2025: 149456.66038338022\n"
     ]
    }
   ],
   "source": [
    "print('Maximum needed:',s1_waste['Quantity'].max())\n",
    "print('Average waste:',s1_waste['Quantity'][32:1089].mean())\n",
    "print('Average waste after 2025:', s1_waste['Quantity'][721:1089].mean())\n",
    "print('Average waste before 2025:', s1_waste['Quantity'][32:721].mean())"
   ]
  },
  {
   "cell_type": "markdown",
   "id": "fb4e0c7c",
   "metadata": {},
   "source": [
    "## No growth scenarios"
   ]
  },
  {
   "cell_type": "code",
   "execution_count": 32,
   "id": "effae45e",
   "metadata": {},
   "outputs": [],
   "source": [
    "out_files_nogrowth = {'s2_outfile':\"../outputs/mmr_nogrowth.sqlite\",\n",
    "            's3_outfile':\"../outputs/xe100_nogrowth.sqlite\",\n",
    "            's4_outfile':\"../outputs/xe100_mmr_nogrowth.sqlite\",\n",
    "            's5_outfile':\"../outputs/mmr_voygr_nogrowth.sqlite\",\n",
    "            's6_outfile':\"../outputs/xe100_voygr_nogrowth.sqlite\",\n",
    "            's7_outfile':\"../outputs/xe100_mmr_voygr_nogrowth.sqlite\"}"
   ]
  },
  {
   "cell_type": "code",
   "execution_count": 41,
   "id": "65af14bf",
   "metadata": {
    "scrolled": true
   },
   "outputs": [
    {
     "data": {
      "image/png": "[encoded data removed]",
      "text/plain": [
       "<Figure size 432x288 with 1 Axes>"
      ]
     },
     "metadata": {
      "needs_background": "light"
     },
     "output_type": "display_data"
    },
    {
     "data": {
      "image/png": "[encoded data removed]",
      "text/plain": [
       "<Figure size 432x288 with 1 Axes>"
      ]
     },
     "metadata": {
      "needs_background": "light"
     },
     "output_type": "display_data"
    }
   ],
   "source": [
    "reactors_nogrowth = {'s2_reactors':'',\n",
    "            's3_reactors':\"\",\n",
    "            's4_reactors':\"\",\n",
    "            's5_reactors':\"\",\n",
    "            's6_reactors':\"\",\n",
    "            's7_reactors':\"\"}\n",
    "plt.figure(0)\n",
    "for key in reactors_nogrowth:\n",
    "    scenario = key[:2]\n",
    "    reactors_nogrowth[key] = tm.get_prototype_totals(out_files_nogrowth[scenario+'_outfile'], non_lwr, adv_rxs)\n",
    "    plt.plot(reactors_nogrowth[key]['Year'][721:], reactors_nogrowth[key]['advrx_total'][721:], label=scenario)\n",
    "plt.xlabel('Year', fontsize=16)\n",
    "plt.ylabel('Number of Reactors', fontsize=16)\n",
    "plt.xticks(fontsize=14)\n",
    "plt.yticks(fontsize=14)\n",
    "plt.legend()\n",
    "plt.savefig('figures/nogrowth_reactors.pdf', bbox_inches='tight')\n",
    "\n",
    "plt.figure(1)\n",
    "for key in ['s3_reactors','s4_reactors','s5_reactors','s6_reactors','s7_reactors']:\n",
    "    scenario = key[:2]\n",
    "    reactors_nogrowth[key] = tm.get_prototype_totals(out_files_nogrowth[scenario+'_outfile'], non_lwr, adv_rxs)\n",
    "    plt.plot(reactors_nogrowth[key]['Year'][721:], reactors_nogrowth[key]['advrx_total'][721:], label=scenario)\n",
    "plt.xlabel('Year', fontsize=16)\n",
    "plt.ylabel('Number of Reactors', fontsize=16)\n",
    "plt.xticks(fontsize=14)\n",
    "plt.yticks(fontsize=14)\n",
    "plt.legend()\n",
    "plt.savefig('figures/nogrowth_reactors_3-7.pdf', bbox_inches='tight')"
   ]
  },
  {
   "cell_type": "code",
   "execution_count": 34,
   "id": "1fd05a9d",
   "metadata": {
    "scrolled": true
   },
   "outputs": [
    {
     "name": "stdout",
     "output_type": "stream",
     "text": [
      "Max MMR in S2: 8946.0\n",
      "Max MMR added in one step in S2: 378.0\n",
      "Total number of MMR deployed in S2; 25887.0\n",
      "Max Xe-100 in S2: 0.0\n",
      "Max Xe-100 added in one step in S2: 0.0\n",
      "Total number of Xe-100 deployed in S2; 0.0\n",
      "Max VOYGR in S2: 0.0\n",
      "Max VOYGR added in one step in S2: 0.0\n",
      "Total number of VOYGR deployed in S2; 0.0\n",
      "Max Adv Rx in S2: 8946.0\n",
      "Max Adv Rx added in one step in S2: 378.0\n",
      "Total number of reactors deployed in S2: 25887.0\n",
      "Max MMR in S3: 0.0\n",
      "Max MMR added in one step in S3: 0.0\n",
      "Total number of MMR deployed in S3; 0.0\n",
      "Max Xe-100 in S3: 1193.0\n",
      "Max Xe-100 added in one step in S3: 50.0\n",
      "Total number of Xe-100 deployed in S3; 1193.0\n",
      "Max VOYGR in S3: 0.0\n",
      "Max VOYGR added in one step in S3: 0.0\n",
      "Total number of VOYGR deployed in S3; 0.0\n",
      "Max Adv Rx in S3: 1193.0\n",
      "Max Adv Rx added in one step in S3: 50.0\n",
      "Total number of reactors deployed in S3: 1193.0\n",
      "Max MMR in S4: 623.0\n",
      "Max MMR added in one step in S4: 26.0\n",
      "Total number of MMR deployed in S4; 1587.0\n",
      "Max Xe-100 in S4: 1128.0\n",
      "Max Xe-100 added in one step in S4: 50.0\n",
      "Total number of Xe-100 deployed in S4; 1128.0\n",
      "Max VOYGR in S4: 0.0\n",
      "Max VOYGR added in one step in S4: 0.0\n",
      "Total number of VOYGR deployed in S4; 0.0\n",
      "Max Adv Rx in S4: 1692.0\n",
      "Max Adv Rx added in one step in S4: 58.0\n",
      "Total number of reactors deployed in S4: 2715.0\n",
      "Max MMR in S5: 136.0\n",
      "Max MMR added in one step in S5: 4.0\n",
      "Total number of MMR deployed in S5; 397.0\n",
      "Max Xe-100 in S5: 0.0\n",
      "Max Xe-100 added in one step in S5: 0.0\n",
      "Total number of Xe-100 deployed in S5; 0.0\n",
      "Max VOYGR in S5: 1762.0\n",
      "Max VOYGR added in one step in S5: 75.0\n",
      "Total number of VOYGR deployed in S5; 1762.0\n",
      "Max Adv Rx in S5: 1898.0\n",
      "Max Adv Rx added in one step in S5: 78.0\n",
      "Total number of reactors deployed in S5: 2159.0\n",
      "Max MMR in S6: 0.0\n",
      "Max MMR added in one step in S6: 0.0\n",
      "Total number of MMR deployed in S6; 0.0\n",
      "Max Xe-100 in S6: 1061.0\n",
      "Max Xe-100 added in one step in S6: 47.0\n",
      "Total number of Xe-100 deployed in S6; 1061.0\n",
      "Max VOYGR in S6: 198.0\n",
      "Max VOYGR added in one step in S6: 8.0\n",
      "Total number of VOYGR deployed in S6; 198.0\n",
      "Max Adv Rx in S6: 1259.0\n",
      "Max Adv Rx added in one step in S6: 52.0\n",
      "Total number of reactors deployed in S6: 1259.0\n",
      "Max MMR in S7: 616.0\n",
      "Max MMR added in one step in S7: 26.0\n",
      "Total number of MMR deployed in S7; 1207.0\n",
      "Max Xe-100 in S7: 924.0\n",
      "Max Xe-100 added in one step in S7: 50.0\n",
      "Total number of Xe-100 deployed in S7; 924.0\n",
      "Max VOYGR in S7: 350.0\n",
      "Max VOYGR added in one step in S7: 50.0\n",
      "Total number of VOYGR deployed in S7; 350.0\n",
      "Max Adv Rx in S7: 1768.0\n",
      "Max Adv Rx added in one step in S7: 58.0\n",
      "Total number of reactors deployed in S7: 2481.0\n"
     ]
    }
   ],
   "source": [
    "for key in reactors_nogrowth:\n",
    "    scenario = key[1]\n",
    "    for adv_rx in adv_rxs:\n",
    "        print(f'Max {adv_rx} in S{scenario}:', reactors_nogrowth[key][adv_rx +'_total'].max())\n",
    "        print(f'Max {adv_rx} added in one step in S{scenario}:', reactors_nogrowth[key][adv_rx +'_enter'].max())\n",
    "        prototype_sum = reactors_nogrowth[key][adv_rx +'_enter'].cumsum()\n",
    "        print(f'Total number of {adv_rx} deployed in S{scenario}:', prototype_sum.iloc[-1])\n",
    "    print(f'Max Adv Rx in S{scenario}:', reactors_nogrowth[key]['advrx_total'].max())\n",
    "    print(f'Max Adv Rx added in one step in S{scenario}:', reactors_nogrowth[key]['advrx_enter'].max())\n",
    "    advrx_sum = reactors_nogrowth[key]['advrx_enter'].cumsum()\n",
    "    print(f'Total number of reactors deployed in S{scenario}:', advrx_sum.iloc[-1])  "
   ]
  },
  {
   "cell_type": "code",
   "execution_count": null,
   "id": "b7efd7e1",
   "metadata": {},
   "outputs": [],
   "source": [
    "# Energy\n",
    "energy_nogrowth = {'s2_energy':'', 's3_energy':'', 's4_energy':'',\n",
    "          's5_energy':'', 's6_energy':'', 's7_energy':''}\n",
    "for key in energy_nogrowth:\n",
    "    scenario = key[:2]\n",
    "    energy_nogrowth[key] = tm.get_annual_electricity(out_files_nogrowth[scenario + '_outfile'])\n",
    "    plt.plot(energy_nogrowth[key]['Year'], energy_nogrowth[key]['Energy'], label=scenario)\n",
    "plt.plot(np.linspace(2025,2089,65), np.repeat(89.45655, 65), 'k', label='Demand')\n",
    "plt.xlabel('Year', fontsize=16)\n",
    "plt.ylabel('Energy (GWe-yr)', fontsize=16)\n",
    "plt.xticks(fontsize=14)\n",
    "plt.yticks(fontsize=14)\n",
    "plt.legend()\n",
    "plt.savefig('figures/nogrowth_energy.pdf', bbox_inches='tight')"
   ]
  },
  {
   "cell_type": "code",
   "execution_count": null,
   "id": "9d561628",
   "metadata": {},
   "outputs": [],
   "source": [
    "# Fuel mass\n",
    "transactions_nogrowth = {'s2':'', 's3':'', 's4':'','s5':'', 's6':'','s7':''}\n",
    "total_fuel_nogrowth = {'s2':'', 's3':'', 's4':'',\n",
    "             's5':'', 's6':'', 's7':''}\n",
    "for key in total_fuel_nogrowth:\n",
    "    scenario = key[:2]\n",
    "    transactions_nogrowth[scenario] = tm.add_receiver_prototype(out_files_nogrowth[scenario + '_outfile'])\n",
    "    fuel = tm.commodity_mass_traded(transactions_nogrowth[scenario], 'fresh_uox')\n",
    "    total_fuel_nogrowth[key] = tm.add_year(fuel)"
   ]
  },
  {
   "cell_type": "code",
   "execution_count": null,
   "id": "39aabf3a",
   "metadata": {},
   "outputs": [],
   "source": [
    "for key in plotting_order_nogrowth: \n",
    "    plt.plot(total_fuel_nogrowth[key]['Year'], total_fuel_nogrowth[key]['Quantity']/1000, label=key)\n",
    "plt.xlabel('Year', fontsize=16)\n",
    "plt.ylabel('Mass of fuel (t)', fontsize=16)\n",
    "plt.xticks(fontsize=14)\n",
    "plt.yticks(fontsize=14)\n",
    "plt.legend()\n",
    "plt.savefig('figures/nogrowth_fuel.pdf', bbox_inches='tight')"
   ]
  },
  {
   "cell_type": "code",
   "execution_count": null,
   "id": "5db5708c",
   "metadata": {},
   "outputs": [],
   "source": [
    "#Dividing fuel mass by prototype\n",
    "fuel_to_reactors_nogrowth = {'s2_MMR':'', 's2_Xe-100':'', 's2_VOYGR':'', 's2_LWR':'',\n",
    "                       's3_MMR':'', 's3_Xe-100':'', 's3_VOYGR':'', 's3_LWR':'',\n",
    "                       's4_MMR':'', 's4_Xe-100':'', 's4_VOYGR':'', 's4_LWR':'',\n",
    "                       's5_MMR':'', 's5_Xe-100':'', 's5_VOYGR':'', 's5_LWR':'',\n",
    "                       's6_MMR':'', 's6_Xe-100':'', 's6_VOYGR':'', 's6_LWR':'',\n",
    "                       's7_MMR':'', 's7_Xe-100':'', 's7_VOYGR':'', 's7_LWR':''}\n",
    "uranium_to_reactors_nogrowth = {'s2_MMR':'', 's2_Xe-100':'', 's2_VOYGR':'', 's2_LWR':'', 's2_total':'',\n",
    "                       's3_MMR':'', 's3_Xe-100':'', 's3_VOYGR':'', 's3_LWR':'', 's3_total':'',\n",
    "                       's4_MMR':'', 's4_Xe-100':'', 's4_VOYGR':'', 's4_LWR':'', 's4_total':'',\n",
    "                       's5_MMR':'', 's5_Xe-100':'', 's5_VOYGR':'', 's5_LWR':'', 's5_total':'',\n",
    "                       's6_MMR':'', 's6_Xe-100':'', 's6_VOYGR':'', 's6_LWR':'', 's6_total':'',\n",
    "                       's7_MMR':'', 's7_Xe-100':'', 's7_VOYGR':'', 's7_LWR':'', 's7_total':'',}\n",
    "for key in fuel_to_reactors_nogrowth:\n",
    "    scenario = key[:2]\n",
    "    reactor = key[3:]\n",
    "    if reactor == 'LWR':\n",
    "        fuel_to_reactors_nogrowth[key] = tm.commodity_to_LWR(transactions_nogrowth[scenario], \n",
    "                                                        'fresh_uox', adv_rxs)\n",
    "    elif reactor != 'total': \n",
    "        fuel_to_reactors_nogrowth[key] = tm.commodity_to_prototype(transactions_nogrowth[scenario], \n",
    "                                                        'fresh_uox', reactor)\n",
    "    uranium_to_reactors_nogrowth[key] = fuel_to_reactors_nogrowth[key]['Quantity']*uranium_fractions[reactor]"
   ]
  },
  {
   "cell_type": "code",
   "execution_count": null,
   "id": "d3cc143b",
   "metadata": {
    "scrolled": true
   },
   "outputs": [],
   "source": [
    "for key in plotting_order_nogrowth:\n",
    "    \n",
    "    plt.figure(0)\n",
    "    AR_fuel = fuel_to_reactors_nogrowth[key + '_MMR'].copy()\n",
    "    for reactor in ['Xe-100', 'VOYGR']:\n",
    "        AR_fuel['Quantity'] += fuel_to_reactors_nogrowth[key+'_'+reactor]['Quantity']\n",
    "    plt.plot(AR_fuel['Year'], AR_fuel['Quantity']/1000, label=key)\n",
    "    plt.legend()\n",
    "    plt.xlabel('Year', fontsize=16)\n",
    "    plt.ylabel('Mass of fuel (t)', fontsize=16)\n",
    "    plt.xticks(fontsize=14)\n",
    "    plt.yticks(fontsize=14)\n",
    "    plt.savefig('figures/nogrowth_AR_fuel.pdf', bbox_inches='tight')\n",
    "  \n",
    "    plt.figure(1)\n",
    "    AR_uranium = uranium_to_reactors_nogrowth[key + '_MMR'].copy()\n",
    "    for reactor in ['Xe-100', 'VOYGR']:\n",
    "        AR_uranium += uranium_to_reactors_nogrowth[key+'_'+reactor]\n",
    "    plt.plot(AR_fuel['Year'], AR_uranium/1000, label=key)\n",
    "    plt.legend()\n",
    "    plt.xlabel('Year', fontsize=16)\n",
    "    plt.ylabel('Mass of uranium (t)', fontsize=16)\n",
    "    plt.xticks(fontsize=14)\n",
    "    plt.yticks(fontsize=14)\n",
    "    plt.savefig('figures/nogrowth_AR_uranium.pdf', bbox_inches='tight')\n",
    "    \n",
    "    plt.figure(2)\n",
    "    uranium_to_reactors_nogrowth[key + '_total'] = AR_uranium + \\\n",
    "            uranium_to_reactors_nogrowth[key+'_LWR']\n",
    "    plt.plot(AR_fuel['Year'], uranium_to_reactors_nogrowth[key+'_total']/1000, label=key)\n",
    "    plt.legend()\n",
    "    plt.xlabel('Year', fontsize=16)\n",
    "    plt.ylabel('Mass of uranium (t)', fontsize=16)\n",
    "    plt.xticks(fontsize=14)\n",
    "    plt.yticks(fontsize=14)\n",
    "    plt.savefig('figures/nogrowth_uranium.pdf', bbox_inches='tight')\n",
    "    \n",
    "    plt.figure(3)\n",
    "    plt.plot(fuel_to_reactors_nogrowth[key+'_MMR']['Year'], \n",
    "             uranium_to_reactors_nogrowth[key+'_total'].cumsum()/1000, label=key)\n",
    "    plt.legend()\n",
    "    plt.xlabel('Year', fontsize=16)\n",
    "    plt.ylabel('Mass of uranium (t)', fontsize=16)\n",
    "    plt.xticks(fontsize=14)\n",
    "    plt.yticks(fontsize=14)\n",
    "    plt.savefig('figures/nogrowth_uranium_cumulative.pdf', bbox_inches='tight')\n",
    "    "
   ]
  },
  {
   "cell_type": "code",
   "execution_count": null,
   "id": "ff1871e9",
   "metadata": {
    "scrolled": true
   },
   "outputs": [],
   "source": [
    "#Reporting uranium masses\n",
    "for scenario in plotting_order_nogrowth:\n",
    "    print('Average mass in', scenario, ':', uranium_to_reactors_nogrowth[scenario+'_total'].mean())\n",
    "    print('Maximum mass in', scenario, ':', uranium_to_reactors_nogrowth[scenario+'_total'].max())\n",
    "    for reactor in adv_rxs:\n",
    "        print('Average sent to', scenario, reactor, 'after 2025:', \n",
    "                  uranium_to_reactors_nogrowth[scenario+'_'+reactor][721:].mean())\n",
    "        print('Maximum sent to', scenario, reactor, 'after 2025:', \n",
    "                  uranium_to_reactors_nogrowth[scenario+'_'+reactor][721:].max())\n",
    "    HALEU_mass = uranium_to_reactors_nogrowth[scenario+'_MMR'] + uranium_to_reactors_nogrowth[scenario+'_Xe-100']\n",
    "    print('Average HALEU mass in', scenario,'after 2025:', HALEU_mass[721:].mean())\n",
    "    print('Maximum HALEU mass in', scenario,'after 2025:', HALEU_mass[721:].max())"
   ]
  },
  {
   "cell_type": "code",
   "execution_count": null,
   "id": "062e01f9",
   "metadata": {},
   "outputs": [],
   "source": [
    "#SWU Calculations\n",
    "tails_nogrowth = {'s2_MMR':'', 's2_Xe-100':'', 's2_VOYGR':'', 's2_LWR':'',\n",
    "        's3_MMR':'', 's3_Xe-100':'', 's3_VOYGR':'', 's3_LWR':'',\n",
    "        's4_MMR':'', 's4_Xe-100':'', 's4_VOYGR':'', 's4_LWR':'',\n",
    "        's5_MMR':'', 's5_Xe-100':'', 's5_VOYGR':'', 's5_LWR':'',\n",
    "        's6_MMR':'', 's6_Xe-100':'', 's6_VOYGR':'', 's6_LWR':'',\n",
    "        's7_MMR':'', 's7_Xe-100':'', 's7_VOYGR':'', 's7_LWR':''}\n",
    "feed_nogrowth = {'s2_MMR':'', 's2_Xe-100':'', 's2_VOYGR':'', 's2_LWR':'', 's2_total':'',\n",
    "        's3_MMR':'', 's3_Xe-100':'', 's3_VOYGR':'', 's3_LWR':'', 's3_total':'',\n",
    "        's4_MMR':'', 's4_Xe-100':'', 's4_VOYGR':'', 's4_LWR':'', 's4_total':'',\n",
    "        's5_MMR':'', 's5_Xe-100':'', 's5_VOYGR':'', 's5_LWR':'', 's5_total':'',\n",
    "        's6_MMR':'', 's6_Xe-100':'', 's6_VOYGR':'', 's6_LWR':'', 's6_total':'',\n",
    "        's7_MMR':'', 's7_Xe-100':'', 's7_VOYGR':'', 's7_LWR':'', 's7_total':'',}\n",
    "SWU_nogrowth = {'s2_MMR':'', 's2_Xe-100':'', 's2_VOYGR':'', 's2_LWR':'', 's2_total':'',\n",
    "        's3_MMR':'', 's3_Xe-100':'', 's3_VOYGR':'', 's3_LWR':'', 's3_total':'',\n",
    "        's4_MMR':'', 's4_Xe-100':'', 's4_VOYGR':'', 's4_LWR':'', 's4_total':'',\n",
    "        's5_MMR':'', 's5_Xe-100':'', 's5_VOYGR':'', 's5_LWR':'', 's5_total':'',\n",
    "        's6_MMR':'', 's6_Xe-100':'', 's6_VOYGR':'', 's6_LWR':'', 's6_total':'',\n",
    "        's7_MMR':'', 's7_Xe-100':'', 's7_VOYGR':'', 's7_LWR':'', 's7_total':'',}\n",
    "for key in feed_nogrowth:\n",
    "    reactor = key[3:]\n",
    "    if reactor != 'total':\n",
    "        tails_nogrowth[key] = tm.calculate_tails(fuel_to_reactors_nogrowth[key]['Quantity']*uranium_fractions[reactor], \n",
    "                                    assays[reactor], assays['tails'], assays['feed'])\n",
    "        feed_nogrowth[key] = tm.calculate_feed(fuel_to_reactors_nogrowth[key]['Quantity']*uranium_fractions[reactor], \n",
    "                                           tails_nogrowth[key])\n",
    "        SWU_nogrowth[key] = tm.calculate_SWU(fuel_to_reactors_nogrowth[key]['Quantity']*uranium_fractions[reactor],\n",
    "                                assays[reactor], tails_nogrowth[key], assays['tails'],\n",
    "                                feed_nogrowth[key], assays['feed'])"
   ]
  },
  {
   "cell_type": "code",
   "execution_count": null,
   "id": "5e92a600",
   "metadata": {
    "scrolled": true
   },
   "outputs": [],
   "source": [
    "for key in plotting_order_nogrowth:\n",
    "    AR_feed = feed_nogrowth[key+'_MMR'].copy()\n",
    "    for reactor in ['Xe-100','VOYGR']:\n",
    "        AR_feed += feed_nogrowth[key + '_' + reactor]\n",
    "    plt.figure(0)\n",
    "    plt.plot(fuel_to_reactors_nogrowth[key + '_MMR']['Year'], AR_feed/1000, label=key)\n",
    "    plt.legend()\n",
    "    plt.xlabel('Year', fontsize=16)\n",
    "    plt.ylabel('Feed uranium (t)', fontsize=16)\n",
    "    plt.xticks(fontsize=14)\n",
    "    plt.yticks(fontsize=14)\n",
    "    plt.savefig('figures/nogrowth_AR_feed.pdf', bbox_inches='tight')\n",
    "    \n",
    "    plt.figure(1)\n",
    "    feed_nogrowth[key+'_total'] = AR_feed + feed_nogrowth[key +'_LWR']\n",
    "    plt.plot(fuel_to_reactors_nogrowth[key + '_MMR']['Year'], feed_nogrowth[key+'_total']/1000, label=key)\n",
    "    plt.legend()\n",
    "    plt.xlabel('Year', fontsize=16)\n",
    "    plt.ylabel('Feed uranium (t)', fontsize=16)\n",
    "    plt.xticks(fontsize=14)\n",
    "    plt.yticks(fontsize=14)\n",
    "    plt.savefig('figures/nogrowth_feed.pdf', bbox_inches='tight')\n",
    "    \n",
    "    plt.figure(2)\n",
    "    plt.plot(fuel_to_reactors_nogrowth[key+'_MMR']['Year'], feed_nogrowth[key+'_total'].cumsum()/1000, label=key)\n",
    "    plt.legend()\n",
    "    plt.xlabel('Year', fontsize=16)\n",
    "    plt.ylabel('Mass of uranium (t)', fontsize=16)\n",
    "    plt.xticks(fontsize=14)\n",
    "    plt.yticks(fontsize=14)\n",
    "    plt.savefig('figures/nogrowth_feed_cumulative.pdf', bbox_inches='tight')"
   ]
  },
  {
   "cell_type": "code",
   "execution_count": null,
   "id": "46318c93",
   "metadata": {
    "scrolled": true
   },
   "outputs": [],
   "source": [
    "#Reporting feed masses\n",
    "for scenario in plotting_order_nogrowth:\n",
    "    print('Average mass in', scenario, ':', feed_nogrowth[scenario+'_total'].mean())\n",
    "    print('Maximum mass in', scenario, ':', feed_nogrowth[scenario+'_total'].max())\n",
    "    for reactor in adv_rxs:\n",
    "        print('Average sent to', scenario, reactor, 'after 2025:', \n",
    "                  feed_nogrowth[scenario+'_'+reactor][721:].mean())\n",
    "        print('Maximum sent to', scenario, reactor, 'after 2025:', \n",
    "                  feed_nogrowth[scenario+'_'+reactor][721:].max())"
   ]
  },
  {
   "cell_type": "code",
   "execution_count": null,
   "id": "be083d1d",
   "metadata": {
    "scrolled": true
   },
   "outputs": [],
   "source": [
    "for key in ['s2', 's5', 's7', 's6','s3', 's4']:\n",
    "    AR_SWU = SWU_nogrowth[key+'_MMR'].copy()\n",
    "    for reactor in ['Xe-100','VOYGR']:\n",
    "        AR_SWU += SWU_nogrowth[key + '_' + reactor]\n",
    "    plt.figure(0)\n",
    "    plt.plot(fuel_to_reactors_nogrowth[key + '_MMR']['Year'], AR_SWU/1000, label=key)\n",
    "    plt.legend()\n",
    "    plt.xlabel('Year', fontsize=16)\n",
    "    plt.ylabel('SWU (t-SWU)', fontsize=16)\n",
    "    plt.xticks(fontsize=14)\n",
    "    plt.yticks(fontsize=14)\n",
    "    plt.savefig('figures/nogrowth_AR_SWU.pdf', bbox_inches='tight')\n",
    "    \n",
    "    plt.figure(1)\n",
    "    SWU_nogrowth[key+'_total'] = AR_SWU + SWU_nogrowth[key +'_LWR']\n",
    "    plt.plot(fuel_to_reactors_nogrowth[key + '_MMR']['Year'], SWU_nogrowth[key+'_total']/1000, label=key)\n",
    "    plt.legend()\n",
    "    plt.xlabel('Year', fontsize=16)\n",
    "    plt.ylabel('SWU (t-SWU)', fontsize=16)\n",
    "    plt.xticks(fontsize=14)\n",
    "    plt.yticks(fontsize=14)\n",
    "    plt.savefig('figures/nogrowth_SWU.pdf', bbox_inches='tight')"
   ]
  },
  {
   "cell_type": "code",
   "execution_count": null,
   "id": "ee575fe3",
   "metadata": {
    "scrolled": true
   },
   "outputs": [],
   "source": [
    "#Reporting SWU Requirements\n",
    "for scenario in plotting_order_nogrowth:\n",
    "    print('Average mass in ', scenario, ': ', SWU_nogrowth[scenario+'_total'].mean())\n",
    "    print('Maximum mass in ', scenario, ': ', SWU_nogrowth[scenario+'_total'].max())\n",
    "    for reactor in adv_rxs:\n",
    "        print('Average sent to', scenario, reactor, ' after 2025: ', \n",
    "                  SWU_nogrowth[scenario+'_'+reactor][721:].mean())\n",
    "        print('Maximum sent to', scenario, reactor, ' after 2025: ', \n",
    "                  SWU_nogrowth[scenario+'_'+reactor][721:].max())"
   ]
  },
  {
   "cell_type": "code",
   "execution_count": null,
   "id": "1a28be29",
   "metadata": {},
   "outputs": [],
   "source": [
    "# Waste discharged from reactors\n",
    "waste_nogrowth = {'s2_MMR':'', 's2_Xe-100':'', 's2_VOYGR':'', 's2_LWR':'', 's2_total':'',\n",
    "                    's3_MMR':'', 's3_Xe-100':'', 's3_VOYGR':'', 's3_LWR':'', 's3_total':'',\n",
    "                    's4_MMR':'', 's4_Xe-100':'', 's4_VOYGR':'', 's4_LWR':'', 's4_total':'',\n",
    "                    's5_MMR':'', 's5_Xe-100':'', 's5_VOYGR':'', 's5_LWR':'', 's5_total':'',\n",
    "                    's6_MMR':'', 's6_Xe-100':'', 's6_VOYGR':'', 's6_LWR':'', 's6_total':'',\n",
    "                    's7_MMR':'', 's7_Xe-100':'', 's7_VOYGR':'', 's7_LWR':'', 's7_total':''}\n",
    "for key in waste_nogrowth:\n",
    "    scenario = key[:2]\n",
    "    reactor = key[3:]\n",
    "    if reactor != 'total':\n",
    "        waste_nogrowth[key] = tm.commodity_mass_traded(transactions_nogrowth[scenario], waste_commodity[reactor])"
   ]
  },
  {
   "cell_type": "code",
   "execution_count": null,
   "id": "0ec3ac97",
   "metadata": {
    "scrolled": true
   },
   "outputs": [],
   "source": [
    "for key in plotting_order_nogrowth:\n",
    "    AR_waste = waste_nogrowth[key + '_MMR'].copy()\n",
    "    for reactor in ['Xe-100', 'VOYGR']:\n",
    "        AR_waste['Quantity'] += waste_nogrowth[key + '_' + reactor]['Quantity']\n",
    "    plt.figure(0)\n",
    "    plt.plot(AR_waste['Year'], AR_waste['Quantity']/1000, label = key)\n",
    "    plt.xlabel('Year', fontsize=16)\n",
    "    plt.ylabel('Mass (t)', fontsize=16)\n",
    "    plt.xticks(fontsize=14)\n",
    "    plt.yticks(fontsize=14)\n",
    "    plt.legend()\n",
    "    plt.savefig('figures/nogrowth_AR_waste.pdf', bbox_inches='tight')\n",
    "    \n",
    "    plt.figure(1)\n",
    "    waste_nogrowth[key+'_total'] = AR_waste['Quantity'] + waste_nogrowth[key + '_LWR']['Quantity']\n",
    "    plt.plot(AR_waste['Year'], waste_nogrowth[key+'_total']/1000, label=key)\n",
    "    plt.xlabel('Year', fontsize=16)\n",
    "    plt.ylabel('Mass (t)', fontsize=16)\n",
    "    plt.xticks(fontsize=14)\n",
    "    plt.yticks(fontsize=14)\n",
    "    plt.legend()\n",
    "    plt.savefig('figures/nogrowth_waste.pdf', bbox_inches='tight')"
   ]
  },
  {
   "cell_type": "code",
   "execution_count": null,
   "id": "b51b9ad1",
   "metadata": {
    "scrolled": true
   },
   "outputs": [],
   "source": [
    "#Reporting waste masses\n",
    "for scenario in plotting_order_nogrowth:\n",
    "    print('Average mass in ', scenario, ': ', waste_nogrowth[scenario+'_total'].mean())\n",
    "    print('Maximum mass in ', scenario, ': ', waste_nogrowth[scenario+'_total'].max())\n",
    "    for reactor in adv_rxs:\n",
    "        print('Average sent to', scenario, reactor, ' after 2025: ', \n",
    "                  waste_nogrowth[scenario+'_'+reactor]['Quantity'][721:].mean())\n",
    "        print('Maximum sent to', scenario, reactor, ' after 2025: ', \n",
    "                  waste_nogrowth[scenario+'_'+reactor]['Quantity'][721:].max())"
   ]
  },
  {
   "cell_type": "markdown",
   "id": "7050c3dd",
   "metadata": {},
   "source": [
    "## 1% Growth Scenarios"
   ]
  },
  {
   "cell_type": "code",
   "execution_count": null,
   "id": "53784538",
   "metadata": {},
   "outputs": [],
   "source": [
    "out_files_1percent = {'s08_outfile':\"../outputs/mmr_1percent.sqlite\",\n",
    "                    's09_outfile':\"../outputs/xe100_1percent.sqlite\",\n",
    "            's10_outfile':\"../outputs/xe100_mmr_1percent.sqlite\",\n",
    "            's11_outfile':\"../outputs/mmr_voygr_1percent.sqlite\",\n",
    "            's12_outfile':\"../outputs/xe100_voygr_1percent.sqlite\",\n",
    "            's13_outfile':\"../outputs/xe100_mmr_voygr_1percent.sqlite\"}\n",
    "\n",
    "reactors_1percent = {'s08_reactors':\"\",'s09_reactors':\"\",\n",
    "                    's10_reactors':\"\",'s11_reactors':\"\",\n",
    "                    's12_reactors':\"\",'s13_reactors':\"\"}"
   ]
  },
  {
   "cell_type": "code",
   "execution_count": null,
   "id": "e590ec38",
   "metadata": {},
   "outputs": [],
   "source": [
    "for key in reactors_1percent:\n",
    "    scenario = key[:3]\n",
    "    reactors_1percent[key] = tm.get_prototype_totals(out_files_1percent[scenario+'_outfile'], non_lwr, adv_rxs)\n",
    "    plt.plot(reactors_1percent[key]['Year'], reactors_1percent[key]['advrx_total'], label=scenario)\n",
    "plt.xlabel('Year', fontsize=16)\n",
    "plt.ylabel('Number of Reactors', fontsize=16)\n",
    "plt.legend()\n",
    "plt.xticks(fontsize=14)\n",
    "plt.yticks(fontsize=14)\n",
    "plt.savefig('figures/1percent_reactors.pdf', bbox_inches='tight')"
   ]
  },
  {
   "cell_type": "code",
   "execution_count": null,
   "id": "8979c6c2",
   "metadata": {
    "scrolled": true
   },
   "outputs": [],
   "source": [
    "for key in reactors_1percent:\n",
    "    scenario = key[1:3]\n",
    "    for adv_rx in adv_rxs:\n",
    "        print(f'Max {adv_rx} in S{scenario}:', reactors_1percent[key][adv_rx +'_total'].max())\n",
    "        print(f'Max {adv_rx} added in one step in S{scenario}:', reactors_1percent[key][adv_rx +'_enter'].max())\n",
    "        prototype_sum = reactors_1percent[key][adv_rx +'_enter'].cumsum()\n",
    "        print(f'Total number of {adv_rx} deployed in S{scenario};', prototype_sum.iloc[-1])\n",
    "    print(f'Max Adv Rx in S{scenario}:', reactors_1percent[key]['advrx_total'].max())\n",
    "    print(f'Max Adv Rx added in one step in S{scenario}:', reactors_1percent[key]['advrx_enter'].max())\n",
    "    advrx_sum = reactors_1percent[key]['advrx_enter'].cumsum()\n",
    "    print(f'Total number of reactors deployed in S{scenario}:', advrx_sum.iloc[-1])  "
   ]
  },
  {
   "cell_type": "code",
   "execution_count": null,
   "id": "edbaa19a",
   "metadata": {},
   "outputs": [],
   "source": [
    "# Energy\n",
    "energy_1percent = {'s08_energy':'', 's09_energy':'', 's10_energy':'',\n",
    "                  's11_energy':'', 's12_energy':'', 's13_energy':''}\n",
    "for key in energy_1percent:\n",
    "    scenario = key[:3]\n",
    "    energy_1percent[key] = tm.get_annual_electricity(out_files_1percent[scenario + '_outfile'])\n",
    "    plt.plot(energy_1percent[key]['Year'], energy_1percent[key]['Energy'], label=scenario)\n",
    "plt.plot(np.linspace(2025,2089,65), 89.45655* np.exp(0.01*(time-2025)), 'k', label='Demand')\n",
    "plt.xlabel('Year', fontsize=16)\n",
    "plt.ylabel('Energy (GWe-yr)', fontsize=16)\n",
    "plt.legend()\n",
    "plt.xticks(fontsize=14)\n",
    "plt.yticks(fontsize=14)\n",
    "plt.savefig('figures/1percent_energy.pdf', bbox_inches='tight')"
   ]
  },
  {
   "cell_type": "code",
   "execution_count": null,
   "id": "2de01531",
   "metadata": {},
   "outputs": [],
   "source": [
    "# Fuel mass\n",
    "transactions_1percent = {'s08':'', 's09':'', 's10':'','s11':'', 's12':'','s13':''}\n",
    "total_fuel_1percent = {'s08':'', 's09':'', 's10':'',\n",
    "                       's11':'', 's12':'', 's13':''}\n",
    "\n",
    "for key in total_fuel_1percent:\n",
    "    scenario = key[:3]\n",
    "    transactions_1percent[scenario] = tm.add_receiver_prototype(out_files_1percent[scenario + '_outfile'])\n",
    "    fuel = tm.commodity_mass_traded(transactions_1percent[scenario], 'fresh_uox')\n",
    "    total_fuel_1percent[key] = tm.add_year(fuel)"
   ]
  },
  {
   "cell_type": "code",
   "execution_count": null,
   "id": "c3b33b9d",
   "metadata": {},
   "outputs": [],
   "source": [
    "for key in plotting_order_1percent: \n",
    "    plt.plot(total_fuel_1percent[key]['Year'], total_fuel_1percent[key]['Quantity']/1000, label=key)\n",
    "plt.xlabel('Year', fontsize=16)\n",
    "plt.ylabel('Mass of fuel (t)', fontsize=16)\n",
    "plt.legend()\n",
    "plt.xticks(fontsize=14)\n",
    "plt.yticks(fontsize=14)\n",
    "plt.savefig('figures/1percent_fuel.pdf', bbox_inches='tight')"
   ]
  },
  {
   "cell_type": "code",
   "execution_count": null,
   "id": "ec2f2961",
   "metadata": {},
   "outputs": [],
   "source": [
    "#Dividing fuel mass by prototype\n",
    "fuel_to_reactors_1percent = {'s08_MMR':'', 's08_Xe-100':'', 's08_VOYGR':'', 's08_LWR':'',\n",
    "                       's09_MMR':'', 's09_Xe-100':'', 's09_VOYGR':'', 's09_LWR':'',\n",
    "                       's10_MMR':'', 's10_Xe-100':'', 's10_VOYGR':'', 's10_LWR':'',\n",
    "                       's11_MMR':'', 's11_Xe-100':'', 's11_VOYGR':'', 's11_LWR':'',\n",
    "                       's12_MMR':'', 's12_Xe-100':'', 's12_VOYGR':'', 's12_LWR':'',\n",
    "                       's13_MMR':'', 's13_Xe-100':'', 's13_VOYGR':'', 's13_LWR':''}\n",
    "uranium_to_reactors_1percent = {'s08_MMR':'', 's08_Xe-100':'', 's08_VOYGR':'', 's08_LWR':'', 's08_total':'',\n",
    "                       's09_MMR':'', 's09_Xe-100':'', 's09_VOYGR':'', 's09_LWR':'', 's09_total':'',\n",
    "                       's10_MMR':'', 's10_Xe-100':'', 's10_VOYGR':'', 's10_LWR':'', 's10_total':'',\n",
    "                       's11_MMR':'', 's11_Xe-100':'', 's11_VOYGR':'', 's11_LWR':'', 's11_total':'',\n",
    "                       's12_MMR':'', 's12_Xe-100':'', 's12_VOYGR':'', 's12_LWR':'', 's12_total':'',\n",
    "                       's13_MMR':'', 's13_Xe-100':'', 's13_VOYGR':'', 's13_LWR':'', 's13_total':'',}\n",
    "\n",
    "for key in fuel_to_reactors_1percent:\n",
    "    scenario = key[:3]\n",
    "    reactor = key[4:]\n",
    "    if reactor == 'LWR':\n",
    "        fuel_to_reactors_1percent[key] = tm.commodity_to_LWR(transactions_1percent[scenario], \n",
    "                                                        'fresh_uox', adv_rxs)\n",
    "    elif reactor != 'total': \n",
    "        fuel_to_reactors_1percent[key] = tm.commodity_to_prototype(transactions_1percent[scenario], \n",
    "                                                        'fresh_uox', reactor)\n",
    "    uranium_to_reactors_1percent[key] = fuel_to_reactors_1percent[key]*uranium_fractions[reactor]"
   ]
  },
  {
   "cell_type": "code",
   "execution_count": null,
   "id": "12e8ee1a",
   "metadata": {
    "scrolled": true
   },
   "outputs": [],
   "source": [
    "for key in plotting_order_1percent:\n",
    "\n",
    "    plt.figure(0)\n",
    "    AR_fuel = fuel_to_reactors_1percent[key + '_MMR'].copy()\n",
    "    for reactor in ['Xe-100', 'VOYGR']:\n",
    "        AR_fuel['Quantity'] += fuel_to_reactors_1percent[key+'_'+reactor]['Quantity']\n",
    "    plt.plot(AR_fuel['Year'], AR_fuel['Quantity']/1000, label=key)\n",
    "    plt.legend()\n",
    "    plt.xlabel('Year', fontsize=16)\n",
    "    plt.ylabel('Mass of fuel (t)', fontsize=16)\n",
    "    plt.xticks(fontsize=14)\n",
    "    plt.yticks(fontsize=14)\n",
    "    plt.savefig('figures/1percent_AR_fuel.pdf', bbox_inches='tight')\n",
    "\n",
    "    plt.figure(1)\n",
    "    AR_uranium = uranium_to_reactors_1percent[key + '_MMR'].copy()\n",
    "    for reactor in ['Xe-100', 'VOYGR']:\n",
    "        AR_uranium['Quantity'] += uranium_to_reactors_1percent[key+'_'+reactor]['Quantity']\n",
    "    plt.plot(AR_uranium['Year'], AR_uranium['Quantity']/1000, label=key)\n",
    "    plt.legend()\n",
    "    plt.xlabel('Year', fontsize=16)\n",
    "    plt.ylabel('Mass of uranium (t)', fontsize=16)\n",
    "    plt.xticks(fontsize=14)\n",
    "    plt.yticks(fontsize=14)\n",
    "    plt.savefig('figures/1percent_AR_uranium.pdf', bbox_inches='tight')\n",
    "\n",
    "    plt.figure(2)\n",
    "    uranium_to_reactors_1percent[key+'_total'] = AR_uranium['Quantity'] + \\\n",
    "                                                uranium_to_reactors_1percent[key+'_LWR']['Quantity']\n",
    "    plt.plot(AR_uranium['Year'], uranium_to_reactors_1percent[key+'_total'], label=key)\n",
    "    plt.legend()\n",
    "    plt.xlabel('Year', fontsize=16)\n",
    "    plt.ylabel('Mass of uranium (t)', fontsize=16)\n",
    "    plt.xticks(fontsize=14)\n",
    "    plt.yticks(fontsize=14)\n",
    "    plt.savefig('figures/1percent_uranium.pdf', bbox_inches='tight')\n",
    "    \n",
    "    plt.figure(3)\n",
    "    plt.plot(AR_uranium['Year'], uranium_to_reactors_1percent[key+'_total'].cumsum()/1000, label=key)\n",
    "    plt.legend()\n",
    "    plt.xlabel('Year', fontsize=16)\n",
    "    plt.ylabel('Mass of uranium (t)', fontsize=16)\n",
    "    plt.xticks(fontsize=14)\n",
    "    plt.yticks(fontsize=14)\n",
    "    plt.savefig('figures/1percent_uranium_cumulative.pdf', bbox_inches='tight')"
   ]
  },
  {
   "cell_type": "code",
   "execution_count": null,
   "id": "27700c70",
   "metadata": {
    "scrolled": true
   },
   "outputs": [],
   "source": [
    "#Reporting uranium masses\n",
    "for scenario in plotting_order_1percent:\n",
    "    print('Average mass in ', scenario, ': ', uranium_to_reactors_1percent[scenario+'_total'].mean())\n",
    "    print('Maximum mass in ', scenario, ': ', uranium_to_reactors_1percent[scenario+'_total'].max())\n",
    "    for reactor in adv_rxs:\n",
    "        print('Average sent to', scenario, reactor, ' after 2025: ', \n",
    "                  uranium_to_reactors_1percent[scenario+'_'+reactor]['Quantity'][721:].mean())\n",
    "        print('Maximum sent to', scenario, reactor, ' after 2025: ', \n",
    "                  uranium_to_reactors_1percent[scenario+'_'+reactor]['Quantity'][721:].max())\n",
    "    HALEU_mass = uranium_to_reactors_1percent[scenario+'_MMR']['Quantity'] + \\\n",
    "                uranium_to_reactors_1percent[scenario+'_Xe-100']['Quantity']\n",
    "    print('Average HALEU mass in', scenario,'after 2025:', HALEU_mass[721:].mean())\n",
    "    print('Maximum HALEU mass in', scenario,'after 2025:', HALEU_mass[721:].max())"
   ]
  },
  {
   "cell_type": "code",
   "execution_count": null,
   "id": "159e1b28",
   "metadata": {},
   "outputs": [],
   "source": [
    "#SWU Calculations\n",
    "\n",
    "tails_1percent = {'s08_MMR':'', 's08_Xe-100':'', 's08_VOYGR':'', 's08_LWR':'',\n",
    "                       's09_MMR':'', 's09_Xe-100':'', 's09_VOYGR':'', 's09_LWR':'',\n",
    "                       's10_MMR':'', 's10_Xe-100':'', 's10_VOYGR':'', 's10_LWR':'',\n",
    "                       's11_MMR':'', 's11_Xe-100':'', 's11_VOYGR':'', 's11_LWR':'',\n",
    "                       's12_MMR':'', 's12_Xe-100':'', 's12_VOYGR':'', 's12_LWR':'',\n",
    "                       's13_MMR':'', 's13_Xe-100':'', 's13_VOYGR':'', 's13_LWR':''}\n",
    "\n",
    "feed_1percent = {'s08_MMR':'', 's08_Xe-100':'', 's08_VOYGR':'', 's08_LWR':'', 's08_total':'',\n",
    "                       's09_MMR':'', 's09_Xe-100':'', 's09_VOYGR':'', 's09_LWR':'', 's09_total':'',\n",
    "                       's10_MMR':'', 's10_Xe-100':'', 's10_VOYGR':'', 's10_LWR':'', 's10_total':'',\n",
    "                       's11_MMR':'', 's11_Xe-100':'', 's11_VOYGR':'', 's11_LWR':'', 's11_total':'',\n",
    "                       's12_MMR':'', 's12_Xe-100':'', 's12_VOYGR':'', 's12_LWR':'', 's12_total':'',\n",
    "                       's13_MMR':'', 's13_Xe-100':'', 's13_VOYGR':'', 's13_LWR':'', 's13_total':'',}\n",
    "\n",
    "SWU_1percent = {'s08_MMR':'', 's08_Xe-100':'', 's08_VOYGR':'', 's08_LWR':'', 's08_total':'',\n",
    "                       's09_MMR':'', 's09_Xe-100':'', 's09_VOYGR':'', 's09_LWR':'', 's09_total':'',\n",
    "                       's10_MMR':'', 's10_Xe-100':'', 's10_VOYGR':'', 's10_LWR':'', 's10_total':'',\n",
    "                       's11_MMR':'', 's11_Xe-100':'', 's11_VOYGR':'', 's11_LWR':'', 's11_total':'',\n",
    "                       's12_MMR':'', 's12_Xe-100':'', 's12_VOYGR':'', 's12_LWR':'', 's12_total':'',\n",
    "                       's13_MMR':'', 's13_Xe-100':'', 's13_VOYGR':'', 's13_LWR':'', 's13_total':'',}\n",
    "for key in feed_1percent:\n",
    "    scenario = key[:3]\n",
    "    reactor = key[4:]\n",
    "    if reactor != 'total':\n",
    "        tails_1percent[key] = tm.calculate_tails(fuel_to_reactors_1percent[key]['Quantity']*uranium_fractions[reactor], \n",
    "                                    assays[reactor], assays['tails'], assays['feed'])\n",
    "        feed_1percent[key] = tm.calculate_feed(fuel_to_reactors_1percent[key]['Quantity']*uranium_fractions[reactor], \n",
    "                                           tails_1percent[key])\n",
    "        SWU_1percent[key] = tm.calculate_SWU(fuel_to_reactors_1percent[key]['Quantity']*uranium_fractions[reactor],\n",
    "                                assays[reactor], tails_1percent[key], assays['tails'],\n",
    "                                feed_1percent[key], assays['feed'])"
   ]
  },
  {
   "cell_type": "code",
   "execution_count": null,
   "id": "9461b2e9",
   "metadata": {
    "scrolled": true
   },
   "outputs": [],
   "source": [
    "for key in plotting_order_1percent:\n",
    "    AR_feed = feed_1percent[key+'_MMR'].copy()\n",
    "    for reactor in ['Xe-100','VOYGR']:\n",
    "        AR_feed += feed_1percent[key + '_' + reactor]\n",
    "    plt.figure(0)\n",
    "    plt.plot(fuel_to_reactors_1percent[key + '_MMR']['Year'], AR_feed/1000, label=key)\n",
    "    plt.legend()\n",
    "    plt.xlabel('Year', fontsize=16)\n",
    "    plt.ylabel('Feed uranium (t)', fontsize=16)\n",
    "    plt.xticks(fontsize=14)\n",
    "    plt.yticks(fontsize=14)\n",
    "    plt.savefig('figures/1percent_AR_feed.pdf', bbox_inches='tight')\n",
    "    \n",
    "    plt.figure(1)\n",
    "    feed_1percent[key+'_total'] = AR_feed + feed_1percent[key +'_LWR']\n",
    "    plt.plot(fuel_to_reactors_1percent[key + '_MMR']['Year'], feed_1percent[key+'_total']/1000, label=key)\n",
    "    plt.legend()\n",
    "    plt.xlabel('Year', fontsize=16)\n",
    "    plt.ylabel('Feed uranium (t)', fontsize=16)\n",
    "    plt.xticks(fontsize=14)\n",
    "    plt.yticks(fontsize=14)\n",
    "    plt.savefig('figures/1percent_feed.pdf', bbox_inches='tight')\n",
    "    \n",
    "    plt.figure(2)\n",
    "    plt.plot(fuel_to_reactors_1percent[key+'_MMR']['Year'], feed_1percent[key+'_total'].cumsum()/1000, label=key)\n",
    "    plt.legend()\n",
    "    plt.xlabel('Year', fontsize=16)\n",
    "    plt.ylabel('Mass of uranium (t)', fontsize=16)\n",
    "    plt.xticks(fontsize=14)\n",
    "    plt.yticks(fontsize=14)\n",
    "    plt.savefig('figures/1percent_feed_cumulative.pdf', bbox_inches='tight')"
   ]
  },
  {
   "cell_type": "code",
   "execution_count": null,
   "id": "48b50888",
   "metadata": {
    "scrolled": true
   },
   "outputs": [],
   "source": [
    "#Reporting feed masses\n",
    "for scenario in plotting_order_1percent:\n",
    "    print('Average mass in ', scenario, ': ', feed_1percent[scenario+'_total'].mean())\n",
    "    print('Maximum mass in ', scenario, ': ', feed_1percent[scenario+'_total'].max())\n",
    "    for reactor in adv_rxs:\n",
    "        print('Average sent to', scenario, reactor, ' after 2025: ', \n",
    "                  feed_1percent[scenario+'_'+reactor][721:].mean())\n",
    "        print('Maximum sent to', scenario, reactor, ' after 2025: ', \n",
    "                  feed_1percent[scenario+'_'+reactor][721:].max())"
   ]
  },
  {
   "cell_type": "code",
   "execution_count": null,
   "id": "4fd7ca79",
   "metadata": {
    "scrolled": true
   },
   "outputs": [],
   "source": [
    "for key in plotting_order_1percent:\n",
    "    AR_SWU = SWU_1percent[key+'_MMR'].copy()\n",
    "    for reactor in ['Xe-100','VOYGR']:\n",
    "        AR_SWU += SWU_1percent[key + '_' + reactor]\n",
    "    plt.figure(0)\n",
    "    plt.plot(fuel_to_reactors_1percent[key + '_MMR']['Year'], AR_SWU/1000, label=key)\n",
    "    plt.legend()\n",
    "    plt.xlabel('Year', fontsize=16)\n",
    "    plt.ylabel('SWU (t-SWU)', fontsize=16)\n",
    "    plt.xticks(fontsize=14)\n",
    "    plt.yticks(fontsize=14)\n",
    "    plt.savefig('figures/1percent_AR_SWU.pdf', bbox_inches='tight')\n",
    "    \n",
    "    plt.figure(1)\n",
    "    SWU_1percent[key+'_total'] = AR_SWU + SWU_1percent[key +'_LWR']\n",
    "    plt.plot(fuel_to_reactors_1percent[key + '_MMR']['Year'], SWU_1percent[key+'_total']/1000, label=key)\n",
    "    plt.legend()\n",
    "    plt.xlabel('Year', fontsize=16)\n",
    "    plt.ylabel('SWU (t-SWU)', fontsize=16)\n",
    "    plt.xticks(fontsize=14)\n",
    "    plt.yticks(fontsize=14)\n",
    "    plt.savefig('figures/1percent_SWU.pdf', bbox_inches='tight')"
   ]
  },
  {
   "cell_type": "code",
   "execution_count": null,
   "id": "714729c8",
   "metadata": {
    "scrolled": true
   },
   "outputs": [],
   "source": [
    "#Reporting SWU requirements\n",
    "for scenario in plotting_order_1percent:\n",
    "    print('Average mass in ', scenario, ': ', SWU_1percent[scenario+'_total'].mean())\n",
    "    print('Maximum mass in ', scenario, ': ', SWU_1percent[scenario+'_total'].max())\n",
    "    for reactor in adv_rxs:\n",
    "        print('Average sent to', scenario, reactor, ' after 2025: ', \n",
    "                  SWU_1percent[scenario+'_'+reactor][721:].mean())\n",
    "        print('Maximum sent to', scenario, reactor, ' after 2025: ', \n",
    "                  SWU_1percent[scenario+'_'+reactor][721:].max())"
   ]
  },
  {
   "cell_type": "code",
   "execution_count": null,
   "id": "330a5862",
   "metadata": {},
   "outputs": [],
   "source": [
    "# Waste discharged from reactors\n",
    "\n",
    "waste_1percent = {'s08_MMR':'', 's08_Xe-100':'', 's08_VOYGR':'', 's08_LWR':'', 's08_total':'',\n",
    "                       's09_MMR':'', 's09_Xe-100':'', 's09_VOYGR':'', 's09_LWR':'', 's09_total':'',\n",
    "                       's10_MMR':'', 's10_Xe-100':'', 's10_VOYGR':'', 's10_LWR':'', 's10_total':'',\n",
    "                       's11_MMR':'', 's11_Xe-100':'', 's11_VOYGR':'', 's11_LWR':'', 's11_total':'',\n",
    "                       's12_MMR':'', 's12_Xe-100':'', 's12_VOYGR':'', 's12_LWR':'', 's12_total':'',\n",
    "                       's13_MMR':'', 's13_Xe-100':'', 's13_VOYGR':'', 's13_LWR':'', 's13_total':'',}\n",
    "\n",
    "for key in waste_1percent:\n",
    "    scenario = key[:3]\n",
    "    reactor = key[4:]\n",
    "    if reactor != 'total':\n",
    "        waste_1percent[key] = tm.commodity_mass_traded(transactions_1percent[scenario], waste_commodity[reactor])"
   ]
  },
  {
   "cell_type": "code",
   "execution_count": null,
   "id": "604f66c7",
   "metadata": {
    "scrolled": false
   },
   "outputs": [],
   "source": [
    "for key in plotting_order_1percent:\n",
    "    AR_waste = waste_1percent[key + '_MMR'].copy()\n",
    "    for reactor in ['Xe-100', 'VOYGR']:\n",
    "        AR_waste['Quantity'] += waste_1percent[key + '_' + reactor]['Quantity']\n",
    "    plt.figure(0)\n",
    "    plt.plot(AR_waste['Year'], AR_waste['Quantity']/1000, label = key)\n",
    "    plt.xlabel('Year', fontsize=16)\n",
    "    plt.ylabel('Mass (t)', fontsize=16)\n",
    "    plt.xticks(fontsize=14)\n",
    "    plt.yticks(fontsize=14)\n",
    "    plt.legend()\n",
    "    plt.savefig('figures/1percent_AR_waste.pdf', bbox_inches='tight')\n",
    "\n",
    "    plt.figure(1)\n",
    "    waste_1percent[key+'_total'] = AR_waste['Quantity'] + waste_1percent[key + '_LWR']['Quantity']\n",
    "    plt.plot(AR_waste['Year'], waste_1percent[key+'_total']/1000, label=key)\n",
    "    plt.xlabel('Year', fontsize=16)\n",
    "    plt.ylabel('Mass (t)', fontsize=16)\n",
    "    plt.xticks(fontsize=14)\n",
    "    plt.yticks(fontsize=14)\n",
    "    plt.legend()\n",
    "    plt.savefig('figures/1percent_waste.pdf', bbox_inches='tight')"
   ]
  },
  {
   "cell_type": "code",
   "execution_count": null,
   "id": "9765eae1",
   "metadata": {
    "scrolled": true
   },
   "outputs": [],
   "source": [
    "#Reporting waste masses\n",
    "for scenario in plotting_order_1percent:\n",
    "    print('Average mass in ', scenario, ': ', waste_1percent[scenario+'_total'].mean())\n",
    "    print('Maximum mass in ', scenario, ': ', waste_1percent[scenario+'_total'].max())\n",
    "    for reactor in adv_rxs:\n",
    "        print('Average sent to', scenario, reactor, ' after 2025: ', \n",
    "                  waste_1percent[scenario+'_'+reactor]['Quantity'][721:].mean())\n",
    "        print('Maximum sent to', scenario, reactor, ' after 2025: ', \n",
    "                  waste_1percent[scenario+'_'+reactor]['Quantity'][721:].max())"
   ]
  },
  {
   "cell_type": "code",
   "execution_count": null,
   "id": "65ef0a1f",
   "metadata": {},
   "outputs": [],
   "source": []
  }
 ],
 "metadata": {
  "kernelspec": {
   "display_name": "Python [conda env:cyclus-env] *",
   "language": "python",
   "name": "conda-env-cyclus-env-py"
  },
  "language_info": {
   "codemirror_mode": {
    "name": "ipython",
    "version": 3
   },
   "file_extension": ".py",
   "mimetype": "text/x-python",
   "name": "python",
   "nbconvert_exporter": "python",
   "pygments_lexer": "ipython3",
   "version": "3.6.11"
  }
 },
 "nbformat": 4,
 "nbformat_minor": 5
}
