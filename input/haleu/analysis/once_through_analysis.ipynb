{
 "cells": [
  {
   "cell_type": "markdown",
   "id": "5d5bd0bb",
   "metadata": {},
   "source": [
    "# Analysis for once-through scenarios\n",
    "This notebook provides analysis for all of the once-through fuel cycle scenarios that are included in \n",
    "Amanda Bachmann's dissertation. Analysis of each scenario includes the number of reactors deployed, the uranium resources, the SWU capacity, and the amount of waste produced. \n",
    "\n",
    "Scenarios are numbers as follows:\n",
    "* 1: LWRs\n",
    "* 2: MMR, no growth\n",
    "* 3: Xe-100, no growth\n",
    "* 4: Xe-100 and MMR, no growth\n",
    "* 5: MMR and VOYGR, no growth\n",
    "* 6: Xe-100 and VOYGR, no growth\n",
    "* 7: Xe-100, MMR, and VOYGR, no growth\n",
    "* 8: MMR, 1% growth\n",
    "* 9: Xe-100, 1% growth\n",
    "* 10: Xe-100 and MMR, 1% growth\n",
    "* 11: MMR and VOYGR, 1% growth\n",
    "* 12: Xe-100 and VOYGR, 1% growth\n",
    "* 13: Xe-100, MMR, and VOYGR, 1% growth\n",
    "\n",
    "Analysis of scenario 1 is performed separately, then the no growth scenarios are all analyzed together, followed by the 1% growth scenarios. "
   ]
  },
  {
   "cell_type": "code",
   "execution_count": 1,
   "id": "9d23def0",
   "metadata": {},
   "outputs": [],
   "source": [
    "import numpy as np\n",
    "import matplotlib.pyplot as plt\n",
    "import pandas as pd\n",
    "import sys\n",
    "\n",
    "import cymetric as cym\n",
    "sys.path.insert(0,'../../../scripts')\n",
    "import transition_metrics as tm"
   ]
  },
  {
   "cell_type": "code",
   "execution_count": 2,
   "id": "2cc66e15",
   "metadata": {},
   "outputs": [],
   "source": [
    "# enrichment assays\n",
    "leu_p = 0.043\n",
    "mmr_p = 0.13\n",
    "xe_p = 0.155\n",
    "voygr_p = 0.0409\n",
    "x_f = 0.00711\n",
    "x_t = 0.002"
   ]
  },
  {
   "cell_type": "markdown",
   "id": "0bcb11c2",
   "metadata": {},
   "source": [
    "## Scenario 1"
   ]
  },
  {
   "cell_type": "code",
   "execution_count": 3,
   "id": "cfe76581",
   "metadata": {},
   "outputs": [],
   "source": [
    "s1_outfile = \"../outputs/united_states_2020.sqlite\""
   ]
  },
  {
   "cell_type": "code",
   "execution_count": 5,
   "id": "d612711d",
   "metadata": {
    "scrolled": false
   },
   "outputs": [
    {
     "name": "stderr",
     "output_type": "stream",
     "text": [
      "../../../scripts/transition_metrics.py:144: SettingWithCopyWarning: \n",
      "A value is trying to be set on a copy of a slice from a DataFrame\n",
      "\n",
      "See the caveats in the documentation: https://pandas.pydata.org/pandas-docs/stable/user_guide/indexing.html#returning-a-view-versus-a-copy\n",
      "  df['Year'][index] = np.round(df['Time'][index] / 12 + 1965, 2)\n"
     ]
    },
    {
     "data": {
      "image/png": "[encoded data removed]",
      "text/plain": [
       "<Figure size 504x288 with 1 Axes>"
      ]
     },
     "metadata": {
      "needs_background": "light"
     },
     "output_type": "display_data"
    }
   ],
   "source": [
    "# Reactor Deployment\n",
    "s1_nonlwr = ['Sink_HLW', 'Sink_LLW', 'Mine',\n",
    "                 'Enrichment', 'DryStorage', 'United States',\n",
    "                 'WetStorage', 'FuelCycle', 'UNITED_STATES_OF_AMERICA']\n",
    "s1_reactors = tm.rx_commission_decommission(s1_outfile, s1_nonlwr)\n",
    "s1_reactors = tm.add_year(s1_reactors)\n",
    "\n",
    "plt.figure(figsize=(7,4))\n",
    "plt.plot(s1_reactors['Year'], s1_reactors['lwr_total'])\n",
    "plt.xlabel('Year', size=16)\n",
    "plt.ylabel('Number of reactors', size=16)\n",
    "plt.xticks(fontsize=14)\n",
    "plt.yticks(fontsize=14)\n",
    "plt.savefig('figures/s1_reactors.pdf')"
   ]
  },
  {
   "cell_type": "code",
   "execution_count": 9,
   "id": "89df4036",
   "metadata": {
    "scrolled": true
   },
   "outputs": [],
   "source": [
    "s1_metrics = tm.get_metrics(s1_outfile)\n",
    "s1_agents = s1_metrics.eval(\"Agents\")\n",
    "s1_lwrs = s1_agents.loc[s1_agents['Spec'] == ':cycamore:Reactor']"
   ]
  },
  {
   "cell_type": "code",
   "execution_count": 11,
   "id": "f267d604",
   "metadata": {},
   "outputs": [
    {
     "name": "stdout",
     "output_type": "stream",
     "text": [
      "Total Number of LWRs deployed: 115\n",
      "Max LWRs deployed: 109.0\n",
      "LWRS deployed in January 2025: 92.0\n",
      "Prototype  lwr_total     Year\n",
      "1087             1.0  2055.58\n",
      "1088             1.0  2055.67\n",
      "1089             1.0  2055.75\n",
      "1090             0.0  2055.83\n",
      "1091             0.0  2055.92\n",
      "1092             0.0  2056.00\n",
      "1093             0.0  2056.08\n",
      "1094             0.0  2056.17\n"
     ]
    }
   ],
   "source": [
    "print('Total Number of LWRs deployed:', len(s1_lwrs))\n",
    "print('Max LWRs deployed:', s1_reactors['lwr_total'].max())\n",
    "print('LWRS deployed in January 2025:', s1_reactors['lwr_total'][721])\n",
    "print(s1_reactors[['lwr_total','Year']][1087:1095])"
   ]
  },
  {
   "cell_type": "code",
   "execution_count": 16,
   "id": "948c4d54",
   "metadata": {
    "scrolled": true
   },
   "outputs": [
    {
     "data": {
      "text/html": [
       "<div>\n",
       "<style scoped>\n",
       "    .dataframe tbody tr th:only-of-type {\n",
       "        vertical-align: middle;\n",
       "    }\n",
       "\n",
       "    .dataframe tbody tr th {\n",
       "        vertical-align: top;\n",
       "    }\n",
       "\n",
       "    .dataframe thead th {\n",
       "        text-align: right;\n",
       "    }\n",
       "</style>\n",
       "<table border=\"1\" class=\"dataframe\">\n",
       "  <thead>\n",
       "    <tr style=\"text-align: right;\">\n",
       "      <th></th>\n",
       "      <th>Year</th>\n",
       "      <th>Energy</th>\n",
       "    </tr>\n",
       "  </thead>\n",
       "  <tbody>\n",
       "    <tr>\n",
       "      <th>55</th>\n",
       "      <td>2022</td>\n",
       "      <td>90.417083</td>\n",
       "    </tr>\n",
       "    <tr>\n",
       "      <th>56</th>\n",
       "      <td>2023</td>\n",
       "      <td>90.846333</td>\n",
       "    </tr>\n",
       "    <tr>\n",
       "      <th>57</th>\n",
       "      <td>2024</td>\n",
       "      <td>90.042667</td>\n",
       "    </tr>\n",
       "    <tr>\n",
       "      <th>58</th>\n",
       "      <td>2025</td>\n",
       "      <td>89.456500</td>\n",
       "    </tr>\n",
       "    <tr>\n",
       "      <th>59</th>\n",
       "      <td>2026</td>\n",
       "      <td>88.280583</td>\n",
       "    </tr>\n",
       "  </tbody>\n",
       "</table>\n",
       "</div>"
      ],
      "text/plain": [
       "    Year     Energy\n",
       "55  2022  90.417083\n",
       "56  2023  90.846333\n",
       "57  2024  90.042667\n",
       "58  2025  89.456500\n",
       "59  2026  88.280583"
      ]
     },
     "execution_count": 16,
     "metadata": {},
     "output_type": "execute_result"
    }
   ],
   "source": [
    "#energy\n",
    "s1_energy = tm.get_annual_electricity(s1_outfile)\n",
    "s1_energy[55:60]"
   ]
  },
  {
   "cell_type": "markdown",
   "id": "15bdbab3",
   "metadata": {},
   "source": [
    "Annual electricity for 2025:89.45655 GWe-yr\n",
    "\n",
    "\n",
    "Monthly electricity for 2025:\n",
    "* January: 91.448\n",
    "* February: 91.412\n",
    "* March: 91.376\n",
    "* April: 89.396\n",
    "* May: 88.573\n",
    "* June: 89.3\n",
    "* July: 91.130\n",
    "* August: 84.061\n",
    "* Spetember: 86.184\n",
    "* October: 91.514\n",
    "* November:90.791\n",
    "* December: 83.104"
   ]
  },
  {
   "cell_type": "code",
   "execution_count": 17,
   "id": "63de5475",
   "metadata": {},
   "outputs": [
    {
     "data": {
      "text/plain": [
       "Text(0, 0.5, 'Energy (GWe-month)')"
      ]
     },
     "execution_count": 17,
     "metadata": {},
     "output_type": "execute_result"
    },
    {
     "data": {
      "image/png": "[encoded data removed]",
      "text/plain": [
       "<Figure size 432x288 with 1 Axes>"
      ]
     },
     "metadata": {
      "needs_background": "light"
     },
     "output_type": "display_data"
    }
   ],
   "source": [
    "plt.plot(s1_energy['Year'], s1_energy['Energy'])\n",
    "plt.xlabel('Year')\n",
    "plt.ylabel('Energy (GWe-month)')"
   ]
  },
  {
   "cell_type": "code",
   "execution_count": 7,
   "id": "ef95d7b9",
   "metadata": {
    "scrolled": true
   },
   "outputs": [
    {
     "ename": "FileNotFoundError",
     "evalue": "[Errno 2] No such file or directory: 'current_transactions.csv'",
     "output_type": "error",
     "traceback": [
      "\u001b[0;31m---------------------------------------------------------------------------\u001b[0m",
      "\u001b[0;31mFileNotFoundError\u001b[0m                         Traceback (most recent call last)",
      "\u001b[0;32m<ipython-input-7-beb4a2a730ed>\u001b[0m in \u001b[0;36m<module>\u001b[0;34m()\u001b[0m\n\u001b[1;32m      2\u001b[0m s1_transactions = pd.read_csv('current_transactions.csv', \n\u001b[1;32m      3\u001b[0m                                    usecols = ['Time','Commodity', 'Units',\n\u001b[0;32m----> 4\u001b[0;31m                                              'Quantity','Prototype'])\n\u001b[0m\u001b[1;32m      5\u001b[0m \u001b[0ms1_uox\u001b[0m \u001b[0;34m=\u001b[0m \u001b[0mtm\u001b[0m\u001b[0;34m.\u001b[0m\u001b[0mcommodity_mass_traded\u001b[0m\u001b[0;34m(\u001b[0m\u001b[0ms1_transactions\u001b[0m\u001b[0;34m,\u001b[0m \u001b[0;34m'fresh_uox'\u001b[0m\u001b[0;34m)\u001b[0m\u001b[0;34m\u001b[0m\u001b[0;34m\u001b[0m\u001b[0m\n\u001b[1;32m      6\u001b[0m \u001b[0mplt\u001b[0m\u001b[0;34m.\u001b[0m\u001b[0mfigure\u001b[0m\u001b[0;34m(\u001b[0m\u001b[0mfigsize\u001b[0m\u001b[0;34m=\u001b[0m\u001b[0;34m(\u001b[0m\u001b[0;36m7\u001b[0m\u001b[0;34m,\u001b[0m\u001b[0;36m4\u001b[0m\u001b[0;34m)\u001b[0m\u001b[0;34m)\u001b[0m\u001b[0;34m\u001b[0m\u001b[0;34m\u001b[0m\u001b[0m\n",
      "\u001b[0;32m/home/amandabachmann/anaconda3/envs/cyclus-env/lib/python3.6/site-packages/pandas/io/parsers.py\u001b[0m in \u001b[0;36mread_csv\u001b[0;34m(filepath_or_buffer, sep, delimiter, header, names, index_col, usecols, squeeze, prefix, mangle_dupe_cols, dtype, engine, converters, true_values, false_values, skipinitialspace, skiprows, skipfooter, nrows, na_values, keep_default_na, na_filter, verbose, skip_blank_lines, parse_dates, infer_datetime_format, keep_date_col, date_parser, dayfirst, cache_dates, iterator, chunksize, compression, thousands, decimal, lineterminator, quotechar, quoting, doublequote, escapechar, comment, encoding, dialect, error_bad_lines, warn_bad_lines, delim_whitespace, low_memory, memory_map, float_precision)\u001b[0m\n\u001b[1;32m    686\u001b[0m     )\n\u001b[1;32m    687\u001b[0m \u001b[0;34m\u001b[0m\u001b[0m\n\u001b[0;32m--> 688\u001b[0;31m     \u001b[0;32mreturn\u001b[0m \u001b[0m_read\u001b[0m\u001b[0;34m(\u001b[0m\u001b[0mfilepath_or_buffer\u001b[0m\u001b[0;34m,\u001b[0m \u001b[0mkwds\u001b[0m\u001b[0;34m)\u001b[0m\u001b[0;34m\u001b[0m\u001b[0;34m\u001b[0m\u001b[0m\n\u001b[0m\u001b[1;32m    689\u001b[0m \u001b[0;34m\u001b[0m\u001b[0m\n\u001b[1;32m    690\u001b[0m \u001b[0;34m\u001b[0m\u001b[0m\n",
      "\u001b[0;32m/home/amandabachmann/anaconda3/envs/cyclus-env/lib/python3.6/site-packages/pandas/io/parsers.py\u001b[0m in \u001b[0;36m_read\u001b[0;34m(filepath_or_buffer, kwds)\u001b[0m\n\u001b[1;32m    452\u001b[0m \u001b[0;34m\u001b[0m\u001b[0m\n\u001b[1;32m    453\u001b[0m     \u001b[0;31m# Create the parser.\u001b[0m\u001b[0;34m\u001b[0m\u001b[0;34m\u001b[0m\u001b[0;34m\u001b[0m\u001b[0m\n\u001b[0;32m--> 454\u001b[0;31m     \u001b[0mparser\u001b[0m \u001b[0;34m=\u001b[0m \u001b[0mTextFileReader\u001b[0m\u001b[0;34m(\u001b[0m\u001b[0mfp_or_buf\u001b[0m\u001b[0;34m,\u001b[0m \u001b[0;34m**\u001b[0m\u001b[0mkwds\u001b[0m\u001b[0;34m)\u001b[0m\u001b[0;34m\u001b[0m\u001b[0;34m\u001b[0m\u001b[0m\n\u001b[0m\u001b[1;32m    455\u001b[0m \u001b[0;34m\u001b[0m\u001b[0m\n\u001b[1;32m    456\u001b[0m     \u001b[0;32mif\u001b[0m \u001b[0mchunksize\u001b[0m \u001b[0;32mor\u001b[0m \u001b[0miterator\u001b[0m\u001b[0;34m:\u001b[0m\u001b[0;34m\u001b[0m\u001b[0;34m\u001b[0m\u001b[0m\n",
      "\u001b[0;32m/home/amandabachmann/anaconda3/envs/cyclus-env/lib/python3.6/site-packages/pandas/io/parsers.py\u001b[0m in \u001b[0;36m__init__\u001b[0;34m(self, f, engine, **kwds)\u001b[0m\n\u001b[1;32m    946\u001b[0m             \u001b[0mself\u001b[0m\u001b[0;34m.\u001b[0m\u001b[0moptions\u001b[0m\u001b[0;34m[\u001b[0m\u001b[0;34m\"has_index_names\"\u001b[0m\u001b[0;34m]\u001b[0m \u001b[0;34m=\u001b[0m \u001b[0mkwds\u001b[0m\u001b[0;34m[\u001b[0m\u001b[0;34m\"has_index_names\"\u001b[0m\u001b[0;34m]\u001b[0m\u001b[0;34m\u001b[0m\u001b[0;34m\u001b[0m\u001b[0m\n\u001b[1;32m    947\u001b[0m \u001b[0;34m\u001b[0m\u001b[0m\n\u001b[0;32m--> 948\u001b[0;31m         \u001b[0mself\u001b[0m\u001b[0;34m.\u001b[0m\u001b[0m_make_engine\u001b[0m\u001b[0;34m(\u001b[0m\u001b[0mself\u001b[0m\u001b[0;34m.\u001b[0m\u001b[0mengine\u001b[0m\u001b[0;34m)\u001b[0m\u001b[0;34m\u001b[0m\u001b[0;34m\u001b[0m\u001b[0m\n\u001b[0m\u001b[1;32m    949\u001b[0m \u001b[0;34m\u001b[0m\u001b[0m\n\u001b[1;32m    950\u001b[0m     \u001b[0;32mdef\u001b[0m \u001b[0mclose\u001b[0m\u001b[0;34m(\u001b[0m\u001b[0mself\u001b[0m\u001b[0;34m)\u001b[0m\u001b[0;34m:\u001b[0m\u001b[0;34m\u001b[0m\u001b[0;34m\u001b[0m\u001b[0m\n",
      "\u001b[0;32m/home/amandabachmann/anaconda3/envs/cyclus-env/lib/python3.6/site-packages/pandas/io/parsers.py\u001b[0m in \u001b[0;36m_make_engine\u001b[0;34m(self, engine)\u001b[0m\n\u001b[1;32m   1178\u001b[0m     \u001b[0;32mdef\u001b[0m \u001b[0m_make_engine\u001b[0m\u001b[0;34m(\u001b[0m\u001b[0mself\u001b[0m\u001b[0;34m,\u001b[0m \u001b[0mengine\u001b[0m\u001b[0;34m=\u001b[0m\u001b[0;34m\"c\"\u001b[0m\u001b[0;34m)\u001b[0m\u001b[0;34m:\u001b[0m\u001b[0;34m\u001b[0m\u001b[0;34m\u001b[0m\u001b[0m\n\u001b[1;32m   1179\u001b[0m         \u001b[0;32mif\u001b[0m \u001b[0mengine\u001b[0m \u001b[0;34m==\u001b[0m \u001b[0;34m\"c\"\u001b[0m\u001b[0;34m:\u001b[0m\u001b[0;34m\u001b[0m\u001b[0;34m\u001b[0m\u001b[0m\n\u001b[0;32m-> 1180\u001b[0;31m             \u001b[0mself\u001b[0m\u001b[0;34m.\u001b[0m\u001b[0m_engine\u001b[0m \u001b[0;34m=\u001b[0m \u001b[0mCParserWrapper\u001b[0m\u001b[0;34m(\u001b[0m\u001b[0mself\u001b[0m\u001b[0;34m.\u001b[0m\u001b[0mf\u001b[0m\u001b[0;34m,\u001b[0m \u001b[0;34m**\u001b[0m\u001b[0mself\u001b[0m\u001b[0;34m.\u001b[0m\u001b[0moptions\u001b[0m\u001b[0;34m)\u001b[0m\u001b[0;34m\u001b[0m\u001b[0;34m\u001b[0m\u001b[0m\n\u001b[0m\u001b[1;32m   1181\u001b[0m         \u001b[0;32melse\u001b[0m\u001b[0;34m:\u001b[0m\u001b[0;34m\u001b[0m\u001b[0;34m\u001b[0m\u001b[0m\n\u001b[1;32m   1182\u001b[0m             \u001b[0;32mif\u001b[0m \u001b[0mengine\u001b[0m \u001b[0;34m==\u001b[0m \u001b[0;34m\"python\"\u001b[0m\u001b[0;34m:\u001b[0m\u001b[0;34m\u001b[0m\u001b[0;34m\u001b[0m\u001b[0m\n",
      "\u001b[0;32m/home/amandabachmann/anaconda3/envs/cyclus-env/lib/python3.6/site-packages/pandas/io/parsers.py\u001b[0m in \u001b[0;36m__init__\u001b[0;34m(self, src, **kwds)\u001b[0m\n\u001b[1;32m   2008\u001b[0m         \u001b[0mkwds\u001b[0m\u001b[0;34m[\u001b[0m\u001b[0;34m\"usecols\"\u001b[0m\u001b[0;34m]\u001b[0m \u001b[0;34m=\u001b[0m \u001b[0mself\u001b[0m\u001b[0;34m.\u001b[0m\u001b[0musecols\u001b[0m\u001b[0;34m\u001b[0m\u001b[0;34m\u001b[0m\u001b[0m\n\u001b[1;32m   2009\u001b[0m \u001b[0;34m\u001b[0m\u001b[0m\n\u001b[0;32m-> 2010\u001b[0;31m         \u001b[0mself\u001b[0m\u001b[0;34m.\u001b[0m\u001b[0m_reader\u001b[0m \u001b[0;34m=\u001b[0m \u001b[0mparsers\u001b[0m\u001b[0;34m.\u001b[0m\u001b[0mTextReader\u001b[0m\u001b[0;34m(\u001b[0m\u001b[0msrc\u001b[0m\u001b[0;34m,\u001b[0m \u001b[0;34m**\u001b[0m\u001b[0mkwds\u001b[0m\u001b[0;34m)\u001b[0m\u001b[0;34m\u001b[0m\u001b[0;34m\u001b[0m\u001b[0m\n\u001b[0m\u001b[1;32m   2011\u001b[0m         \u001b[0mself\u001b[0m\u001b[0;34m.\u001b[0m\u001b[0munnamed_cols\u001b[0m \u001b[0;34m=\u001b[0m \u001b[0mself\u001b[0m\u001b[0;34m.\u001b[0m\u001b[0m_reader\u001b[0m\u001b[0;34m.\u001b[0m\u001b[0munnamed_cols\u001b[0m\u001b[0;34m\u001b[0m\u001b[0;34m\u001b[0m\u001b[0m\n\u001b[1;32m   2012\u001b[0m \u001b[0;34m\u001b[0m\u001b[0m\n",
      "\u001b[0;32mpandas/_libs/parsers.pyx\u001b[0m in \u001b[0;36mpandas._libs.parsers.TextReader.__cinit__\u001b[0;34m()\u001b[0m\n",
      "\u001b[0;32mpandas/_libs/parsers.pyx\u001b[0m in \u001b[0;36mpandas._libs.parsers.TextReader._setup_parser_source\u001b[0;34m()\u001b[0m\n",
      "\u001b[0;31mFileNotFoundError\u001b[0m: [Errno 2] No such file or directory: 'current_transactions.csv'"
     ]
    }
   ],
   "source": [
    "#Uranium resources sent to reactors\n",
    "s1_transactions = pd.read_csv('current_transactions.csv', \n",
    "                                   usecols = ['Time','Commodity', 'Units',\n",
    "                                             'Quantity','Prototype'])\n",
    "s1_uox = tm.commodity_mass_traded(s1_transactions, 'fresh_uox')\n",
    "plt.figure(figsize=(7,4))\n",
    "plt.plot(s1_uox['Year'], s1_uox['Quantity']/1000)\n",
    "#plt.legend(loc=2)\n",
    "plt.ylabel('Mass (t)')\n",
    "plt.xlabel('Year')\n",
    "plt.xticks(fontsize=14)\n",
    "plt.yticks(fontsize=14)\n",
    "\n",
    "#plt.title('Mass of uranium supplied to all reactors')\n",
    "plt.savefig('figures/s1_fuelsupply.pdf')"
   ]
  },
  {
   "cell_type": "code",
   "execution_count": null,
   "id": "912f97e3",
   "metadata": {},
   "outputs": [],
   "source": [
    "print(s1_uox['Quantity'].max())\n",
    "print(s1_uox['Quantity'].mean())\n",
    "print(s1_uox['Quantity'][721:1089].mean())"
   ]
  },
  {
   "cell_type": "code",
   "execution_count": null,
   "id": "788ff8a8",
   "metadata": {},
   "outputs": [],
   "source": [
    "#Natural uranium needed\n",
    "s1_tails = tm.calculate_tails(s1_uox['Quantity'], leu_p, x_t, x_f)\n",
    "s1_feed = tm.calculate_feed(s1_uox['Quantity'], s1_tails)\n",
    "\n",
    "plt.plot(s1_uox['Year'], s1_feed/1000)\n",
    "plt.xlabel('Year', fontsize=16)\n",
    "plt.ylabel('Mass (t)', fontsize=16)\n",
    "plt.xticks(fontsize=14)\n",
    "plt.yticks(fontsize=14)\n",
    "\n",
    "plt.savefig('figures/s1_feed.pdf')"
   ]
  },
  {
   "cell_type": "code",
   "execution_count": null,
   "id": "5cc72a86",
   "metadata": {},
   "outputs": [],
   "source": [
    "print(s1_feed.max())\n",
    "print(s1_feed.mean())\n",
    "print(s1_feed[721:1089].mean())"
   ]
  },
  {
   "cell_type": "code",
   "execution_count": null,
   "id": "26d19aaf",
   "metadata": {},
   "outputs": [],
   "source": [
    "# SWU capacity \n",
    "s1_swu = tm.calculate_SWU(s1_uox['Quantity'], leu_p, s1_tails, x_t, s1_feed, x_f)\n",
    "plt.plot(s1_uox[\"Year\"], s1_swu)\n",
    "plt.xlabel('Year')\n",
    "plt.ylabel('SWU (kg-SWU)')\n",
    "plt.xticks(fontsize=14)\n",
    "plt.yticks(fontsize=14)\n",
    "\n",
    "plt.savefig('figures/s1_swu.pdf')"
   ]
  },
  {
   "cell_type": "code",
   "execution_count": null,
   "id": "9e83ced8",
   "metadata": {},
   "outputs": [],
   "source": [
    "print(s1_swu.max())\n",
    "print(s1_swu.mean())\n",
    "print(s1_swu[721:1089].mean())"
   ]
  },
  {
   "cell_type": "code",
   "execution_count": null,
   "id": "ecf580e9",
   "metadata": {},
   "outputs": [],
   "source": [
    "# waste discharged\n",
    "s1_waste = tm.commodity_mass_traded(s1_transactions, 'spent_uox')\n",
    "\n",
    "plt.plot(s1_waste['Year'], s1_waste['Quantity']/1000)\n",
    "plt.xlabel('Year', fontsize=16)\n",
    "plt.ylabel('Mass (t)', fontsize=16)\n",
    "plt.xticks(fontsize=14)\n",
    "plt.yticks(fontsize=14)\n",
    "plt.savefig('figures/s1_waste.pdf')"
   ]
  },
  {
   "cell_type": "code",
   "execution_count": null,
   "id": "f59e4b88",
   "metadata": {},
   "outputs": [],
   "source": [
    "print(s1_waste['Quantity'].max())\n",
    "print(s1_waste['Quantity'].mean())\n",
    "print(s1_waste['Quantity'][721:1089].mean())"
   ]
  },
  {
   "cell_type": "markdown",
   "id": "fb4e0c7c",
   "metadata": {},
   "source": [
    "## No growth scenarios"
   ]
  },
  {
   "cell_type": "code",
   "execution_count": 52,
   "id": "effae45e",
   "metadata": {},
   "outputs": [],
   "source": [
    "out_files = {'s2_outfile':\"../outputs/mmr_nogrowth.sqlite\",\n",
    "            's3_outfile':\"../outputs/xe100_nogrowth.sqlite\",\n",
    "            's4_outfile':\"../outputs/xe100_mmr_nogrowth.sqlite\",\n",
    "            's5_outfile':\"../outputs/mmr_voygr_nogrowth.sqlite\",\n",
    "            's6_outfile':\"../outputs/xe100_voygr_nogrowth.sqlite\",\n",
    "            's7_outfile':\"../outputs/xe100_mmr_voygr_nogrowth.sqlite\"}"
   ]
  },
  {
   "cell_type": "code",
   "execution_count": 53,
   "id": "7862c842",
   "metadata": {},
   "outputs": [],
   "source": [
    "# Reactor Deployment Constants\n",
    "non_lwr = ['Sink_HLW', 'Sink_LLW', 'Mine',\n",
    "                 'Enrichment', 'DryStorage', 'United States',\n",
    "                 'WetStorage', 'FuelCycle', 'UNITED_STATES_OF_AMERICA',\n",
    "                 'MMR', 'Xe-100','VOYGR', 'Xe-100CoolingPool',\n",
    "                 'MMRCoolingPool', 'VOYGRCoolingPool']\n",
    "\n",
    "adv_rxs = ['MMR', 'Xe-100', 'VOYGR']"
   ]
  },
  {
   "cell_type": "code",
   "execution_count": 54,
   "id": "65af14bf",
   "metadata": {},
   "outputs": [
    {
     "data": {
      "image/png": "[encoded data removed]",
      "text/plain": [
       "<Figure size 432x288 with 1 Axes>"
      ]
     },
     "metadata": {
      "needs_background": "light"
     },
     "output_type": "display_data"
    }
   ],
   "source": [
    "reactors = {'s2_reactors':\"\",\n",
    "            's3_reactors':\"\",\n",
    "            's4_reactors':\"\",\n",
    "            's5_reactors':\"\",\n",
    "            's6_reactors':\"\",\n",
    "            's7_reactors':\"\"}\n",
    "for key in reactors:\n",
    "    scenario = key[:2]\n",
    "    reactors[key] = tm.get_prototype_totals(out_files[scenario+'_outfile'], non_lwr, adv_rxs)\n",
    "    plt.plot(reactors[key]['Year'], reactors[key]['advrx_total'], label=scenario)\n",
    "plt.xlabel('Year')\n",
    "plt.ylabel('Number of Reactors')\n",
    "plt.legend()\n",
    "plt.savefig('figures/nogrowth_reactors.png', bbox_inches='tight')"
   ]
  },
  {
   "cell_type": "code",
   "execution_count": 55,
   "id": "1fd05a9d",
   "metadata": {
    "scrolled": true
   },
   "outputs": [
    {
     "name": "stdout",
     "output_type": "stream",
     "text": [
      "Max MMR in S2: 8946.0\n",
      "Max MMR added in one step in S2: 378.0\n",
      "Total number of MMR deployed in S2; 25887.0\n",
      "Max Xe-100 in S2: 0.0\n",
      "Max Xe-100 added in one step in S2: 0.0\n",
      "Total number of Xe-100 deployed in S2; 0.0\n",
      "Max VOYGR in S2: 0.0\n",
      "Max VOYGR added in one step in S2: 0.0\n",
      "Total number of VOYGR deployed in S2; 0.0\n",
      "Max Adv Rx in S2: 8946.0\n",
      "Max Adv Rx added in one step in S2: 378.0\n",
      "Total number of reactors deployed in S2: 25887.0\n",
      "Max MMR in S3: 0.0\n",
      "Max MMR added in one step in S3: 0.0\n",
      "Total number of MMR deployed in S3; 0.0\n",
      "Max Xe-100 in S3: 1193.0\n",
      "Max Xe-100 added in one step in S3: 50.0\n",
      "Total number of Xe-100 deployed in S3; 1193.0\n",
      "Max VOYGR in S3: 0.0\n",
      "Max VOYGR added in one step in S3: 0.0\n",
      "Total number of VOYGR deployed in S3; 0.0\n",
      "Max Adv Rx in S3: 1193.0\n",
      "Max Adv Rx added in one step in S3: 50.0\n",
      "Total number of reactors deployed in S3: 1193.0\n",
      "Max MMR in S4: 623.0\n",
      "Max MMR added in one step in S4: 26.0\n",
      "Total number of MMR deployed in S4; 1587.0\n",
      "Max Xe-100 in S4: 1128.0\n",
      "Max Xe-100 added in one step in S4: 50.0\n",
      "Total number of Xe-100 deployed in S4; 1128.0\n",
      "Max VOYGR in S4: 0.0\n",
      "Max VOYGR added in one step in S4: 0.0\n",
      "Total number of VOYGR deployed in S4; 0.0\n",
      "Max Adv Rx in S4: 1692.0\n",
      "Max Adv Rx added in one step in S4: 58.0\n",
      "Total number of reactors deployed in S4: 2715.0\n",
      "Max MMR in S5: 136.0\n",
      "Max MMR added in one step in S5: 4.0\n",
      "Total number of MMR deployed in S5; 397.0\n",
      "Max Xe-100 in S5: 0.0\n",
      "Max Xe-100 added in one step in S5: 0.0\n",
      "Total number of Xe-100 deployed in S5; 0.0\n",
      "Max VOYGR in S5: 1762.0\n",
      "Max VOYGR added in one step in S5: 75.0\n",
      "Total number of VOYGR deployed in S5; 1762.0\n",
      "Max Adv Rx in S5: 1898.0\n",
      "Max Adv Rx added in one step in S5: 78.0\n",
      "Total number of reactors deployed in S5: 2159.0\n",
      "Max MMR in S6: 0.0\n",
      "Max MMR added in one step in S6: 0.0\n",
      "Total number of MMR deployed in S6; 0.0\n",
      "Max Xe-100 in S6: 1061.0\n",
      "Max Xe-100 added in one step in S6: 47.0\n",
      "Total number of Xe-100 deployed in S6; 1061.0\n",
      "Max VOYGR in S6: 198.0\n",
      "Max VOYGR added in one step in S6: 8.0\n",
      "Total number of VOYGR deployed in S6; 198.0\n",
      "Max Adv Rx in S6: 1259.0\n",
      "Max Adv Rx added in one step in S6: 52.0\n",
      "Total number of reactors deployed in S6: 1259.0\n",
      "Max MMR in S7: 616.0\n",
      "Max MMR added in one step in S7: 26.0\n",
      "Total number of MMR deployed in S7; 1207.0\n",
      "Max Xe-100 in S7: 924.0\n",
      "Max Xe-100 added in one step in S7: 50.0\n",
      "Total number of Xe-100 deployed in S7; 924.0\n",
      "Max VOYGR in S7: 350.0\n",
      "Max VOYGR added in one step in S7: 50.0\n",
      "Total number of VOYGR deployed in S7; 350.0\n",
      "Max Adv Rx in S7: 1768.0\n",
      "Max Adv Rx added in one step in S7: 58.0\n",
      "Total number of reactors deployed in S7: 2481.0\n"
     ]
    }
   ],
   "source": [
    "for key in reactors:\n",
    "    scenario = key[1]\n",
    "    for adv_rx in adv_rxs:\n",
    "        print(f'Max {adv_rx} in S{scenario}:', reactors[key][adv_rx +'_total'].max())\n",
    "        print(f'Max {adv_rx} added in one step in S{scenario}:', reactors[key][adv_rx +'_enter'].max())\n",
    "        prototype_sum = reactors[key][adv_rx +'_enter'].cumsum()\n",
    "        print(f'Total number of {adv_rx} deployed in S{scenario};', prototype_sum.iloc[-1])\n",
    "    print(f'Max Adv Rx in S{scenario}:', reactors[key]['advrx_total'].max())\n",
    "    print(f'Max Adv Rx added in one step in S{scenario}:', reactors[key]['advrx_enter'].max())\n",
    "    advrx_sum = reactors[key]['advrx_enter'].cumsum()\n",
    "    print(f'Total number of reactors deployed in S{scenario}:', advrx_sum.iloc[-1])  "
   ]
  },
  {
   "cell_type": "code",
   "execution_count": 57,
   "id": "b7efd7e1",
   "metadata": {},
   "outputs": [
    {
     "data": {
      "image/png": "[encoded data removed]",
      "text/plain": [
       "<Figure size 432x288 with 1 Axes>"
      ]
     },
     "metadata": {
      "needs_background": "light"
     },
     "output_type": "display_data"
    }
   ],
   "source": [
    "# Energy\n",
    "energy = {'s2_energy':'', 's3_energy':'', 's4_energy':'',\n",
    "          's5_energy':'', 's6_energy':'', 's7_energy':''}\n",
    "for key in energy:\n",
    "    scenario = key[:2]\n",
    "    energy[key] = tm.get_annual_electricity(out_files[scenario + '_outfile'])\n",
    "    plt.plot(energy[key]['Year'], energy[key]['Energy'], label=scenario)\n",
    "plt.plot(np.linspace(2025,2089,65), np.repeat(89.45655, 65), 'k', label='Demand')\n",
    "plt.xlabel('Year')\n",
    "plt.ylabel('Energy (GWe-yr)')\n",
    "plt.legend()\n",
    "plt.savefig('figures/nogrowth_energy.pdf')"
   ]
  },
  {
   "cell_type": "code",
   "execution_count": null,
   "id": "39aabf3a",
   "metadata": {},
   "outputs": [],
   "source": []
  }
 ],
 "metadata": {
  "kernelspec": {
   "display_name": "Python [conda env:cyclus-env] *",
   "language": "python",
   "name": "conda-env-cyclus-env-py"
  },
  "language_info": {
   "codemirror_mode": {
    "name": "ipython",
    "version": 3
   },
   "file_extension": ".py",
   "mimetype": "text/x-python",
   "name": "python",
   "nbconvert_exporter": "python",
   "pygments_lexer": "ipython3",
   "version": "3.6.11"
  }
 },
 "nbformat": 4,
 "nbformat_minor": 5
}
