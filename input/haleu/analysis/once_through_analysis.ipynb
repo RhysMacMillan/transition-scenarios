{
 "cells": [
  {
   "cell_type": "markdown",
   "id": "5d5bd0bb",
   "metadata": {},
   "source": [
    "# Analysis for once-through scenarios\n",
    "This notebook provides analysis for all of the once-through fuel cycle scenarios that are included in \n",
    "Amanda Bachmann's dissertation. Analysis of each scenario includes the number of reactors deployed, the uranium resources, the SWU capacity, and the amount of waste produced. \n",
    "\n",
    "Scenarios are numbers as follows:\n",
    "* 1: LWRs\n",
    "* 2: MMR, no growth\n",
    "* 3: Xe-100, no growth\n",
    "* 4: Xe-100 and MMR, no growth\n",
    "* 5: MMR and VOYGR, no growth\n",
    "* 6: Xe-100 and VOYGR, no growth\n",
    "* 7: Xe-100, MMR, and VOYGR, no growth\n",
    "* 8: MMR, 1% growth\n",
    "* 9: Xe-100, 1% growth\n",
    "* 10: Xe-100 and MMR, 1% growth\n",
    "* 11: MMR and VOYGR, 1% growth\n",
    "* 12: Xe-100 and VOYGR, 1% growth\n",
    "* 13: Xe-100, MMR, and VOYGR, 1% growth\n",
    "\n",
    "Analysis of scenario 1 is performed separately, then the no growth scenarios are all analyzed together, followed by the 1% growth scenarios. "
   ]
  },
  {
   "cell_type": "code",
   "execution_count": 1,
   "id": "9d23def0",
   "metadata": {},
   "outputs": [],
   "source": [
    "import numpy as np\n",
    "import matplotlib.pyplot as plt\n",
    "import pandas as pd\n",
    "import sys\n",
    "\n",
    "import cymetric as cym\n",
    "sys.path.insert(0,'../../../scripts')\n",
    "import transition_metrics as tm"
   ]
  },
  {
   "cell_type": "code",
   "execution_count": 2,
   "id": "2cc66e15",
   "metadata": {},
   "outputs": [],
   "source": [
    "# enrichment assays\n",
    "leu_p = 0.043\n",
    "mmr_p = 0.13\n",
    "xe_p = 0.155\n",
    "voygr_p = 0.0409\n",
    "x_f = 0.00711\n",
    "x_t = 0.002"
   ]
  },
  {
   "cell_type": "markdown",
   "id": "0bcb11c2",
   "metadata": {},
   "source": [
    "## Scenario 1"
   ]
  },
  {
   "cell_type": "code",
   "execution_count": null,
   "id": "cfe76581",
   "metadata": {},
   "outputs": [],
   "source": [
    "s1_outfile = \"../outputs/united_states_2020.sqlite\""
   ]
  },
  {
   "cell_type": "code",
   "execution_count": null,
   "id": "d612711d",
   "metadata": {
    "scrolled": false
   },
   "outputs": [],
   "source": [
    "# Reactor Deployment\n",
    "s1_nonlwr = ['Sink_HLW', 'Sink_LLW', 'Mine', 'Mill', 'Conversion',\n",
    "                 'Enrichment', 'FuelFab', 'DryStorage', 'United States',\n",
    "                 'WetStorage', 'FuelCycle', 'UNITED_STATES_OF_AMERICA']\n",
    "s1_reactors = tm.rx_commission_decommission(s1_outfile, s1_nonlwr)\n",
    "s1_reactors = tm.add_year(s1_reactors)\n",
    "\n",
    "plt.figure(figsize=(7,4))\n",
    "plt.plot(s1_reactors['Year'], s1_reactors['lwr_total'])\n",
    "plt.xlabel('Year', size=16)\n",
    "plt.ylabel('Number of reactors', size=16)\n",
    "plt.xticks(fontsize=14)\n",
    "plt.yticks(fontsize=14)\n",
    "plt.savefig('figures/s1_reactors.pdf')"
   ]
  },
  {
   "cell_type": "code",
   "execution_count": null,
   "id": "ad093e47",
   "metadata": {},
   "outputs": [],
   "source": [
    "s1_metrics = tm.get_metrics(s1_outfile)\n",
    "s1_agents = s1_metrics.eval(\"Agents\")"
   ]
  },
  {
   "cell_type": "code",
   "execution_count": null,
   "id": "f267d604",
   "metadata": {},
   "outputs": [],
   "source": [
    "print('Total Number of LWRs deployed:', len(s1_agents)-12)\n",
    "print('Max LWRs deployed:', s1_reactors['lwr_total'].max())\n",
    "print('LWRS deployed in 2025:', s1_reactors['lwr_total'][721])\n",
    "print(s1_reactors[['lwr_total','Year']][1087:1095])"
   ]
  },
  {
   "cell_type": "code",
   "execution_count": null,
   "id": "ef95d7b9",
   "metadata": {},
   "outputs": [],
   "source": [
    "#Uranium resources sent to reactors\n",
    "s1_transactions = pd.read_csv('current_transactions.csv', \n",
    "                                   usecols = ['Time','Commodity', 'Units',\n",
    "                                             'Quantity','Prototype'])\n",
    "s1_uox = tm.commodity_mass_traded(s1_transactions, 'fresh_uox')\n",
    "plt.figure(figsize=(7,4))\n",
    "plt.plot(s1_uox['Year'], s1_uox['Quantity']/1000)\n",
    "#plt.legend(loc=2)\n",
    "plt.ylabel('Mass (t)')\n",
    "plt.xlabel('Year')\n",
    "plt.xticks(fontsize=14)\n",
    "plt.yticks(fontsize=14)\n",
    "\n",
    "#plt.title('Mass of uranium supplied to all reactors')\n",
    "plt.savefig('figures/s1_fuelsupply.pdf')"
   ]
  },
  {
   "cell_type": "code",
   "execution_count": null,
   "id": "912f97e3",
   "metadata": {},
   "outputs": [],
   "source": [
    "print(s1_uox['Quantity'].max())\n",
    "print(s1_uox['Quantity'].mean())\n",
    "print(s1_uox['Quantity'][721:1089].mean())"
   ]
  },
  {
   "cell_type": "code",
   "execution_count": null,
   "id": "788ff8a8",
   "metadata": {},
   "outputs": [],
   "source": [
    "#Natural uranium needed\n",
    "s1_tails = tm.calculate_tails(s1_uox['Quantity'], leu_p, x_t, x_f)\n",
    "s1_feed = tm.calculate_feed(s1_uox['Quantity'], s1_tails)\n",
    "\n",
    "plt.plot(s1_uox['Year'], s1_feed/1000)\n",
    "plt.xlabel('Year', fontsize=16)\n",
    "plt.ylabel('Mass (t)', fontsize=16)\n",
    "plt.xticks(fontsize=14)\n",
    "plt.yticks(fontsize=14)\n",
    "\n",
    "plt.savefig('figures/s1_feed.pdf')"
   ]
  },
  {
   "cell_type": "code",
   "execution_count": null,
   "id": "5cc72a86",
   "metadata": {},
   "outputs": [],
   "source": [
    "print(s1_feed.max())\n",
    "print(s1_feed.mean())\n",
    "print(s1_feed[721:1089].mean())"
   ]
  },
  {
   "cell_type": "code",
   "execution_count": null,
   "id": "26d19aaf",
   "metadata": {},
   "outputs": [],
   "source": [
    "# SWU capacity \n",
    "s1_swu = tm.calculate_SWU(s1_uox['Quantity'], leu_p, s1_tails, x_t, s1_feed, x_f)\n",
    "plt.plot(s1_uox[\"Year\"], s1_swu)\n",
    "plt.xlabel('Year')\n",
    "plt.ylabel('SWU (kg-SWU)')\n",
    "plt.xticks(fontsize=14)\n",
    "plt.yticks(fontsize=14)\n",
    "\n",
    "plt.savefig('figures/s1_swu.pdf')"
   ]
  },
  {
   "cell_type": "code",
   "execution_count": null,
   "id": "9e83ced8",
   "metadata": {},
   "outputs": [],
   "source": [
    "print(s1_swu.max())\n",
    "print(s1_swu.mean())\n",
    "print(s1_swu[721:1089].mean())"
   ]
  },
  {
   "cell_type": "code",
   "execution_count": null,
   "id": "ecf580e9",
   "metadata": {},
   "outputs": [],
   "source": [
    "# waste discharged\n",
    "s1_waste = tm.commodity_mass_traded(s1_transactions, 'spent_uox')\n",
    "\n",
    "plt.plot(s1_waste['Year'], s1_waste['Quantity']/1000)\n",
    "plt.xlabel('Year', fontsize=16)\n",
    "plt.ylabel('Mass (t)', fontsize=16)\n",
    "plt.xticks(fontsize=14)\n",
    "plt.yticks(fontsize=14)\n",
    "plt.savefig('figures/s1_waste.pdf')"
   ]
  },
  {
   "cell_type": "code",
   "execution_count": null,
   "id": "f59e4b88",
   "metadata": {},
   "outputs": [],
   "source": [
    "print(s1_waste['Quantity'].max())\n",
    "print(s1_waste['Quantity'].mean())\n",
    "print(s1_waste['Quantity'][721:1089].mean())"
   ]
  },
  {
   "cell_type": "markdown",
   "id": "fb4e0c7c",
   "metadata": {},
   "source": [
    "## No growth scenarios"
   ]
  },
  {
   "cell_type": "code",
   "execution_count": 3,
   "id": "effae45e",
   "metadata": {},
   "outputs": [],
   "source": [
    "s2_outfile = \"../outputs/mmr_nogrowth.sqlite\"\n",
    "s3_outfile = \"../outputs/xe100_nogrowth.sqlite\"\n",
    "s4_outfile = \"../outputs/xe100_mmr_nogrowth.sqlite\"\n",
    "s5_outfile = \"../outputs/mmr_voygr_nogrowth.sqlite\"\n",
    "s6_outfile = \"../outputs/xe100_voygr_nogrowth.sqlite\"\n",
    "s7_outfile = \"../outputs/xe100_mmr_voygr_nogrowth.sqlite\""
   ]
  },
  {
   "cell_type": "code",
   "execution_count": 4,
   "id": "38555c74",
   "metadata": {},
   "outputs": [],
   "source": [
    "# Reactor Deployment\n",
    "non_lwr = {'s2': ['Sink_HLW', 'Sink_LLW', 'Mine', 'Mill', 'Conversion',\n",
    "                 'Enrichment', 'FuelFab', 'DryStorage', 'United States',\n",
    "                 'WetStorage', 'FuelCycle', 'UNITED_STATES_OF_AMERICA',\n",
    "                 'MMR_enter', 'MMR_exit'],\n",
    "           's3': ['Sink_HLW', 'Sink_LLW', 'Mine', 'Mill', 'Conversion',\n",
    "                 'Enrichment', 'FuelFab', 'DryStorage', 'United States',\n",
    "                 'WetStorage', 'FuelCycle', 'UNITED_STATES_OF_AMERICA',\n",
    "                 'Xe-100_enter', 'Xe-100_exit'],\n",
    "           's4': ['Sink_HLW', 'Sink_LLW', 'Mine', 'Mill', 'Conversion',\n",
    "                 'Enrichment', 'FuelFab', 'DryStorage', 'United States',\n",
    "                 'WetStorage', 'FuelCycle', 'UNITED_STATES_OF_AMERICA',\n",
    "                 'Xe-100', 'MMR'],\n",
    "           's5': ['Sink_HLW', 'Sink_LLW', 'Mine', 'Mill', 'Conversion',\n",
    "                 'Enrichment', 'FuelFab', 'DryStorage', 'United States',\n",
    "                 'WetStorage', 'FuelCycle', 'UNITED_STATES_OF_AMERICA',\n",
    "                 'MMR_enter', 'MMR_exit', 'VOYGR_enter', 'VOYGR_exit'],\n",
    "           's6': ['Sink_HLW', 'Sink_LLW', 'Mine', 'Mill', 'Conversion',\n",
    "                 'Enrichment', 'FuelFab', 'DryStorage', 'United States',\n",
    "                 'WetStorage', 'FuelCycle', 'UNITED_STATES_OF_AMERICA',\n",
    "                 'Xe-100_enter', 'Xe-100_exit', 'VOYGR_enter', 'VOYGR_exit'],\n",
    "           's7': ['Sink_HLW', 'Sink_LLW', 'Mine', 'Mill', 'Conversion',\n",
    "                 'Enrichment', 'FuelFab', 'DryStorage', 'United States',\n",
    "                 'WetStorage', 'FuelCycle', 'UNITED_STATES_OF_AMERICA',\n",
    "                 'Xe-100_enter', 'Xe-100_exit', 'MMR', 'VOYGR']\n",
    "          }\n",
    "adv_rxs = {'s2':['MMR'], 's3': ['Xe-100'], 's4':['MMR', 'Xe-100'],\n",
    "           's5':['MMR', 'VOYGR'], 's6':['Xe-100', 'VOYGR'], \n",
    "           's7':['Xe-100','MMR', 'VOYGR']}"
   ]
  },
  {
   "cell_type": "code",
   "execution_count": 5,
   "id": "6f376816",
   "metadata": {},
   "outputs": [
    {
     "name": "stderr",
     "output_type": "stream",
     "text": [
      "../../../scripts/transition_metrics.py:173: SettingWithCopyWarning: \n",
      "A value is trying to be set on a copy of a slice from a DataFrame\n",
      "\n",
      "See the caveats in the documentation: https://pandas.pydata.org/pandas-docs/stable/user_guide/indexing.html#returning-a-view-versus-a-copy\n",
      "  df['Year'][index] = np.round(df['Time'][index] / 12 + 1965, 2)\n",
      "../../../scripts/transition_metrics.py:173: SettingWithCopyWarning: \n",
      "A value is trying to be set on a copy of a slice from a DataFrame\n",
      "\n",
      "See the caveats in the documentation: https://pandas.pydata.org/pandas-docs/stable/user_guide/indexing.html#returning-a-view-versus-a-copy\n",
      "  df['Year'][index] = np.round(df['Time'][index] / 12 + 1965, 2)\n",
      "../../../scripts/transition_metrics.py:173: SettingWithCopyWarning: \n",
      "A value is trying to be set on a copy of a slice from a DataFrame\n",
      "\n",
      "See the caveats in the documentation: https://pandas.pydata.org/pandas-docs/stable/user_guide/indexing.html#returning-a-view-versus-a-copy\n",
      "  df['Year'][index] = np.round(df['Time'][index] / 12 + 1965, 2)\n",
      "../../../scripts/transition_metrics.py:173: SettingWithCopyWarning: \n",
      "A value is trying to be set on a copy of a slice from a DataFrame\n",
      "\n",
      "See the caveats in the documentation: https://pandas.pydata.org/pandas-docs/stable/user_guide/indexing.html#returning-a-view-versus-a-copy\n",
      "  df['Year'][index] = np.round(df['Time'][index] / 12 + 1965, 2)\n",
      "../../../scripts/transition_metrics.py:173: SettingWithCopyWarning: \n",
      "A value is trying to be set on a copy of a slice from a DataFrame\n",
      "\n",
      "See the caveats in the documentation: https://pandas.pydata.org/pandas-docs/stable/user_guide/indexing.html#returning-a-view-versus-a-copy\n",
      "  df['Year'][index] = np.round(df['Time'][index] / 12 + 1965, 2)\n",
      "../../../scripts/transition_metrics.py:173: SettingWithCopyWarning: \n",
      "A value is trying to be set on a copy of a slice from a DataFrame\n",
      "\n",
      "See the caveats in the documentation: https://pandas.pydata.org/pandas-docs/stable/user_guide/indexing.html#returning-a-view-versus-a-copy\n",
      "  df['Year'][index] = np.round(df['Time'][index] / 12 + 1965, 2)\n"
     ]
    }
   ],
   "source": [
    "s2_reactors = tm.reactor_totals(s2_outfile, non_lwr['s2'], adv_rxs['s2'])\n",
    "s3_reactors = tm.reactor_totals(s3_outfile, non_lwr['s3'], adv_rxs['s3'])\n",
    "s4_reactors = tm.reactor_totals(s4_outfile, non_lwr['s4'], adv_rxs['s4'])\n",
    "s5_reactors = tm.reactor_totals(s5_outfile, non_lwr['s5'], adv_rxs['s5'])\n",
    "s6_reactors = tm.reactor_totals(s6_outfile, non_lwr['s6'], adv_rxs['s6'])\n",
    "s7_reactors = tm.reactor_totals(s7_outfile, non_lwr['s7'], adv_rxs['s7'])"
   ]
  },
  {
   "cell_type": "code",
   "execution_count": 6,
   "id": "a11889db",
   "metadata": {},
   "outputs": [
    {
     "data": {
      "image/png": "[encoded data removed]",
      "text/plain": [
       "<Figure size 504x288 with 1 Axes>"
      ]
     },
     "metadata": {
      "needs_background": "light"
     },
     "output_type": "display_data"
    }
   ],
   "source": [
    "time = np.linspace(1965,2089, 65)\n",
    "reactors = [s2_reactors, s3_reactors, s4_reactors, s5_reactors, s6_reactors, s7_reactors]\n",
    "plt.figure(figsize=(7,4))\n",
    "for reactor_index, reactor in enumerate(reactors):\n",
    "    plt.plot(reactor['Year'], reactor['advrx_total'], label=reactor_index+2)\n",
    "\n",
    "plt.xlabel('Year', size=16)\n",
    "plt.ylabel('Number of reactors', size=16)\n",
    "plt.xticks(fontsize=14)\n",
    "plt.yticks(fontsize=14)\n",
    "#plt.yscale('log')\n",
    "plt.legend()\n",
    "plt.savefig('figures/nogrowth_reactors.png', bbox_inches='tight')"
   ]
  },
  {
   "cell_type": "code",
   "execution_count": 10,
   "id": "ec73bfca",
   "metadata": {
    "scrolled": true
   },
   "outputs": [
    {
     "name": "stdout",
     "output_type": "stream",
     "text": [
      "Max MMR in S2: 9182.0\n",
      "Max MMR added in one step in S2: 378\n",
      "Total number of MMR deployed in S2; 26681\n",
      "Max Adv Rx in S2: 9182.0\n",
      "Max Adv Rx added in one step in S2: 378\n",
      "Total number of reactors deployed in S2; 26681\n",
      "Max Xe-100 in S3: 1225.0\n",
      "Max Xe-100 added in one step in S3: 50\n",
      "Total number of Xe-100 deployed in S3; 1237\n",
      "Max Adv Rx in S3: 1225.0\n",
      "Max Adv Rx added in one step in S3: 50\n",
      "Total number of reactors deployed in S3; 1237\n",
      "Max MMR in S4: 752.0\n",
      "Max MMR added in one step in S4: 31\n",
      "Total number of MMR deployed in S4; 752\n",
      "Max Xe-100 in S4: 1124.0\n",
      "Max Xe-100 added in one step in S4: 50\n",
      "Total number of Xe-100 deployed in S4; 1124\n",
      "Max Adv Rx in S4: 1876.0\n",
      "Max Adv Rx added in one step in S4: 56\n",
      "Total number of reactors deployed in S4; 1876\n",
      "Max MMR in S5: 127.0\n",
      "Max MMR added in one step in S5: 4\n",
      "Total number of MMR deployed in S5; 366\n",
      "Max VOYGR in S5: 1811.0\n",
      "Max VOYGR added in one step in S5: 75\n",
      "Total number of VOYGR deployed in S5; 1828\n",
      "Max Adv Rx in S5: 1938.0\n",
      "Max Adv Rx added in one step in S5: 78\n",
      "Total number of reactors deployed in S5; 2194\n",
      "Max Xe-100 in S6: 1099.0\n",
      "Max Xe-100 added in one step in S6: 49\n",
      "Total number of Xe-100 deployed in S6; 1108\n",
      "Max VOYGR in S6: 191.0\n",
      "Max VOYGR added in one step in S6: 8\n",
      "Total number of VOYGR deployed in S6; 192\n",
      "Max Adv Rx in S6: 1288.0\n",
      "Max Adv Rx added in one step in S6: 51\n",
      "Total number of reactors deployed in S6; 1300\n",
      "Max Xe-100 in S7: 136.0\n",
      "Max Xe-100 added in one step in S7: 6\n",
      "Total number of Xe-100 deployed in S7; 137\n",
      "Max MMR in S7: 1782.0\n",
      "Max MMR added in one step in S7: 188\n",
      "Total number of MMR deployed in S7; 1782\n",
      "Max VOYGR in S7: 1279.0\n",
      "Max VOYGR added in one step in S7: 75\n",
      "Total number of VOYGR deployed in S7; 1279\n",
      "Max Adv Rx in S7: 3195.0\n",
      "Max Adv Rx added in one step in S7: 191\n",
      "Total number of reactors deployed in S7; 3198\n"
     ]
    }
   ],
   "source": [
    "for reactor_index, reactor in enumerate(reactors):\n",
    "    rx_key = 's'+ str(reactor_index+2)\n",
    "    for value in adv_rxs[rx_key]:\n",
    "        print(f'Max {value} in S{reactor_index+2}:', reactor[value +'_total'].max())\n",
    "        print(f'Max {value} added in one step in S{reactor_index+2}:', reactor[value +'_enter'].max())\n",
    "        prototype_sum = reactor[value +'_enter'].cumsum()\n",
    "        print(f'Total number of {value} deployed in S{reactor_index+2};', prototype_sum.iloc[-1])\n",
    "    print(f'Max Adv Rx in S{reactor_index+2}:', reactor['advrx_total'].max())\n",
    "    print(f'Max Adv Rx added in one step in S{reactor_index+2}:', reactor['advrx_enter'].max())\n",
    "    advrx_sum = reactor['advrx_enter'].cumsum()\n",
    "    print(f'Total number of reactors deployed in S{reactor_index+2};', advrx_sum.iloc[-1])  "
   ]
  },
  {
   "cell_type": "code",
   "execution_count": null,
   "id": "b15b4265",
   "metadata": {},
   "outputs": [],
   "source": []
  }
 ],
 "metadata": {
  "kernelspec": {
   "display_name": "Python [conda env:cyclus-env] *",
   "language": "python",
   "name": "conda-env-cyclus-env-py"
  },
  "language_info": {
   "codemirror_mode": {
    "name": "ipython",
    "version": 3
   },
   "file_extension": ".py",
   "mimetype": "text/x-python",
   "name": "python",
   "nbconvert_exporter": "python",
   "pygments_lexer": "ipython3",
   "version": "3.6.11"
  }
 },
 "nbformat": 4,
 "nbformat_minor": 5
}
