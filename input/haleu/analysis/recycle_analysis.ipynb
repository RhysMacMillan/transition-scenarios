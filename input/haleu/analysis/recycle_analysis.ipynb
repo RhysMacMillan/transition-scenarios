{
 "cells": [
  {
   "cell_type": "markdown",
   "id": "a2267af4",
   "metadata": {},
   "source": [
    "# Analysis for recycle scenarios\n",
    "\n",
    "This notebook provides analysis for all of the recycle scenarios that are included in \n",
    "Amanda Bachmann's disseration. Analysis of each scenario includes the uranium resoucre, \n",
    "SWU capacity and the amount of waste disposed. \n",
    "\n",
    "Scenarios are numbered as follows:\n",
    "* Scenario 14: Limited reycle of all fuel, no energy growth\n",
    "* Scenario 15: Limited recycle of non-TRISO fuel, no energy growth\n",
    "* Scenario 16: Continuous recycle, no energy growth\n",
    "* Scenario 17: Limited recycle of all fuel, 1% eergy growth\n",
    "* Scenario 18: Limited recycle of non-TRISO fuel, 1% energy growth\n",
    "* Scenario 19: Continuos recycle, 1% energy growth"
   ]
  },
  {
   "cell_type": "code",
   "execution_count": 1,
   "id": "4d022288",
   "metadata": {},
   "outputs": [],
   "source": [
    "import numpy as np\n",
    "import pandas as pd\n",
    "import sys\n",
    "import matplotlib.pyplot as plt\n",
    "\n",
    "sys.path.append(\"../../../scripts\")\n",
    "import dataframe_analysis as dfa\n",
    "import transition_metrics as tm"
   ]
  },
  {
   "cell_type": "code",
   "execution_count": 2,
   "id": "e47aa930",
   "metadata": {},
   "outputs": [],
   "source": [
    "# Enrichment Constants\n",
    "assays = {'LWR': 0.043, 'MMR':0.1975, 'Xe-100':0.155, \n",
    "          'VOYGR':0.0409, 'feed':0.00711,'tails':0.002,\n",
    "         'SFR':0.1979}\n",
    "\n",
    "# Reactor Deployment Constants\n",
    "non_lwr = ['Sink_HLW', 'Sink_LLW', 'Mine',\n",
    "                 'LWREnrichment', 'MMREnrichment', 'Xe100Enrichment',\n",
    "                 'VOYGREnrichment','United States',\n",
    "                 'WetStorage', 'FuelCycle', 'UNITED_STATES_OF_AMERICA',\n",
    "                 'MMR', 'Xe-100','VOYGR', 'Xe100_UOX_Cooling',\n",
    "                 'MMR_UOX_Cooling', 'VOYGR_UOX_Cooling',\n",
    "                 'Xe100_MOX_Mixer', 'VOYGR_MOX_Mixer', 'MOXCoolingPool',\n",
    "                 'SeparationsFacility', 'SeparationsInstitution', 'Sink_LWR_UOX', 'SFR']\n",
    "adv_rxs = ['MMR', 'Xe-100', 'VOYGR', 'SFR']\n",
    "\n",
    "#Plotting orders\n",
    "#plotting_order_nogrowth = ['s5','s2','s6','s7','s4','s3']\n",
    "#plotting_order_1percent = ['s11','s08','s12','s13','s10','s09']\n",
    "colors = {'s14':'tab:orange', 's15':'tab:purple','s16':'tab:brown',\n",
    "                   's17':'tab:orange', 's18':'tab:purple','s19':'tab:brown'}\n",
    "lines = {'s14':(0,(3,5,1)), 's15':(0,(5,3)),'s16':'-.',\n",
    "                's17':(0,(3,5,1)), 's18':(0,(5,3)),'s19':'-.',}\n",
    "labels = {'s14':'Scenario 14', 's15':'Scenario 15', 's16':'Scenario 16', 's17':'Scenario 17',\n",
    "         's18':'Scenario 18', 's19':'Scenario 19'}\n",
    "legend_order = [1, 5, 4, 0, 2, 3]\n",
    "\n",
    "# Mass fraction of uranium in fuel for each type of reactor\n",
    "uranium_fractions = {'LWR':1, 'MMR':0.881481, 'Xe-100':0.895285, 'VOYGR':0.881481,\n",
    "                    'SFR':0.9}\n",
    "\n",
    "#Waste commodity names for each type of reactor\n",
    "waste_commodity = {'LWR':'spent_uox', 'MMR':'spent_MMR_haleu',\n",
    "                   'Xe-100':'spent_xe100_haleu', 'VOYGR':'spent_smr_fuel',\n",
    "                  'SFR':'spent_haleu'}\n",
    "uox_commodity = {'LWR':'fresh_uox', 'MMR':'fresh_MMR_uox',\n",
    "                   'Xe-100':'fresh_xe100_uox', 'VOYGR':'fresh_smr_uox', \n",
    "                   'SFR':'fresh_haleu'}\n",
    "mox_commodity = {'Xe-100':'fresh_xe100_mox', 'VOYGR':'fresh_smr_mox',\n",
    "                'SFR':'fresh_reprocessed'}\n",
    "\n",
    "#Time period\n",
    "time = np.linspace(2025, 2089, 65)\n",
    "\n",
    "out_files = {'s14':'../outputs/scenario14.sqlite', 's15':'../outputs/scenario14.sqlite',\n",
    "             's16':'../outputs/scenario16.sqlite', 's17':'../outputs/scenario14.sqlite',\n",
    "             's18':'../outputs/scenario14.sqlite', 's19':'../outputs/scenario14.sqlite'}"
   ]
  },
  {
   "cell_type": "markdown",
   "id": "8e757746",
   "metadata": {},
   "source": [
    "## No growth demand"
   ]
  },
  {
   "cell_type": "markdown",
   "id": "cc9a093f-389c-4bce-94f7-c5464dd39e0f",
   "metadata": {
    "jp-MarkdownHeadingCollapsed": true
   },
   "source": [
    "### Reactor numbers -- match up with once through scenarios"
   ]
  },
  {
   "cell_type": "code",
   "execution_count": null,
   "id": "bd2c758c-38f9-4a52-9371-7fa6c0b21e2f",
   "metadata": {},
   "outputs": [],
   "source": [
    "reactors_nogrowth = {'s14':'','s16':''}\n",
    "plt.figure(0)\n",
    "for scenario in reactors_nogrowth:\n",
    "    reactors_nogrowth[scenario] = tm.get_prototype_totals(out_files[scenario], non_lwr, adv_rxs)\n",
    "    plt.plot(reactors_nogrowth[scenario]['Year'][721:], reactors_nogrowth[scenario]['advrx_total'][721:], \n",
    "             label=labels[scenario],\n",
    "            color = colors[scenario], linestyle=lines[scenario])\n",
    "plt.xlabel('Year', fontsize=16)\n",
    "plt.ylabel('Number of Reactors', fontsize=16)\n",
    "plt.xticks(fontsize=14)\n",
    "plt.yticks(fontsize=14)\n",
    "plt.legend()\n",
    "plt.savefig('figures/nogrowth_recycle_reactors.pdf', bbox_inches='tight')"
   ]
  },
  {
   "cell_type": "code",
   "execution_count": null,
   "id": "6f64ff0d-e6ec-4c38-b0df-b6038545e091",
   "metadata": {},
   "outputs": [],
   "source": [
    "for scenario in reactors_nogrowth:\n",
    "    for adv_rx in adv_rxs:\n",
    "        print(f'Max {adv_rx} in {scenario}:', reactors_nogrowth[key][adv_rx +'_total'].max())\n",
    "        print(f'Max {adv_rx} added in one step in {scenario}:', reactors_nogrowth[key][adv_rx +'_enter'].max())\n",
    "        prototype_sum = reactors_nogrowth[key][adv_rx +'_enter'].cumsum()\n",
    "        print(f'Total number of {adv_rx} deployed in {scenario}:', prototype_sum.iloc[-1])\n",
    "    print(f'Max Adv Rx in {scenario}:', reactors_nogrowth[key]['advrx_total'].max())\n",
    "    print(f'Max Adv Rx added in one step in {scenario}:', reactors_nogrowth[key]['advrx_enter'].max())\n",
    "    advrx_sum = reactors_nogrowth[key]['advrx_enter'].cumsum()\n",
    "    print(f'Total number of reactors deployed in {scenario}:', advrx_sum.iloc[-1])  "
   ]
  },
  {
   "cell_type": "markdown",
   "id": "28c330e9",
   "metadata": {
    "jp-MarkdownHeadingCollapsed": true
   },
   "source": [
    "### Fuel Mass"
   ]
  },
  {
   "cell_type": "code",
   "execution_count": null,
   "id": "c4213b8e",
   "metadata": {},
   "outputs": [],
   "source": [
    "transactions_nogrowth = {'s14':'', 's15':'', 's16':''}\n",
    "\n",
    "for key in transactions_nogrowth:\n",
    "    scenario = key[:3]\n",
    "    transactions_nogrowth[scenario] = tm.add_receiver_prototype(out_files[scenario])"
   ]
  },
  {
   "cell_type": "code",
   "execution_count": null,
   "id": "4ff23c4a",
   "metadata": {},
   "outputs": [],
   "source": [
    "# Divide up fuel mass by prototype\n",
    "uranium_to_reactors = {'s14_MMR':'', 's14_Xe-100':'', 's14_VOYGR':'', 's14_LWR':'',\n",
    "                       's15_MMR':'', 's15_Xe-100':'', 's15_VOYGR':'', 's15_LWR':'',\n",
    "                       's16_SFR':'', 's16_LWR':''}\n",
    "mox_to_reactors = {'s14_Xe-100':'', 's14_VOYGR':'', \n",
    "                   's15_Xe-100':'', 's15_VOYGR':'',\n",
    "                   's16_SFR':''}\n",
    "\n",
    "for key in uranium_to_reactors:\n",
    "    scenario = key[:3]\n",
    "    reactor = key[4:]\n",
    "    if reactor == 'LWR':\n",
    "        uranium_to_reactors[key] = dfa.commodity_to_LWR(transactions_nogrowth[scenario], \n",
    "                                                       'fresh_uox',adv_rxs)\n",
    "    else:\n",
    "        uranium_to_reactors[key] = dfa.commodity_to_prototype(transactions_nogrowth[scenario], \n",
    "                                                       uox_commodity[reactor], reactor)\n",
    "        uranium_to_reactors[key]['Quantity'] = uranium_to_reactors[key]['Quantity']*uranium_fractions[reactor]\n",
    "    if reactor == 'Xe-100' or reactor == 'VOYGR' or reactor == 'SFR':\n",
    "            mox_to_reactors[key] = dfa.commodity_to_prototype(transactions_nogrowth[scenario],\n",
    "                                                     mox_commodity[reactor], reactor)"
   ]
  },
  {
   "cell_type": "code",
   "execution_count": null,
   "id": "014ed016",
   "metadata": {},
   "outputs": [],
   "source": [
    "for scenario in ['s14', 's15', 's16']:\n",
    "    plt.figure(0)\n",
    "    if scenario == 's16':\n",
    "        plt.plot(uranium_to_reactors[scenario + '_SFR']['Year'],\n",
    "                 uranium_to_reactors[scenario + '_SFR']['Quantity']/1000, label = (scenario + ' SFR uox'))\n",
    "    else:\n",
    "        for reactor in ['MMR', 'Xe-100','VOYGR']:\n",
    "            plt.plot(uranium_to_reactors[scenario + '_' + reactor]['Year'],\n",
    "                     uranium_to_reactors[scenario + '_' + reactor]['Quantity']/1000, label = (scenario + ' ' + reactor+' uox'))\n",
    "    plt.legend()\n",
    "\n",
    "    plt.figure(1)\n",
    "    if scenario == 's16':\n",
    "        plt.plot(mox_to_reactors[scenario + '_SFR']['Quantity']/1000, label = (scenario + ' SFR U/TRU'))\n",
    "    else:\n",
    "        for reactor in ['Xe-100', 'VOYGR']:\n",
    "            plt.plot(mox_to_reactors[scenario + '_' + reactor]['Quantity']/1000, label = (scenario + ' ' + reactor+' mox'))\n",
    "    plt.legend()"
   ]
  },
  {
   "cell_type": "code",
   "execution_count": null,
   "id": "e894a60a",
   "metadata": {},
   "outputs": [],
   "source": [
    "for key in transactions_nogrowth:\n",
    "    if key == 's16':\n",
    "        AR_uranium = uranium_to_reactors[key + '_SFR'].copy()\n",
    "    else:\n",
    "        AR_uranium = uranium_to_reactors[key + '_MMR'].copy()\n",
    "        for reactor in ['Xe-100', 'VOYGR']:\n",
    "            AR_uranium['Quantity'] += uranium_to_reactors[key + '_' + reactor]['Quantity']\n",
    "    averages = []\n",
    "    counter = 721\n",
    "    for ii in range(0, 65):\n",
    "        year_data = AR_uranium['Quantity'][counter:counter+12]/1000\n",
    "        averages.append(year_data.mean())\n",
    "        counter +=12\n",
    "        \n",
    "    plt.figure(0)\n",
    "    plt.step(np.linspace(2025, 2089, 65), averages, label=labels[key], \n",
    "            color =colors[key], linestyle=lines[key])\n",
    "    plt.xlabel('Year')\n",
    "    plt.ylabel('Enriched uranium mass (MT)')\n",
    "    plt.legend()\n",
    "    \n",
    "    total_uranium = AR_uranium['Quantity'] + uranium_to_reactors[key + '_LWR']['Quantity']\n",
    "    plt.figure(1)\n",
    "    plt.plot(AR_uranium['Year'], total_uranium/1000, \n",
    "            label = labels[key], color = colors[key], linestyle=lines[key]) \n",
    "    plt.xlabel('Year')\n",
    "    plt.ylabel('Enriched uranium mass (MT)')\n",
    "    plt.legend()\n",
    "    \n",
    "    plt.figure(2)\n",
    "    plt.plot(AR_uranium['Year'][721:], AR_uranium['Quantity'][721:].cumsum()/1000,\n",
    "            label=labels[key], color=colors[key], linestyle = lines[key])\n",
    "    plt.xlabel('Year')\n",
    "    plt.ylabel('Enriched uranium mass (MT)')\n",
    "    plt.legend()\n",
    "\n",
    "    if key == 's16':\n",
    "        total_mox = mox_to_reactors[key+'_SFR']['Quantity']\n",
    "    else:\n",
    "        total_mox = mox_to_reactors[key+'_Xe-100']['Quantity'] + mox_to_reactors[key+'_VOYGR']['Quantity']\n",
    "    plt.figure(3)\n",
    "    plt.plot(AR_uranium['Year'][721:], total_mox[721:]/1000,\n",
    "            label=labels[key], color=colors[key], linestyle = lines[key])\n",
    "    plt.xlabel('Year')\n",
    "    plt.ylabel('MOX Mass (MT)')\n",
    "    plt.legend()"
   ]
  },
  {
   "cell_type": "code",
   "execution_count": null,
   "id": "61039ca9-ce6e-4b42-b618-51bfaa275991",
   "metadata": {},
   "outputs": [],
   "source": [
    "#Reporting uranium masses\n",
    "for scenario in transactions_nogrowth:\n",
    "    if scenario == 's16':\n",
    "        HALEU_mass = uranium_to_reactors[scenario+'_SFR']\n",
    "    else:\n",
    "        HALEU_mass = uranium_to_reactors[scenario+'_MMR'] + uranium_to_reactors[scenario+'_Xe-100']\n",
    "    print('Average HALEU mass in', scenario,'after 2025:', HALEU_mass[721:]['Quantity'].mean()/1000)\n",
    "    if scenario != 's16':\n",
    "        AR_mass = HALEU_mass + uranium_to_reactors[scenario+'_VOYGR']\n",
    "        print('Non-HALEU max in:',scenario, uranium_to_reactors[scenario+'_VOYGR'][721:]['Quantity'].max()/1000)\n",
    "    else:\n",
    "        AR_mass = HALEU_mass\n",
    "    print('Average mass in', scenario, 'after 2025:', \n",
    "          AR_mass[721:]['Quantity'].mean()/1000)\n",
    "    print('Maximum mass in', scenario, 'after 2025:', \n",
    "          AR_mass[721:]['Quantity'].max()/1000)\n",
    "    print('Cumulative mass in', scenario, 'after 2025:',AR_mass[721:]['Quantity'].cumsum()[1499]/1000)"
   ]
  },
  {
   "cell_type": "markdown",
   "id": "f4cfd605-9f31-4956-ab8d-a25d4c92f508",
   "metadata": {
    "jp-MarkdownHeadingCollapsed": true
   },
   "source": [
    "### Feed masses"
   ]
  },
  {
   "cell_type": "code",
   "execution_count": null,
   "id": "36e14e76-273f-47ed-88e7-705ee4ea7a2d",
   "metadata": {},
   "outputs": [],
   "source": [
    "tails_nogrowth = {'s14_MMR':'', 's14_Xe-100':'', 's14_VOYGR':'', 's14_LWR':'',\n",
    "                       's15_MMR':'', 's15_Xe-100':'', 's15_VOYGR':'', 's15_LWR':'',\n",
    "                       's16_SFR':'', 's16_LWR':''}\n",
    "feed_nogrowth = {'s14_MMR':'', 's14_Xe-100':'', 's14_VOYGR':'', 's14_LWR':'',\n",
    "                       's15_MMR':'', 's15_Xe-100':'', 's15_VOYGR':'', 's15_LWR':'',\n",
    "                       's16_SFR':'', 's16_LWR':''}\n",
    "SWU_nogrowth = {'s14_MMR':'', 's14_Xe-100':'', 's14_VOYGR':'', 's14_LWR':'',\n",
    "                       's15_MMR':'', 's15_Xe-100':'', 's15_VOYGR':'', 's15_LWR':'',\n",
    "                       's16_SFR':'', 's16_LWR':''}\n",
    "\n",
    "for key in tails_nogrowth:\n",
    "    reactor = key[4:]\n",
    "    tails_nogrowth[key] = dfa.calculate_tails(uranium_to_reactors[key]['Quantity'],\n",
    "                                    assays[reactor], assays['tails'], assays['feed'])\n",
    "    feed_nogrowth[key] = dfa.calculate_feed(uranium_to_reactors[key]['Quantity'],\n",
    "                                  tails[key])\n",
    "    SWU_nogrowth[key] = dfa.calculate_SWU(uranium_to_reactors[key]['Quantity'], assays[reactor],\n",
    "                                tails[key], assays['tails'], feed[key], assays['feed'])"
   ]
  },
  {
   "cell_type": "code",
   "execution_count": null,
   "id": "796e97ae",
   "metadata": {},
   "outputs": [],
   "source": [
    "# Feed uranium\n",
    "for scenario in transactions_nogrowth:\n",
    "    if scenario == 's16':\n",
    "        AR_feed = feed_nogrowth[scenario + '_SFR'].copy()\n",
    "    else:\n",
    "        AR_feed = feed_nogrowth[scenario + '_MMR'].copy()\n",
    "        for reactor in ['Xe-100','VOYGR']:\n",
    "            AR_feed += feed[scenario + '_' + reactor]\n",
    "    counter = 721\n",
    "    averages = []\n",
    "    for ii in range(0, 65):\n",
    "        year_data = AR_feed[counter:counter+12]/1000\n",
    "        averages.append(year_data.mean())\n",
    "        counter += 12\n",
    "        \n",
    "    plt.figure(0)\n",
    "    plt.step(np.linspace(2025, 2089, 65), averages, label=labels[scenario],\n",
    "            color=colors[scenario], linestyle=lines[scenario])\n",
    "    plt.xlabel('Year')\n",
    "    plt.ylabel('Feed uranium mass (MT)')\n",
    "    plt.legend()\n",
    "    \n",
    "    total_feed = AR_feed + feed_nogrowth[scenario + '_LWR']\n",
    "    plt.figure(1)\n",
    "    plt.plot(uranium_to_reactors[scenario + '_LWR']['Year'], total_feed/1000,\n",
    "            label=labels[scenario], color = colors[scenario], linestyle=lines[scenario])\n",
    "    plt.xlabel('Year')\n",
    "    plt.ylabel('Feed uranium mass (MT)')\n",
    "    plt.legend()\n",
    "    \n",
    "    plt.figure(2)\n",
    "    plt.plot(uranium_to_reactors[scenario + '_LWR']['Year'][721:], total_feed[721:].cumsum()/1000,\n",
    "            label=labels[scenario], color = colors[scenario], linestyle=lines[scenario])\n",
    "    plt.xlabel('Year')\n",
    "    plt.ylabel('Feed uranium mass (MT)')\n",
    "    plt.legend()"
   ]
  },
  {
   "cell_type": "code",
   "execution_count": null,
   "id": "754a7d17-21c6-47c6-a7d9-72b586bca031",
   "metadata": {},
   "outputs": [],
   "source": [
    "#Reporting feed masses\n",
    "for scenario in transactions_nogrowth:\n",
    "    if scenario == 's16':\n",
    "        HALEU_feed = feed_nogrowth[scenario+'_SFR']   \n",
    "        AR_feed = HALEU_feed\n",
    "    else:\n",
    "        HALEU_feed = feed_nogrowth[scenario+'_MMR'] + feed[scenario+'_Xe-100']\n",
    "        AR_feed = HALEU_feed + feed_nogrowth[scenario+'_VOYGR']\n",
    "    print('Average feed for HALEU in',scenario, 'after 2025:', HALEU_feed[721:].mean()/1000)\n",
    "    print('AR Average mass in', scenario, 'after 2025:', AR_feed[721:].mean()/1000)\n",
    "    print('AR Maximum mass in', scenario, 'after 2025:', AR_feed[721:].max()/1000)\n",
    "    print('AR Cumulative mass in', scenario, 'after 2025:', AR_feed[721:].cumsum()[1499]/1000)"
   ]
  },
  {
   "cell_type": "markdown",
   "id": "06ade55d-24b4-4273-a02f-fca39e893ce8",
   "metadata": {
    "jp-MarkdownHeadingCollapsed": true
   },
   "source": [
    "### SWU"
   ]
  },
  {
   "cell_type": "code",
   "execution_count": null,
   "id": "ee9cc11a-bc5e-43bb-ac86-1e2a93160a67",
   "metadata": {},
   "outputs": [],
   "source": [
    "for key in transactions_nogrowth:\n",
    "    if key == 's16':\n",
    "        AR_swu = SWU_nogrowth[key + '_SFR'].copy()\n",
    "    else:\n",
    "        AR_swu = SWU[key + '_MMR'].copy()\n",
    "        for reactor in ['Xe-100','VOYGR']:\n",
    "            AR_swu += SWU[key + '_' + reactor]\n",
    "    counter = 721\n",
    "    averages = []\n",
    "    for ii in range(0, 65):\n",
    "        year_data = AR_swu[counter:counter+12]/1000\n",
    "        averages.append(year_data.mean())\n",
    "        counter += 12\n",
    "        \n",
    "    plt.figure(0)\n",
    "    plt.step(np.linspace(2025, 2089, 65), averages, label=key,\n",
    "            color=colors[key], linestyle=lines[key])\n",
    "    plt.xlabel('Year')\n",
    "    plt.ylabel('SWU Capacity (MT-SWU)')\n",
    "    plt.legend()\n",
    "    \n",
    "    total_swu = AR_swu + SWU[key + '_LWR']\n",
    "    plt.figure(1)\n",
    "    plt.plot(uranium_to_reactors[key + '_LWR']['Year'], total_swu/1000,\n",
    "            label=labels[key], color = colors[key], linestyle=lines[key])\n",
    "    plt.xlabel('Year')\n",
    "    plt.ylabel('SWU Capacity (MT-SWU)')\n",
    "    plt.legend()"
   ]
  },
  {
   "cell_type": "code",
   "execution_count": null,
   "id": "91b12b91-493c-4114-b54f-052a370718ec",
   "metadata": {},
   "outputs": [],
   "source": [
    "#Reporting SWU Requirements\n",
    "for scenario in transactions_nogrowth:\n",
    "    if scenario == 's16':\n",
    "        HALEU_SWU = SWU_nogrowth[scenario+'_SFR']\n",
    "        AR_SWU = HALEU_SWU\n",
    "    else:\n",
    "        HALEU_SWU = SWU_nogrowth[scenario+'_MMR'] + SWU_nogrowth[scenario+'_Xe-100']\n",
    "        AR_SWU = HALEU_SWU + SWU_nogrowth[scenario+'_VOYGR']\n",
    "    print('Average HALEU SWU in', scenario, 'after 2025:', HALEU_SWU[721:].mean()/1000)\n",
    "    print('Average SWU in ', scenario, ':', AR_SWU[721:].mean()/1000)\n",
    "    print('Maximum SWU in ', scenario, ':', AR_SWU[721:].max()/1000)"
   ]
  },
  {
   "cell_type": "markdown",
   "id": "1cbe13cc",
   "metadata": {
    "jp-MarkdownHeadingCollapsed": true
   },
   "source": [
    "### Waste and SNF masses"
   ]
  },
  {
   "cell_type": "code",
   "execution_count": null,
   "id": "4d1024bd",
   "metadata": {},
   "outputs": [],
   "source": [
    "total_waste = {'s14':'', 's15':'', 's16':''} # all material sent to repository\n",
    "mox_waste = {'s14':'', 's15':'', 's16':''} # spent MOX assemblies sent to repository\n",
    "separations_waste = {'s14':'', 's15':'', 's16':''} # Separated waste, HLW\n",
    "transition_waste = {'s14':'', 's15':'', 's16':''} # MOX and Separated waste (SNF + HLW)\n",
    "snf_waste = {'s14':'', 's15':'', 's16':''}\n",
    "\n",
    "for key in total_waste:\n",
    "    total_waste[key] = dfa.transactions_to_prototype(transactions_nogrowth[key], 'Sink_HLW')\n",
    "    LWR_waste = dfa.transactions_to_prototype(transactions_nogrowth[key], 'Sink_LWR_UOX')\n",
    "    total_waste[key]['Quantity'] += LWR_waste['Quantity']\n",
    "\n",
    "    separations_waste[key] = dfa.commodity_to_prototype(transactions_nogrowth[key], 'separated_waste', 'Sink_HLW')\n",
    "    mox_waste[key] = dfa.commodity_to_prototype(transactions_nogrowth[key], 'cool_spent_mox', 'Sink_HLW')\n",
    "    transition_waste[key] = separations_waste[key]['Quantity'] + mox_waste[key]['Quantity']\n",
    "    snf_waste[key] = mox_waste[key]['Quantity'] + LWR_waste['Quantity']\n",
    "        \n",
    "    plt.figure(0)\n",
    "    plt.plot(total_waste[key]['Year'], total_waste[key]['Quantity']/1000, label=labels[key],\n",
    "            color=colors[key], linestyle=lines[key])\n",
    "    plt.xlabel('Year')\n",
    "    plt.ylabel('Waste mass (MT)')\n",
    "    plt.legend()\n",
    "    \n",
    "    #plt.figure(1)\n",
    "    #plt.plot(waste[key]['Year'], waste[key]['Quantity'].cumsum()/1000, label=labels[key],\n",
    "    #        color=colors[key], linestyle=lines[key])\n",
    "    #plt.xlabel('Year')\n",
    "    #plt.ylabel('Waste mass (MT)')\n",
    "    #plt.legend()\n",
    "\n",
    "    plt.figure(2)\n",
    "    plt.plot(mox_waste[key]['Year'][721:], mox_waste[key]['Quantity'][721:]/1000, label=labels[key],\n",
    "            color=colors[key], linestyle=lines[key])\n",
    "    plt.xlabel('Year')\n",
    "    plt.ylabel('Waste mass (MT)')\n",
    "    plt.legend()\n",
    "\n",
    "    plt.figure(3)\n",
    "    plt.plot(separations_waste[key]['Year'][721:], separations_waste[key]['Quantity'][721:]/1000, label=labels[key],\n",
    "            color=colors[key], linestyle=lines[key])\n",
    "    plt.xlabel('Year')\n",
    "    plt.ylabel('Waste mass (MT)')\n",
    "    plt.legend()\n",
    "    \n",
    "    plt.figure(4)\n",
    "    plt.plot(separations_waste[key]['Year'][721:], transition_waste[key][721:]/1000, label=labels[key],\n",
    "            color=colors[key], linestyle=lines[key])\n",
    "    plt.xlabel('Year')\n",
    "    plt.ylabel('Waste mass (MT)')\n",
    "    plt.legend()\n",
    "\n",
    "    plt.figure(5)\n",
    "    plt.plot(separations_waste[key]['Year'][721:], transition_waste[key][721:].cumsum()/1000, label=labels[key],\n",
    "            color=colors[key], linestyle=lines[key])\n",
    "    plt.xlabel('Year')\n",
    "    plt.ylabel('Waste mass (MT)')\n",
    "    plt.legend()\n",
    "    \n",
    "    plt.figure(6)\n",
    "    plt.plot(separations_waste[key]['Year'], snf_waste[key], label=labels[key],\n",
    "            color=colors[key], linestyle=lines[key])\n",
    "    plt.xlabel('Year')\n",
    "    plt.ylabel('Waste mass (MT)')\n",
    "    plt.legend()\n"
   ]
  },
  {
   "cell_type": "code",
   "execution_count": null,
   "id": "ce93af4b-f65a-446a-a538-e83838e9781e",
   "metadata": {},
   "outputs": [],
   "source": [
    "#Reporting waste masses\n",
    "for scenario in transactions_nogrowth:\n",
    "    print('Average MOX waste in', scenario, 'after 2025:', mox_waste[key]['Quantity'][721:].mean()/1000)\n",
    "    print('Average separations waste in', scenario, 'after 2025:', separations_waste[key]['Quantity'][721:].mean()/1000)\n",
    "    print('Average transition waste in', scenario, 'after 2025:', transition_waste[key][721:].mean()/1000)\n",
    "    print('Average SNF waste in', scenario, 'after 2025:', snf_waste[key][721:].mean()/1000)\n",
    "    print('Maximum  in', scenario, ':', transition_waste[key][721:].max()/1000)\n",
    "    print('Cumulative  in', scenario, ':', transition_waste[key][721:].cumsum()[1499]/1000)"
   ]
  },
  {
   "cell_type": "markdown",
   "id": "824736b5",
   "metadata": {},
   "source": [
    "### Separated Pu"
   ]
  },
  {
   "cell_type": "code",
   "execution_count": 3,
   "id": "e5e59adf",
   "metadata": {},
   "outputs": [],
   "source": [
    "sep_pu = {'s14':'', 's15':'', 's16':''}\n",
    "transactions_senders = {'s14':'', 's15':'', 's16':''}\n",
    "for key in sep_pu:\n",
    "    transactions_senders[key] = tm.add_sender_prototype(out_files[key])\n",
    "    sep_pu[key] = dfa.commodity_from_prototype(transactions_senders[key],\n",
    "                                               'separated_fissile',\n",
    "                                               'SeparationsFacility')"
   ]
  },
  {
   "cell_type": "code",
   "execution_count": 5,
   "id": "654a27f2",
   "metadata": {},
   "outputs": [
    {
     "data": {
      "image/png": "[encoded data removed]",
      "text/plain": [
       "<Figure size 640x480 with 1 Axes>"
      ]
     },
     "metadata": {},
     "output_type": "display_data"
    },
    {
     "data": {
      "image/png": "[encoded data removed]",
      "text/plain": [
       "<Figure size 640x480 with 1 Axes>"
      ]
     },
     "metadata": {},
     "output_type": "display_data"
    }
   ],
   "source": [
    "for key in transactions_senders:\n",
    "    counter = 661\n",
    "    averages = []\n",
    "    for ii in range(0, 70):\n",
    "        year_data = sep_pu[key]['Quantity'][counter:counter+12]/1000\n",
    "        averages.append(year_data.mean())\n",
    "        counter += 12\n",
    "        \n",
    "    plt.figure(0)\n",
    "    plt.step(np.linspace(2020, 2089, 70), averages, label=key,\n",
    "            color=colors[key], linestyle=lines[key])\n",
    "    plt.xlabel('Year')\n",
    "    plt.ylabel('Separated Pu Mass (MT)')\n",
    "    plt.legend()\n",
    "    \n",
    "    plt.figure(2)\n",
    "    plt.plot(sep_pu[key]['Year'][661:], sep_pu[key]['Quantity'][661:].cumsum()/1000,\n",
    "            label=labels[key], color = colors[key], linestyle=lines[key])\n",
    "    plt.xlabel('Year')\n",
    "    plt.ylabel('Separated Pu Mass (MT)')\n",
    "    plt.legend()"
   ]
  },
  {
   "cell_type": "code",
   "execution_count": 7,
   "id": "3d942429-6c10-4f17-ae82-1e2cc02d9f71",
   "metadata": {},
   "outputs": [
    {
     "name": "stdout",
     "output_type": "stream",
     "text": [
      "Average transition waste in s14 after 2020: 57.566115662180316\n",
      "Maximum  Sep Pu in s14 : 454.3196487699934\n",
      "Cumulative Sep Pu in s14 : 44844.00410083847\n",
      "Average transition waste in s15 after 2020: 57.566115662180316\n",
      "Maximum  Sep Pu in s15 : 454.3196487699934\n",
      "Cumulative Sep Pu in s15 : 44844.00410083847\n",
      "Average transition waste in s16 after 2020: 57.566115662180316\n",
      "Maximum  Sep Pu in s16 : 454.3196487699934\n",
      "Cumulative Sep Pu in s16 : 44844.00410083847\n"
     ]
    }
   ],
   "source": [
    "#reporting seaparated Pu masses\n",
    "for scenario in transactions_senders:\n",
    "    #waste_mass = waste[scenario]['Quantity']\n",
    "    #print('Average MOX waste in', scenario, 'after 2025:', mox_waste[key]['Quantity'][721:].mean()/1000)\n",
    "    #print('Average separations waste in', scenario, 'after 2025:', separations_waste[key]['Quantity'][721:].mean()/1000)\n",
    "    print('Average transition waste in', scenario, 'after 2020:', sep_pu[key]['Quantity'][721:].mean()/1000)\n",
    "    print('Maximum  Sep Pu in', scenario, ':', sep_pu[key]['Quantity'][721:].max()/1000)\n",
    "    print('Cumulative Sep Pu in', scenario, ':', sep_pu[key]['Quantity'][721:].cumsum()[1499]/1000)"
   ]
  },
  {
   "cell_type": "markdown",
   "id": "498626b9",
   "metadata": {},
   "source": [
    "## 1% growth scenarios"
   ]
  },
  {
   "cell_type": "markdown",
   "id": "a5fc1cab",
   "metadata": {},
   "source": [
    "### Fuel Mass"
   ]
  },
  {
   "cell_type": "code",
   "execution_count": null,
   "id": "07c9bfbf",
   "metadata": {},
   "outputs": [],
   "source": [
    "transactions_1percent = {'s17':'', 's18':'', 's19':''}\n",
    "total_fuel_1percent = {'s17':'', 's18':'', 's19':''}\n",
    "\n",
    "for scenario in ['s17']:\n",
    "    transactions_1percent[scenario] = oup.add_receiver_prototype(out_files[scenario])"
   ]
  },
  {
   "cell_type": "code",
   "execution_count": null,
   "id": "4713589d",
   "metadata": {},
   "outputs": [],
   "source": [
    "# Divide up fuel mass by prototype\n",
    "uranium_to_reactors_1percent = {'s17_MMR':'', 's17_Xe-100':'', 's17_VOYGR':'', 's17_LWR':''}\n",
    "mox_to_reactors_1percent = {'s17_Xe-100':'', 's17_VOYGR':''}\n",
    "\n",
    "for key in uranium_to_reactors:\n",
    "    scenario = key[:3]\n",
    "    reactor = key[4:]\n",
    "    if reactor == 'LWR':\n",
    "        uranium_to_reactors_1percent[key] = dfa.commodity_to_LWR(transactions_1percent[scenario], \n",
    "                                                       'fresh_uox',adv_rxs)\n",
    "    else:\n",
    "        uranium_to_reactors_1percent[key] = dfa.commodity_to_prototype(transactions_1percent[scenario], \n",
    "                                                       uox_commodity[reactor], reactor)\n",
    "        uranium_to_reactors_1percent[key]['Quantity'] = uranium_to_reactors_1percent[key]['Quantity']*uranium_fractions[reactor]\n",
    "    if reactor == 'Xe-100' or reactor == 'VOYGR':\n",
    "            mox_to_reactors_1percent[key] = dfa.commodity_to_prototype(transactions_1percent[scenario],\n",
    "                                                     mox_commodity[reactor], reactor)\n"
   ]
  },
  {
   "cell_type": "code",
   "execution_count": null,
   "id": "ddf8c498",
   "metadata": {},
   "outputs": [],
   "source": [
    "for scenario in ['s17']:\n",
    "    plt.figure()\n",
    "    for reactor in adv_rxs:\n",
    "        plt.plot(uranium_to_reactors_1percent[scenario + '_' + reactor]['Year'],\n",
    "                 uranium_to_reactors_1percent[scenario + '_' + reactor]['Quantity']/1000, label = (scenario + ' ' + reactor+' uox'))\n",
    "    plt.legend()\n",
    "    \n",
    "    plt.figure()\n",
    "    for reactor in ['Xe-100','VOYGR']:\n",
    "        plt.plot(mox_to_reactors_1percent[scenario + '_' + reactor]['Quantity']/1000, label = (scenario + ' ' + reactor+' mox'))\n",
    "    plt.legend()"
   ]
  },
  {
   "cell_type": "code",
   "execution_count": null,
   "id": "b1862d44",
   "metadata": {},
   "outputs": [],
   "source": [
    "for key in ['s17']:\n",
    "    AR_uranium = uranium_to_reactors_1percent[key + '_MMR'].copy()\n",
    "    for reactor in ['Xe-100', 'VOYGR']:\n",
    "        AR_uranium['Quantity'] += uranium_to_reactors_1percent[key + '_' + reactor]['Quantity']\n",
    "    averages = []\n",
    "    counter = 721\n",
    "    for ii in range(0, 65):\n",
    "        year_data = AR_uranium['Quantity'][counter:counter+12]/1000\n",
    "        averages.append(year_data.mean())\n",
    "        counter +=12\n",
    "        \n",
    "    plt.figure(0)\n",
    "    plt.step(np.linspace(2025, 2089, 65), averages, label=labels[key], \n",
    "            color =colors[key], linestyle=lines[key])\n",
    "    plt.xlabel('Year')\n",
    "    plt.ylabel('Enriched uranium mass (MT)')\n",
    "    plt.legend()\n",
    "    \n",
    "    total_uranium = AR_uranium['Quantity'] + uranium_to_reactors_1percent[key + '_LWR']['Quantity']\n",
    "    plt.figure(1)\n",
    "    plt.plot(uranium_to_reactors_1percent[key + '_MMR']['Year'], total_uranium/1000, \n",
    "            label = labels[key], color = colors[key], linestyle=lines[key]) \n",
    "    plt.xlabel('Year')\n",
    "    plt.ylabel('Enriched uranium mass (MT)')\n",
    "    plt.legend()\n",
    "    \n",
    "    plt.figure()\n",
    "    plt.plot(AR_uranium['Year'][721:], AR_uranium['Quantity'][721:].cumsum()/1000,\n",
    "            label=labels[key], color=colors[key], linestyle = lines[key])\n",
    "    plt.xlabel('Year')\n",
    "    plt.ylabel('Enriched uranium mass (MT)')\n",
    "    plt.legend()\n",
    "    \n",
    "    total_mox = mox_to_reactors_1percent[key+'_Xe-100']['Quantity'] + mox_to_reactors_1percent[key+'_Xe-100']['Quantity']\n",
    "    plt.figure()\n",
    "    plt.plot(mox_to_reactors_1percent[key+'_Xe-100']['Year'], total_mox,\n",
    "            label=labels[key], color=colors[key], linestyle = lines[key])\n",
    "    plt.xlabel('Year')\n",
    "    plt.ylabel('MOX Mass (MT)')\n",
    "    plt.legend()"
   ]
  },
  {
   "cell_type": "markdown",
   "id": "aef1ef6b",
   "metadata": {},
   "source": [
    "### Enrichment"
   ]
  },
  {
   "cell_type": "code",
   "execution_count": null,
   "id": "9d448920",
   "metadata": {},
   "outputs": [],
   "source": [
    "tails_1percent = {'s17_MMR':'', 's17_VOYGR':'', 's17_Xe-100':'', 's17_LWR':''}\n",
    "feed_1percent = {'s17_MMR':'', 's17_VOYGR':'', 's17_Xe-100':'', 's17_LWR':''}\n",
    "SWU_1percent = {'s17_MMR':'', 's17_VOYGR':'', 's17_Xe-100':'', 's17_LWR':''}\n",
    "\n",
    "for key in tails_1percent:\n",
    "    reactor = key[4:]\n",
    "    tails_1percent[key] = dfa.calculate_tails(uranium_to_reactors_1percent[key]['Quantity'],\n",
    "                                    assays[reactor], assays['tails'], assays['feed'])\n",
    "    feed_1percent[key] = dfa.calculate_feed(uranium_to_reactors_1percent[key]['Quantity'],\n",
    "                                  tails_1percent[key])\n",
    "    SWU_1percent[key] = dfa.calculate_SWU(uranium_to_reactors_1percent[key]['Quantity'], assays[reactor],\n",
    "                                tails_1percent[key], assays['tails'], feed_1percent[key], assays['feed'])"
   ]
  },
  {
   "cell_type": "code",
   "execution_count": null,
   "id": "5012e518",
   "metadata": {},
   "outputs": [],
   "source": [
    "# feed U\n",
    "for key in ['s17']:\n",
    "    AR_feed = feed_1percent[key + '_MMR'].copy()\n",
    "    for reactor in ['Xe-100','VOYGR']:\n",
    "        AR_feed += feed_1percent[key + '_' + reactor]\n",
    "    counter = 721\n",
    "    averages = []\n",
    "    for ii in range(0, 65):\n",
    "        year_data = AR_feed[counter:counter+12]/1000\n",
    "        averages.append(year_data.mean())\n",
    "        counter += 12\n",
    "        \n",
    "    plt.figure(0)\n",
    "    plt.step(np.linspace(2025, 2089, 65), averages, label=labels[key],\n",
    "            color=colors[key], linestyle=lines[key])\n",
    "    plt.xlabel('Year')\n",
    "    plt.ylabel('Feed uranium mass (MT)')\n",
    "    plt.legend()\n",
    "    \n",
    "    total_feed = AR_feed + feed_1percent[key + '_LWR']\n",
    "    plt.figure(1)\n",
    "    plt.plot(uranium_to_reactors_1percent[key + '_MMR']['Year'], total_feed/1000,\n",
    "            label=labels[key], color = colors[key], linestyle=lines[key])\n",
    "    plt.xlabel('Year')\n",
    "    plt.ylabel('Feed uranium mass (MT)')\n",
    "    plt.legend()\n",
    "    \n",
    "    plt.figure(2)\n",
    "    plt.plot(uranium_to_reactors_1percent[key + '_MMR']['Year'][721:], total_feed[721:].cumsum()/1000,\n",
    "            label=labels[key], color = colors[key], linestyle=lines[key])\n",
    "    plt.xlabel('Year')\n",
    "    plt.ylabel('Feed uranium mass (MT)')\n",
    "    plt.legend()"
   ]
  },
  {
   "cell_type": "code",
   "execution_count": null,
   "id": "fe1c9795",
   "metadata": {},
   "outputs": [],
   "source": [
    "# SWU \n",
    "for key in ['s17']:\n",
    "    AR_swu = SWU_1percent[key + '_MMR'].copy()\n",
    "    for reactor in ['Xe-100','VOYGR']:\n",
    "        AR_swu += SWU_1percent[key + '_' + reactor]\n",
    "    counter = 721\n",
    "    averages = []\n",
    "    for ii in range(0, 65):\n",
    "        year_data = AR_swu[counter:counter+12]/1000\n",
    "        averages.append(year_data.mean())\n",
    "        counter += 12\n",
    "        \n",
    "    plt.figure(0)\n",
    "    plt.step(np.linspace(2025, 2089, 65), averages, label=labels[key],\n",
    "            color=colors[key], linestyle=lines[key])\n",
    "    plt.xlabel('Year')\n",
    "    plt.ylabel('SWU Capacity (MT-SWU)')\n",
    "    plt.legend()\n",
    "    \n",
    "    total_swu = AR_swu + SWU_1percent[key + '_LWR']\n",
    "    plt.figure(1)\n",
    "    plt.plot(uranium_to_reactors_1percent[key + '_MMR']['Year'], total_swu/1000,\n",
    "            label=labels[key], color = colors[key], linestyle=lines[key])\n",
    "    plt.xlabel('Year')\n",
    "    plt.ylabel('SWU Capacity (MT-SWU)')\n",
    "    plt.legend()"
   ]
  },
  {
   "cell_type": "markdown",
   "id": "a8c0f736",
   "metadata": {},
   "source": [
    "### Waste mass -- disposed of in HLW Sink"
   ]
  },
  {
   "cell_type": "code",
   "execution_count": null,
   "id": "988ac4e0",
   "metadata": {},
   "outputs": [],
   "source": [
    "waste_1percent = {'s17':''}\n",
    "for key in waste_1percent:\n",
    "    waste_1percent[key] = dfa.transactions_to_prototype(transactions_1percent[key], 'Sink_HLW')\n",
    "    LWR_waste = dfa.transactions_to_prototype(transactions_1percent[key], 'Sink_LWR_UOX')\n",
    "    waste_1percent[key]['Quantity'] += LWR_waste['Quantity']\n",
    "    plt.figure(0)\n",
    "    plt.plot(waste_1percent[key]['Year'], waste_1percent[key]['Quantity']/1000, label=labels[key],\n",
    "            color=colors[key], linestyle=lines[key])\n",
    "    plt.xlabel('Year')\n",
    "    plt.ylabel('Waste mass (MT)')\n",
    "    plt.legend()\n",
    "    \n",
    "    plt.figure(1)\n",
    "    plt.plot(waste_1percent[key]['Year'], waste_1percent[key]['Quantity'].cumsum()/1000, label=labels[key],\n",
    "            color=colors[key], linestyle=lines[key])\n",
    "    plt.xlabel('Year')\n",
    "    plt.ylabel('Waste mass (MT)')\n",
    "    plt.legend()"
   ]
  },
  {
   "cell_type": "markdown",
   "id": "77d05c04",
   "metadata": {},
   "source": [
    "### Separated Pu"
   ]
  },
  {
   "cell_type": "code",
   "execution_count": null,
   "id": "1ea080ca",
   "metadata": {},
   "outputs": [],
   "source": [
    "sep_pu_1percent = {'s17':''}\n",
    "\n",
    "for key in sep_pu_1percent:\n",
    "    transactions = oup.add_sender_prototype(out_files[key])\n",
    "    sep_pu_1percent[key] = dfa.commodity_from_prototype(transactions,\n",
    "                                               'separated_fissile',\n",
    "                                               'SeparationsFacility')"
   ]
  },
  {
   "cell_type": "code",
   "execution_count": null,
   "id": "f52cc4b1",
   "metadata": {},
   "outputs": [],
   "source": [
    "for key in ['s17']:\n",
    "    counter = 661\n",
    "    averages = []\n",
    "    for ii in range(0, 70):\n",
    "        year_data = sep_pu_1percent[key]['Quantity'][counter:counter+12]/1000\n",
    "        averages.append(year_data.mean())\n",
    "        counter += 12\n",
    "        \n",
    "    plt.figure(0)\n",
    "    plt.step(np.linspace(2020, 2089, 70), averages, label=key,\n",
    "            color=colors[key], linestyle=lines[key])\n",
    "    plt.xlabel('Year')\n",
    "    plt.ylabel('Separated Pu Mass (MT)')\n",
    "    plt.legend()\n",
    "    \n",
    "    plt.figure(2)\n",
    "    plt.plot(sep_pu_1percent[key]['Year'][661:], sep_pu_1percent[key]['Quantity'][661:].cumsum()/1000,\n",
    "            label=labels[key], color = colors[key], linestyle=lines[key])\n",
    "    plt.xlabel('Year')\n",
    "    plt.ylabel('Separated Pu Mass (MT)')\n",
    "    plt.legend()"
   ]
  },
  {
   "cell_type": "code",
   "execution_count": null,
   "id": "32cc0c7f",
   "metadata": {},
   "outputs": [],
   "source": []
  }
 ],
 "metadata": {
  "kernelspec": {
   "display_name": "Python 3 (ipykernel)",
   "language": "python",
   "name": "python3"
  },
  "language_info": {
   "codemirror_mode": {
    "name": "ipython",
    "version": 3
   },
   "file_extension": ".py",
   "mimetype": "text/x-python",
   "name": "python",
   "nbconvert_exporter": "python",
   "pygments_lexer": "ipython3",
   "version": "3.10.12"
  }
 },
 "nbformat": 4,
 "nbformat_minor": 5
}
